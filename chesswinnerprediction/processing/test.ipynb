{
 "cells": [
  {
   "cell_type": "code",
   "id": "initial_id",
   "metadata": {
    "collapsed": true,
    "ExecuteTime": {
     "end_time": "2024-07-24T13:40:21.040863Z",
     "start_time": "2024-07-24T13:40:21.035647Z"
    }
   },
   "source": [
    "import ast\n",
    "\n",
    "import numpy as np\n",
    "import pandas as pd\n",
    "\n",
    "from config import ROOT_DIR"
   ],
   "outputs": [],
   "execution_count": 17
  },
  {
   "metadata": {
    "ExecuteTime": {
     "end_time": "2024-07-24T13:40:23.415355Z",
     "start_time": "2024-07-24T13:40:21.383792Z"
    }
   },
   "cell_type": "code",
   "source": "df = pd.read_csv(ROOT_DIR + \"/data/raw/lichess_db_standard_rated_2018-02/data_0.csv\")",
   "id": "7039f1ef599fb793",
   "outputs": [],
   "execution_count": 18
  },
  {
   "metadata": {
    "ExecuteTime": {
     "end_time": "2024-07-24T14:30:10.894519Z",
     "start_time": "2024-07-24T14:30:10.770168Z"
    }
   },
   "cell_type": "code",
   "source": [
    "df[[\"BaseTime\", \"IncrementTime\"]] = df[\"TimeControl\"].str.split(\"+\", expand=True)\n",
    "df[\"BaseTime\"] = df[\"BaseTime\"].astype(np.int16)\n",
    "df[\"IncrementTime\"] = df[\"IncrementTime\"].astype(np.int16)"
   ],
   "id": "cd510f6a666ddf25",
   "outputs": [],
   "execution_count": 97
  },
  {
   "metadata": {
    "ExecuteTime": {
     "end_time": "2024-07-24T13:40:23.873849Z",
     "start_time": "2024-07-24T13:40:23.855592Z"
    }
   },
   "cell_type": "code",
   "source": "df.head()",
   "id": "73500c064e4ecfd2",
   "outputs": [
    {
     "data": {
      "text/plain": [
       "                  Event                          Site          White  \\\n",
       "0     Rated Bullet game  https://lichess.org/PnoVpOEg  MaggieSimpson   \n",
       "1     Rated Bullet game  https://lichess.org/9nDHcoZY        fred314   \n",
       "2  Rated Classical game  https://lichess.org/JqsK8a3O        Marco74   \n",
       "3   Rated Standard game  https://lichess.org/ciXTg6ei      Acemoneyg   \n",
       "4     Rated Bullet game  https://lichess.org/74YofaHW         Radrax   \n",
       "\n",
       "           Black Result  WhiteElo  BlackElo  WhiteRatingDiff  BlackRatingDiff  \\\n",
       "0    bcleary2000    0-1      2107      2164             -9.0              9.0   \n",
       "1         Rlimab    1-0      1220      1054              6.0            -13.0   \n",
       "2     TheMeerkat    0-1      1475      1614             -7.0             51.0   \n",
       "3  ScorchedToast    0-1       964       951            -11.0             12.0   \n",
       "4          Gommo    0-1      1170      1136            -27.0             41.0   \n",
       "\n",
       "   ECO                                  Opening TimeControl   Termination  \\\n",
       "0  A80                            Dutch Defense        60+0        Normal   \n",
       "1  B23       Sicilian Defense: Closed Variation        60+0  Time forfeit   \n",
       "2  D01    Queen's Pawn Game: Chigorin Variation     1500+10        Normal   \n",
       "3  C44  King's Knight Opening: Normal Variation       600+0        Normal   \n",
       "4  A40                             Queen's Pawn       120+1  Time forfeit   \n",
       "\n",
       "                                    chess_moves_list  \\\n",
       "0  ['d4', 'f5', 'Nf3', 'd5', 'g3', 'Nf6', 'Bg2', ...   \n",
       "1  ['e4', 'c5', 'Nc3', 'a6', 'd4', 'e6', 'dxc5', ...   \n",
       "2  ['d4', 'Nf6', 'Nc3', 'd5', 'Nf3', 'e6', 'a3', ...   \n",
       "3  ['e4', 'e5', 'Nf3', 'Nc6', 'b3', 'Nf6', 'Bb2',...   \n",
       "4  ['d4', 'a6', 'Bf4', 'b5', 'Nc3', 'Bb7', 'Nf3',...   \n",
       "\n",
       "                                    evaluations_list  \\\n",
       "0  ['0.08', '0.47', '0.22', '0.7', '0.62', '0.37'...   \n",
       "1  ['0.09', '0.17', '0.0', '0.08', '0.0', '0.54',...   \n",
       "2  ['0.08', '0.13', '-0.06', '-0.12', '-0.21', '-...   \n",
       "3  ['0.09', '0.23', '0.25', '0.26', '-0.25', '0.0...   \n",
       "4  ['0.08', '0.46', '0.36', '0.79', '0.15', '0.14...   \n",
       "\n",
       "                                          times_list  \n",
       "0  ['0:01:00', '0:01:00', '0:01:00', '0:00:59', '...  \n",
       "1  ['0:01:00', '0:01:00', '0:00:59', '0:00:59', '...  \n",
       "2  ['0:25:00', '0:25:00', '0:25:07', '0:25:05', '...  \n",
       "3  ['0:10:00', '0:10:00', '0:09:59', '0:09:56', '...  \n",
       "4  ['0:02:00', '0:02:00', '0:02:00', '0:01:59', '...  "
      ],
      "text/html": [
       "<div>\n",
       "<style scoped>\n",
       "    .dataframe tbody tr th:only-of-type {\n",
       "        vertical-align: middle;\n",
       "    }\n",
       "\n",
       "    .dataframe tbody tr th {\n",
       "        vertical-align: top;\n",
       "    }\n",
       "\n",
       "    .dataframe thead th {\n",
       "        text-align: right;\n",
       "    }\n",
       "</style>\n",
       "<table border=\"1\" class=\"dataframe\">\n",
       "  <thead>\n",
       "    <tr style=\"text-align: right;\">\n",
       "      <th></th>\n",
       "      <th>Event</th>\n",
       "      <th>Site</th>\n",
       "      <th>White</th>\n",
       "      <th>Black</th>\n",
       "      <th>Result</th>\n",
       "      <th>WhiteElo</th>\n",
       "      <th>BlackElo</th>\n",
       "      <th>WhiteRatingDiff</th>\n",
       "      <th>BlackRatingDiff</th>\n",
       "      <th>ECO</th>\n",
       "      <th>Opening</th>\n",
       "      <th>TimeControl</th>\n",
       "      <th>Termination</th>\n",
       "      <th>chess_moves_list</th>\n",
       "      <th>evaluations_list</th>\n",
       "      <th>times_list</th>\n",
       "    </tr>\n",
       "  </thead>\n",
       "  <tbody>\n",
       "    <tr>\n",
       "      <th>0</th>\n",
       "      <td>Rated Bullet game</td>\n",
       "      <td>https://lichess.org/PnoVpOEg</td>\n",
       "      <td>MaggieSimpson</td>\n",
       "      <td>bcleary2000</td>\n",
       "      <td>0-1</td>\n",
       "      <td>2107</td>\n",
       "      <td>2164</td>\n",
       "      <td>-9.0</td>\n",
       "      <td>9.0</td>\n",
       "      <td>A80</td>\n",
       "      <td>Dutch Defense</td>\n",
       "      <td>60+0</td>\n",
       "      <td>Normal</td>\n",
       "      <td>['d4', 'f5', 'Nf3', 'd5', 'g3', 'Nf6', 'Bg2', ...</td>\n",
       "      <td>['0.08', '0.47', '0.22', '0.7', '0.62', '0.37'...</td>\n",
       "      <td>['0:01:00', '0:01:00', '0:01:00', '0:00:59', '...</td>\n",
       "    </tr>\n",
       "    <tr>\n",
       "      <th>1</th>\n",
       "      <td>Rated Bullet game</td>\n",
       "      <td>https://lichess.org/9nDHcoZY</td>\n",
       "      <td>fred314</td>\n",
       "      <td>Rlimab</td>\n",
       "      <td>1-0</td>\n",
       "      <td>1220</td>\n",
       "      <td>1054</td>\n",
       "      <td>6.0</td>\n",
       "      <td>-13.0</td>\n",
       "      <td>B23</td>\n",
       "      <td>Sicilian Defense: Closed Variation</td>\n",
       "      <td>60+0</td>\n",
       "      <td>Time forfeit</td>\n",
       "      <td>['e4', 'c5', 'Nc3', 'a6', 'd4', 'e6', 'dxc5', ...</td>\n",
       "      <td>['0.09', '0.17', '0.0', '0.08', '0.0', '0.54',...</td>\n",
       "      <td>['0:01:00', '0:01:00', '0:00:59', '0:00:59', '...</td>\n",
       "    </tr>\n",
       "    <tr>\n",
       "      <th>2</th>\n",
       "      <td>Rated Classical game</td>\n",
       "      <td>https://lichess.org/JqsK8a3O</td>\n",
       "      <td>Marco74</td>\n",
       "      <td>TheMeerkat</td>\n",
       "      <td>0-1</td>\n",
       "      <td>1475</td>\n",
       "      <td>1614</td>\n",
       "      <td>-7.0</td>\n",
       "      <td>51.0</td>\n",
       "      <td>D01</td>\n",
       "      <td>Queen's Pawn Game: Chigorin Variation</td>\n",
       "      <td>1500+10</td>\n",
       "      <td>Normal</td>\n",
       "      <td>['d4', 'Nf6', 'Nc3', 'd5', 'Nf3', 'e6', 'a3', ...</td>\n",
       "      <td>['0.08', '0.13', '-0.06', '-0.12', '-0.21', '-...</td>\n",
       "      <td>['0:25:00', '0:25:00', '0:25:07', '0:25:05', '...</td>\n",
       "    </tr>\n",
       "    <tr>\n",
       "      <th>3</th>\n",
       "      <td>Rated Standard game</td>\n",
       "      <td>https://lichess.org/ciXTg6ei</td>\n",
       "      <td>Acemoneyg</td>\n",
       "      <td>ScorchedToast</td>\n",
       "      <td>0-1</td>\n",
       "      <td>964</td>\n",
       "      <td>951</td>\n",
       "      <td>-11.0</td>\n",
       "      <td>12.0</td>\n",
       "      <td>C44</td>\n",
       "      <td>King's Knight Opening: Normal Variation</td>\n",
       "      <td>600+0</td>\n",
       "      <td>Normal</td>\n",
       "      <td>['e4', 'e5', 'Nf3', 'Nc6', 'b3', 'Nf6', 'Bb2',...</td>\n",
       "      <td>['0.09', '0.23', '0.25', '0.26', '-0.25', '0.0...</td>\n",
       "      <td>['0:10:00', '0:10:00', '0:09:59', '0:09:56', '...</td>\n",
       "    </tr>\n",
       "    <tr>\n",
       "      <th>4</th>\n",
       "      <td>Rated Bullet game</td>\n",
       "      <td>https://lichess.org/74YofaHW</td>\n",
       "      <td>Radrax</td>\n",
       "      <td>Gommo</td>\n",
       "      <td>0-1</td>\n",
       "      <td>1170</td>\n",
       "      <td>1136</td>\n",
       "      <td>-27.0</td>\n",
       "      <td>41.0</td>\n",
       "      <td>A40</td>\n",
       "      <td>Queen's Pawn</td>\n",
       "      <td>120+1</td>\n",
       "      <td>Time forfeit</td>\n",
       "      <td>['d4', 'a6', 'Bf4', 'b5', 'Nc3', 'Bb7', 'Nf3',...</td>\n",
       "      <td>['0.08', '0.46', '0.36', '0.79', '0.15', '0.14...</td>\n",
       "      <td>['0:02:00', '0:02:00', '0:02:00', '0:01:59', '...</td>\n",
       "    </tr>\n",
       "  </tbody>\n",
       "</table>\n",
       "</div>"
      ]
     },
     "execution_count": 19,
     "metadata": {},
     "output_type": "execute_result"
    }
   ],
   "execution_count": 19
  },
  {
   "metadata": {
    "ExecuteTime": {
     "end_time": "2024-07-24T14:33:52.991818Z",
     "start_time": "2024-07-24T14:33:52.979888Z"
    }
   },
   "cell_type": "code",
   "source": [
    "def time_str_to_seconds(time_str):\n",
    "    h, m, s = map(int, time_str.split(\":\"))\n",
    "    return h * 3600 + m * 60 + s\n",
    "\n",
    "\n",
    "def calc_game_duration(time_and_increment):\n",
    "    time_list, increment_time = time_and_increment.values\n",
    "    increment = (len(times) - 2) * increment_time\n",
    "    return sum(time_list[:2]) - sum(time_list[-2:]) + increment\n",
    "\n",
    "\n",
    "def parse_time_list_to_seconds(time_list_str):\n",
    "    time_list = time_list_str[2:-2].split(\"', '\")\n",
    "    return [time_str_to_seconds(time_str) for time_str in time_list]"
   ],
   "id": "7576dbaa2274e751",
   "outputs": [],
   "execution_count": 106
  },
  {
   "metadata": {
    "ExecuteTime": {
     "end_time": "2024-07-24T13:45:35.016007Z",
     "start_time": "2024-07-24T13:45:30.344810Z"
    }
   },
   "cell_type": "code",
   "source": [
    "%%time\n",
    "df[\"time_in_seconds\"] = df[\"times_list\"].apply(parse_time_list_to_seconds)"
   ],
   "id": "8d5794a695603e8d",
   "outputs": [
    {
     "name": "stdout",
     "output_type": "stream",
     "text": [
      "CPU times: user 4.6 s, sys: 52.1 ms, total: 4.65 s\n",
      "Wall time: 4.67 s\n"
     ]
    }
   ],
   "execution_count": 31
  },
  {
   "metadata": {
    "ExecuteTime": {
     "end_time": "2024-07-24T14:34:05.116141Z",
     "start_time": "2024-07-24T14:34:04.514199Z"
    }
   },
   "cell_type": "code",
   "source": "df[\"total_time\"] = df[[\"time_in_seconds\", \"IncrementTime\"]].apply(calc_game_duration, axis=1)",
   "id": "b99dda9679279a1b",
   "outputs": [],
   "execution_count": 109
  },
  {
   "metadata": {
    "ExecuteTime": {
     "end_time": "2024-07-24T14:34:05.142166Z",
     "start_time": "2024-07-24T14:34:05.126138Z"
    }
   },
   "cell_type": "code",
   "source": "df.head()",
   "id": "c642a1b44e5be48",
   "outputs": [
    {
     "data": {
      "text/plain": [
       "                  Event                          Site          White  \\\n",
       "0     Rated Bullet game  https://lichess.org/PnoVpOEg  MaggieSimpson   \n",
       "1     Rated Bullet game  https://lichess.org/9nDHcoZY        fred314   \n",
       "2  Rated Classical game  https://lichess.org/JqsK8a3O        Marco74   \n",
       "3   Rated Standard game  https://lichess.org/ciXTg6ei      Acemoneyg   \n",
       "4     Rated Bullet game  https://lichess.org/74YofaHW         Radrax   \n",
       "\n",
       "           Black Result  WhiteElo  BlackElo  WhiteRatingDiff  BlackRatingDiff  \\\n",
       "0    bcleary2000    0-1      2107      2164             -9.0              9.0   \n",
       "1         Rlimab    1-0      1220      1054              6.0            -13.0   \n",
       "2     TheMeerkat    0-1      1475      1614             -7.0             51.0   \n",
       "3  ScorchedToast    0-1       964       951            -11.0             12.0   \n",
       "4          Gommo    0-1      1170      1136            -27.0             41.0   \n",
       "\n",
       "   ECO                                  Opening TimeControl   Termination  \\\n",
       "0  A80                            Dutch Defense        60+0        Normal   \n",
       "1  B23       Sicilian Defense: Closed Variation        60+0  Time forfeit   \n",
       "2  D01    Queen's Pawn Game: Chigorin Variation     1500+10        Normal   \n",
       "3  C44  King's Knight Opening: Normal Variation       600+0        Normal   \n",
       "4  A40                             Queen's Pawn       120+1  Time forfeit   \n",
       "\n",
       "                                    chess_moves_list  \\\n",
       "0  ['d4', 'f5', 'Nf3', 'd5', 'g3', 'Nf6', 'Bg2', ...   \n",
       "1  ['e4', 'c5', 'Nc3', 'a6', 'd4', 'e6', 'dxc5', ...   \n",
       "2  ['d4', 'Nf6', 'Nc3', 'd5', 'Nf3', 'e6', 'a3', ...   \n",
       "3  ['e4', 'e5', 'Nf3', 'Nc6', 'b3', 'Nf6', 'Bb2',...   \n",
       "4  ['d4', 'a6', 'Bf4', 'b5', 'Nc3', 'Bb7', 'Nf3',...   \n",
       "\n",
       "                                    evaluations_list  \\\n",
       "0  ['0.08', '0.47', '0.22', '0.7', '0.62', '0.37'...   \n",
       "1  ['0.09', '0.17', '0.0', '0.08', '0.0', '0.54',...   \n",
       "2  ['0.08', '0.13', '-0.06', '-0.12', '-0.21', '-...   \n",
       "3  ['0.09', '0.23', '0.25', '0.26', '-0.25', '0.0...   \n",
       "4  ['0.08', '0.46', '0.36', '0.79', '0.15', '0.14...   \n",
       "\n",
       "                                          times_list  \\\n",
       "0  ['0:01:00', '0:01:00', '0:01:00', '0:00:59', '...   \n",
       "1  ['0:01:00', '0:01:00', '0:00:59', '0:00:59', '...   \n",
       "2  ['0:25:00', '0:25:00', '0:25:07', '0:25:05', '...   \n",
       "3  ['0:10:00', '0:10:00', '0:09:59', '0:09:56', '...   \n",
       "4  ['0:02:00', '0:02:00', '0:02:00', '0:01:59', '...   \n",
       "\n",
       "                                     time_in_seconds  total_time  BaseTime  \\\n",
       "0  [60, 60, 60, 59, 59, 59, 59, 59, 59, 58, 59, 5...         108        60   \n",
       "1  [60, 60, 59, 59, 58, 58, 56, 57, 53, 54, 51, 5...         106        60   \n",
       "2  [1500, 1500, 1507, 1505, 1509, 1510, 1517, 151...         836      1500   \n",
       "3  [600, 600, 599, 596, 592, 588, 591, 584, 589, ...         240       600   \n",
       "4  [120, 120, 120, 119, 118, 118, 116, 117, 112, ...         212       120   \n",
       "\n",
       "   IncrementTime  \n",
       "0              0  \n",
       "1              0  \n",
       "2             10  \n",
       "3              0  \n",
       "4              1  "
      ],
      "text/html": [
       "<div>\n",
       "<style scoped>\n",
       "    .dataframe tbody tr th:only-of-type {\n",
       "        vertical-align: middle;\n",
       "    }\n",
       "\n",
       "    .dataframe tbody tr th {\n",
       "        vertical-align: top;\n",
       "    }\n",
       "\n",
       "    .dataframe thead th {\n",
       "        text-align: right;\n",
       "    }\n",
       "</style>\n",
       "<table border=\"1\" class=\"dataframe\">\n",
       "  <thead>\n",
       "    <tr style=\"text-align: right;\">\n",
       "      <th></th>\n",
       "      <th>Event</th>\n",
       "      <th>Site</th>\n",
       "      <th>White</th>\n",
       "      <th>Black</th>\n",
       "      <th>Result</th>\n",
       "      <th>WhiteElo</th>\n",
       "      <th>BlackElo</th>\n",
       "      <th>WhiteRatingDiff</th>\n",
       "      <th>BlackRatingDiff</th>\n",
       "      <th>ECO</th>\n",
       "      <th>Opening</th>\n",
       "      <th>TimeControl</th>\n",
       "      <th>Termination</th>\n",
       "      <th>chess_moves_list</th>\n",
       "      <th>evaluations_list</th>\n",
       "      <th>times_list</th>\n",
       "      <th>time_in_seconds</th>\n",
       "      <th>total_time</th>\n",
       "      <th>BaseTime</th>\n",
       "      <th>IncrementTime</th>\n",
       "    </tr>\n",
       "  </thead>\n",
       "  <tbody>\n",
       "    <tr>\n",
       "      <th>0</th>\n",
       "      <td>Rated Bullet game</td>\n",
       "      <td>https://lichess.org/PnoVpOEg</td>\n",
       "      <td>MaggieSimpson</td>\n",
       "      <td>bcleary2000</td>\n",
       "      <td>0-1</td>\n",
       "      <td>2107</td>\n",
       "      <td>2164</td>\n",
       "      <td>-9.0</td>\n",
       "      <td>9.0</td>\n",
       "      <td>A80</td>\n",
       "      <td>Dutch Defense</td>\n",
       "      <td>60+0</td>\n",
       "      <td>Normal</td>\n",
       "      <td>['d4', 'f5', 'Nf3', 'd5', 'g3', 'Nf6', 'Bg2', ...</td>\n",
       "      <td>['0.08', '0.47', '0.22', '0.7', '0.62', '0.37'...</td>\n",
       "      <td>['0:01:00', '0:01:00', '0:01:00', '0:00:59', '...</td>\n",
       "      <td>[60, 60, 60, 59, 59, 59, 59, 59, 59, 58, 59, 5...</td>\n",
       "      <td>108</td>\n",
       "      <td>60</td>\n",
       "      <td>0</td>\n",
       "    </tr>\n",
       "    <tr>\n",
       "      <th>1</th>\n",
       "      <td>Rated Bullet game</td>\n",
       "      <td>https://lichess.org/9nDHcoZY</td>\n",
       "      <td>fred314</td>\n",
       "      <td>Rlimab</td>\n",
       "      <td>1-0</td>\n",
       "      <td>1220</td>\n",
       "      <td>1054</td>\n",
       "      <td>6.0</td>\n",
       "      <td>-13.0</td>\n",
       "      <td>B23</td>\n",
       "      <td>Sicilian Defense: Closed Variation</td>\n",
       "      <td>60+0</td>\n",
       "      <td>Time forfeit</td>\n",
       "      <td>['e4', 'c5', 'Nc3', 'a6', 'd4', 'e6', 'dxc5', ...</td>\n",
       "      <td>['0.09', '0.17', '0.0', '0.08', '0.0', '0.54',...</td>\n",
       "      <td>['0:01:00', '0:01:00', '0:00:59', '0:00:59', '...</td>\n",
       "      <td>[60, 60, 59, 59, 58, 58, 56, 57, 53, 54, 51, 5...</td>\n",
       "      <td>106</td>\n",
       "      <td>60</td>\n",
       "      <td>0</td>\n",
       "    </tr>\n",
       "    <tr>\n",
       "      <th>2</th>\n",
       "      <td>Rated Classical game</td>\n",
       "      <td>https://lichess.org/JqsK8a3O</td>\n",
       "      <td>Marco74</td>\n",
       "      <td>TheMeerkat</td>\n",
       "      <td>0-1</td>\n",
       "      <td>1475</td>\n",
       "      <td>1614</td>\n",
       "      <td>-7.0</td>\n",
       "      <td>51.0</td>\n",
       "      <td>D01</td>\n",
       "      <td>Queen's Pawn Game: Chigorin Variation</td>\n",
       "      <td>1500+10</td>\n",
       "      <td>Normal</td>\n",
       "      <td>['d4', 'Nf6', 'Nc3', 'd5', 'Nf3', 'e6', 'a3', ...</td>\n",
       "      <td>['0.08', '0.13', '-0.06', '-0.12', '-0.21', '-...</td>\n",
       "      <td>['0:25:00', '0:25:00', '0:25:07', '0:25:05', '...</td>\n",
       "      <td>[1500, 1500, 1507, 1505, 1509, 1510, 1517, 151...</td>\n",
       "      <td>836</td>\n",
       "      <td>1500</td>\n",
       "      <td>10</td>\n",
       "    </tr>\n",
       "    <tr>\n",
       "      <th>3</th>\n",
       "      <td>Rated Standard game</td>\n",
       "      <td>https://lichess.org/ciXTg6ei</td>\n",
       "      <td>Acemoneyg</td>\n",
       "      <td>ScorchedToast</td>\n",
       "      <td>0-1</td>\n",
       "      <td>964</td>\n",
       "      <td>951</td>\n",
       "      <td>-11.0</td>\n",
       "      <td>12.0</td>\n",
       "      <td>C44</td>\n",
       "      <td>King's Knight Opening: Normal Variation</td>\n",
       "      <td>600+0</td>\n",
       "      <td>Normal</td>\n",
       "      <td>['e4', 'e5', 'Nf3', 'Nc6', 'b3', 'Nf6', 'Bb2',...</td>\n",
       "      <td>['0.09', '0.23', '0.25', '0.26', '-0.25', '0.0...</td>\n",
       "      <td>['0:10:00', '0:10:00', '0:09:59', '0:09:56', '...</td>\n",
       "      <td>[600, 600, 599, 596, 592, 588, 591, 584, 589, ...</td>\n",
       "      <td>240</td>\n",
       "      <td>600</td>\n",
       "      <td>0</td>\n",
       "    </tr>\n",
       "    <tr>\n",
       "      <th>4</th>\n",
       "      <td>Rated Bullet game</td>\n",
       "      <td>https://lichess.org/74YofaHW</td>\n",
       "      <td>Radrax</td>\n",
       "      <td>Gommo</td>\n",
       "      <td>0-1</td>\n",
       "      <td>1170</td>\n",
       "      <td>1136</td>\n",
       "      <td>-27.0</td>\n",
       "      <td>41.0</td>\n",
       "      <td>A40</td>\n",
       "      <td>Queen's Pawn</td>\n",
       "      <td>120+1</td>\n",
       "      <td>Time forfeit</td>\n",
       "      <td>['d4', 'a6', 'Bf4', 'b5', 'Nc3', 'Bb7', 'Nf3',...</td>\n",
       "      <td>['0.08', '0.46', '0.36', '0.79', '0.15', '0.14...</td>\n",
       "      <td>['0:02:00', '0:02:00', '0:02:00', '0:01:59', '...</td>\n",
       "      <td>[120, 120, 120, 119, 118, 118, 116, 117, 112, ...</td>\n",
       "      <td>212</td>\n",
       "      <td>120</td>\n",
       "      <td>1</td>\n",
       "    </tr>\n",
       "  </tbody>\n",
       "</table>\n",
       "</div>"
      ]
     },
     "execution_count": 110,
     "metadata": {},
     "output_type": "execute_result"
    }
   ],
   "execution_count": 110
  },
  {
   "metadata": {
    "ExecuteTime": {
     "end_time": "2024-07-24T14:04:39.655993Z",
     "start_time": "2024-07-24T14:04:39.652232Z"
    }
   },
   "cell_type": "code",
   "source": "data = df.iloc[[2]][[\"TimeControl\", \"times_list\", \"time_in_seconds\", \"total_time\", \"BaseTime\", \"IncrementTime\"]]",
   "id": "d7f7acbcecae7ecf",
   "outputs": [],
   "execution_count": 57
  },
  {
   "metadata": {
    "ExecuteTime": {
     "end_time": "2024-07-24T14:05:55.289640Z",
     "start_time": "2024-07-24T14:05:55.282194Z"
    }
   },
   "cell_type": "code",
   "source": "data[\"time_in_seconds\"].values",
   "id": "8f810bd14662d063",
   "outputs": [
    {
     "data": {
      "text/plain": [
       "array([list([1500, 1500, 1507, 1505, 1509, 1510, 1517, 1515, 1517, 1513, 1514, 1515, 1509, 1515, 1498, 1510, 1501, 1510, 1506, 1515, 1511, 1516, 1485, 1519, 1459, 1524, 1414, 1526, 1388, 1530, 1302, 1533, 1304, 1534, 1266, 1479, 1139, 1472, 1142, 1475, 1127, 1471, 1108, 1476])],\n",
       "      dtype=object)"
      ]
     },
     "execution_count": 59,
     "metadata": {},
     "output_type": "execute_result"
    }
   ],
   "execution_count": 59
  },
  {
   "metadata": {
    "ExecuteTime": {
     "end_time": "2024-07-24T14:33:41.444527Z",
     "start_time": "2024-07-24T14:33:41.440385Z"
    }
   },
   "cell_type": "code",
   "source": [
    "times = [1500, 1500, 1507, 1505, 1509, 1510, 1517, 1515, 1517, 1513, 1514, 1515, 1509, 1515, 1498, 1510, 1501, 1510, 1506, 1515, 1511, 1516, 1485, 1519, 1459, 1524, 1414, 1526, 1388, 1530, 1302, 1533, 1304, 1534, 1266, 1479, 1139, 1472, 1142, 1475, 1127, 1471, 1108, 1476]\n",
    "\n",
    "(len(times) - 2) * 10"
   ],
   "id": "f9c97b3d4603b93",
   "outputs": [
    {
     "data": {
      "text/plain": [
       "420"
      ]
     },
     "execution_count": 105,
     "metadata": {},
     "output_type": "execute_result"
    }
   ],
   "execution_count": 105
  },
  {
   "metadata": {},
   "cell_type": "code",
   "outputs": [],
   "execution_count": null,
   "source": "",
   "id": "65ac7d7dc74d6152"
  }
 ],
 "metadata": {
  "kernelspec": {
   "display_name": "Python 3",
   "language": "python",
   "name": "python3"
  },
  "language_info": {
   "codemirror_mode": {
    "name": "ipython",
    "version": 2
   },
   "file_extension": ".py",
   "mimetype": "text/x-python",
   "name": "python",
   "nbconvert_exporter": "python",
   "pygments_lexer": "ipython2",
   "version": "2.7.6"
  }
 },
 "nbformat": 4,
 "nbformat_minor": 5
}
