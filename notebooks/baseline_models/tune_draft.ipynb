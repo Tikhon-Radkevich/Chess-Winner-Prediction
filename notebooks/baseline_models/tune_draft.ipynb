{
 "cells": [
  {
   "cell_type": "code",
   "id": "initial_id",
   "metadata": {
    "collapsed": true,
    "ExecuteTime": {
     "end_time": "2024-08-02T10:13:38.728483Z",
     "start_time": "2024-08-02T10:13:38.696426Z"
    }
   },
   "source": [
    "%load_ext autoreload\n",
    "%autoreload 2"
   ],
   "outputs": [
    {
     "name": "stdout",
     "output_type": "stream",
     "text": [
      "The autoreload extension is already loaded. To reload it, use:\n",
      "  %reload_ext autoreload\n"
     ]
    }
   ],
   "execution_count": 34
  },
  {
   "cell_type": "code",
   "id": "c221dcf6f1b7ba69",
   "metadata": {
    "ExecuteTime": {
     "end_time": "2024-08-02T10:13:38.947524Z",
     "start_time": "2024-08-02T10:13:38.920315Z"
    }
   },
   "source": [
    "import os\n",
    "from joblib import parallel_backend\n",
    "\n",
    "import pandas as pd\n",
    "from sklearn.ensemble import RandomForestClassifier, GradientBoostingClassifier\n",
    "from sklearn.preprocessing import StandardScaler\n",
    "from sklearn.model_selection import RandomizedSearchCV\n",
    "from sklearn.utils.class_weight import compute_sample_weight\n",
    "\n",
    "from chesswinnerprediction.baseline.utils import (\n",
    "    get_x_and_y,\n",
    "    get_class_weights,\n",
    "    print_report,\n",
    "    show_feature_importance,\n",
    "    transform_and_scale_df,\n",
    "    get_worst_params_df,\n",
    ")\n",
    "from chesswinnerprediction.baseline.constants import BASELINE_RANDOM_STATE\n",
    "from chesswinnerprediction.constants import PROCESSED_FOLDER_PATH"
   ],
   "outputs": [],
   "execution_count": 35
  },
  {
   "cell_type": "code",
   "id": "26f30f239a674de6",
   "metadata": {
    "ExecuteTime": {
     "end_time": "2024-08-02T10:13:39.189407Z",
     "start_time": "2024-08-02T10:13:39.169185Z"
    }
   },
   "source": [
    "data_dir = \"lichess_db_standard_rated_2017-05\"\n",
    "data_path = os.path.join(PROCESSED_FOLDER_PATH, data_dir)"
   ],
   "outputs": [],
   "execution_count": 36
  },
  {
   "cell_type": "code",
   "id": "9ec1c30c2d45ab12",
   "metadata": {
    "ExecuteTime": {
     "end_time": "2024-08-02T10:13:43.987914Z",
     "start_time": "2024-08-02T10:13:39.527043Z"
    }
   },
   "source": [
    "train_df = pd.read_csv(os.path.join(data_path, \"train.csv\"))\n",
    "valid_df = pd.read_csv(os.path.join(data_path, \"valid.csv\"))"
   ],
   "outputs": [],
   "execution_count": 37
  },
  {
   "cell_type": "code",
   "id": "59a3f8a97e823dcb",
   "metadata": {
    "ExecuteTime": {
     "end_time": "2024-08-02T10:13:44.188933Z",
     "start_time": "2024-08-02T10:13:43.989312Z"
    }
   },
   "source": [
    "std_scaler = StandardScaler()\n",
    "train_data = transform_and_scale_df(train_df, std_scaler)\n",
    "valid_data = transform_and_scale_df(valid_df, std_scaler, fit_scale=False)"
   ],
   "outputs": [],
   "execution_count": 38
  },
  {
   "cell_type": "code",
   "id": "46dd835dc0133cdf",
   "metadata": {
    "ExecuteTime": {
     "end_time": "2024-08-02T10:13:44.380800Z",
     "start_time": "2024-08-02T10:13:44.189982Z"
    }
   },
   "source": "class_weights = get_class_weights(train_df[\"Result\"], verbose=True)",
   "outputs": [
    {
     "name": "stdout",
     "output_type": "stream",
     "text": [
      "Class weights:\n",
      "\t1-0: 0.6719252445731612\n",
      "\t0-1: 0.6972429817947734\n",
      "\t1/2-1/2: 12.900070154830079\n"
     ]
    }
   ],
   "execution_count": 39
  },
  {
   "cell_type": "code",
   "id": "ff88f0d022add37c",
   "metadata": {
    "ExecuteTime": {
     "end_time": "2024-08-02T10:13:44.420866Z",
     "start_time": "2024-08-02T10:13:44.382426Z"
    }
   },
   "source": [
    "x_train_data, y_train = get_x_and_y(train_data, predict_draws=True)\n",
    "x_valid_data, y_valid = get_x_and_y(valid_data, predict_draws=True)"
   ],
   "outputs": [],
   "execution_count": 40
  },
  {
   "cell_type": "markdown",
   "id": "8f91c4010fe4f7eb",
   "metadata": {},
   "source": "## Random Forest"
  },
  {
   "cell_type": "code",
   "id": "5899f91ac5478b3e",
   "metadata": {
    "ExecuteTime": {
     "end_time": "2024-08-02T10:13:44.439301Z",
     "start_time": "2024-08-02T10:13:44.422130Z"
    }
   },
   "source": [
    "random_forest_params = {\n",
    "    \"n_estimators\": [24, 32, 56],\n",
    "    \"max_depth\": [10, 11, 12],\n",
    "    \"max_features\": [\"sqrt\", 0.5],\n",
    "    \"min_samples_split\": [7e-5, 13e-5, 25e-5, 50e-5],\n",
    "    \"min_samples_leaf\": [1e-5, 3e-5, 8e-5, 12e-5],\n",
    "    \"min_impurity_decrease\": [5e-6, 1e-5, 1e-4, 2e-4],\n",
    "    \"min_weight_fraction_leaf\": [0.0, 1e-5, 2e-5, 5e-5],\n",
    "    \"max_leaf_nodes\": [None, 350, 400, 450],\n",
    "}\n",
    "\n",
    "forest_clf = RandomForestClassifier(\n",
    "    class_weight=class_weights, verbose=0, n_jobs=-1, random_state=BASELINE_RANDOM_STATE\n",
    ")\n",
    "\n",
    "random_search = RandomizedSearchCV(\n",
    "    estimator=forest_clf,\n",
    "    param_distributions=random_forest_params,\n",
    "    n_iter=15,\n",
    "    cv=5,\n",
    "    verbose=3,\n",
    "    random_state=BASELINE_RANDOM_STATE,\n",
    "    scoring=\"recall_macro\",\n",
    "    return_train_score=True,\n",
    ")"
   ],
   "outputs": [],
   "execution_count": 41
  },
  {
   "cell_type": "code",
   "id": "1de96540e639e5a4",
   "metadata": {
    "ExecuteTime": {
     "end_time": "2024-08-02T10:32:00.196458Z",
     "start_time": "2024-08-02T10:13:44.440581Z"
    }
   },
   "source": [
    "_ = random_search.fit(x_train_data, y_train)"
   ],
   "outputs": [
    {
     "name": "stdout",
     "output_type": "stream",
     "text": [
      "Fitting 5 folds for each of 15 candidates, totalling 75 fits\n",
      "[CV 1/5] END max_depth=12, max_features=0.5, max_leaf_nodes=None, min_impurity_decrease=0.0001, min_samples_leaf=3e-05, min_samples_split=7e-05, min_weight_fraction_leaf=1e-05, n_estimators=24;, score=(train=0.473, test=0.465) total time=   8.8s\n",
      "[CV 2/5] END max_depth=12, max_features=0.5, max_leaf_nodes=None, min_impurity_decrease=0.0001, min_samples_leaf=3e-05, min_samples_split=7e-05, min_weight_fraction_leaf=1e-05, n_estimators=24;, score=(train=0.475, test=0.468) total time=   8.1s\n",
      "[CV 3/5] END max_depth=12, max_features=0.5, max_leaf_nodes=None, min_impurity_decrease=0.0001, min_samples_leaf=3e-05, min_samples_split=7e-05, min_weight_fraction_leaf=1e-05, n_estimators=24;, score=(train=0.472, test=0.471) total time=   7.9s\n",
      "[CV 4/5] END max_depth=12, max_features=0.5, max_leaf_nodes=None, min_impurity_decrease=0.0001, min_samples_leaf=3e-05, min_samples_split=7e-05, min_weight_fraction_leaf=1e-05, n_estimators=24;, score=(train=0.472, test=0.468) total time=   8.1s\n",
      "[CV 5/5] END max_depth=12, max_features=0.5, max_leaf_nodes=None, min_impurity_decrease=0.0001, min_samples_leaf=3e-05, min_samples_split=7e-05, min_weight_fraction_leaf=1e-05, n_estimators=24;, score=(train=0.473, test=0.464) total time=   8.1s\n",
      "[CV 1/5] END max_depth=10, max_features=sqrt, max_leaf_nodes=350, min_impurity_decrease=5e-06, min_samples_leaf=3e-05, min_samples_split=0.0005, min_weight_fraction_leaf=2e-05, n_estimators=56;, score=(train=0.484, test=0.468) total time=  11.6s\n",
      "[CV 2/5] END max_depth=10, max_features=sqrt, max_leaf_nodes=350, min_impurity_decrease=5e-06, min_samples_leaf=3e-05, min_samples_split=0.0005, min_weight_fraction_leaf=2e-05, n_estimators=56;, score=(train=0.485, test=0.469) total time=  11.9s\n",
      "[CV 3/5] END max_depth=10, max_features=sqrt, max_leaf_nodes=350, min_impurity_decrease=5e-06, min_samples_leaf=3e-05, min_samples_split=0.0005, min_weight_fraction_leaf=2e-05, n_estimators=56;, score=(train=0.483, test=0.474) total time=  11.5s\n",
      "[CV 4/5] END max_depth=10, max_features=sqrt, max_leaf_nodes=350, min_impurity_decrease=5e-06, min_samples_leaf=3e-05, min_samples_split=0.0005, min_weight_fraction_leaf=2e-05, n_estimators=56;, score=(train=0.484, test=0.471) total time=  11.9s\n",
      "[CV 5/5] END max_depth=10, max_features=sqrt, max_leaf_nodes=350, min_impurity_decrease=5e-06, min_samples_leaf=3e-05, min_samples_split=0.0005, min_weight_fraction_leaf=2e-05, n_estimators=56;, score=(train=0.484, test=0.468) total time=  12.0s\n",
      "[CV 1/5] END max_depth=10, max_features=0.5, max_leaf_nodes=450, min_impurity_decrease=5e-06, min_samples_leaf=1e-05, min_samples_split=0.00013, min_weight_fraction_leaf=0.0, n_estimators=56;, score=(train=0.492, test=0.469) total time=  19.3s\n",
      "[CV 2/5] END max_depth=10, max_features=0.5, max_leaf_nodes=450, min_impurity_decrease=5e-06, min_samples_leaf=1e-05, min_samples_split=0.00013, min_weight_fraction_leaf=0.0, n_estimators=56;, score=(train=0.491, test=0.471) total time=  19.0s\n",
      "[CV 3/5] END max_depth=10, max_features=0.5, max_leaf_nodes=450, min_impurity_decrease=5e-06, min_samples_leaf=1e-05, min_samples_split=0.00013, min_weight_fraction_leaf=0.0, n_estimators=56;, score=(train=0.492, test=0.474) total time=  19.1s\n",
      "[CV 4/5] END max_depth=10, max_features=0.5, max_leaf_nodes=450, min_impurity_decrease=5e-06, min_samples_leaf=1e-05, min_samples_split=0.00013, min_weight_fraction_leaf=0.0, n_estimators=56;, score=(train=0.493, test=0.471) total time=  18.1s\n",
      "[CV 5/5] END max_depth=10, max_features=0.5, max_leaf_nodes=450, min_impurity_decrease=5e-06, min_samples_leaf=1e-05, min_samples_split=0.00013, min_weight_fraction_leaf=0.0, n_estimators=56;, score=(train=0.491, test=0.469) total time=  18.3s\n",
      "[CV 1/5] END max_depth=11, max_features=0.5, max_leaf_nodes=450, min_impurity_decrease=0.0001, min_samples_leaf=3e-05, min_samples_split=0.00013, min_weight_fraction_leaf=0.0, n_estimators=24;, score=(train=0.471, test=0.466) total time=   7.9s\n",
      "[CV 2/5] END max_depth=11, max_features=0.5, max_leaf_nodes=450, min_impurity_decrease=0.0001, min_samples_leaf=3e-05, min_samples_split=0.00013, min_weight_fraction_leaf=0.0, n_estimators=24;, score=(train=0.474, test=0.467) total time=   8.0s\n",
      "[CV 3/5] END max_depth=11, max_features=0.5, max_leaf_nodes=450, min_impurity_decrease=0.0001, min_samples_leaf=3e-05, min_samples_split=0.00013, min_weight_fraction_leaf=0.0, n_estimators=24;, score=(train=0.472, test=0.473) total time=   8.2s\n",
      "[CV 4/5] END max_depth=11, max_features=0.5, max_leaf_nodes=450, min_impurity_decrease=0.0001, min_samples_leaf=3e-05, min_samples_split=0.00013, min_weight_fraction_leaf=0.0, n_estimators=24;, score=(train=0.473, test=0.469) total time=   7.8s\n",
      "[CV 5/5] END max_depth=11, max_features=0.5, max_leaf_nodes=450, min_impurity_decrease=0.0001, min_samples_leaf=3e-05, min_samples_split=0.00013, min_weight_fraction_leaf=0.0, n_estimators=24;, score=(train=0.474, test=0.466) total time=   7.7s\n",
      "[CV 1/5] END max_depth=11, max_features=0.5, max_leaf_nodes=400, min_impurity_decrease=0.0001, min_samples_leaf=0.00012, min_samples_split=7e-05, min_weight_fraction_leaf=1e-05, n_estimators=32;, score=(train=0.472, test=0.466) total time=   9.6s\n",
      "[CV 2/5] END max_depth=11, max_features=0.5, max_leaf_nodes=400, min_impurity_decrease=0.0001, min_samples_leaf=0.00012, min_samples_split=7e-05, min_weight_fraction_leaf=1e-05, n_estimators=32;, score=(train=0.475, test=0.469) total time=   9.5s\n",
      "[CV 3/5] END max_depth=11, max_features=0.5, max_leaf_nodes=400, min_impurity_decrease=0.0001, min_samples_leaf=0.00012, min_samples_split=7e-05, min_weight_fraction_leaf=1e-05, n_estimators=32;, score=(train=0.473, test=0.475) total time=   9.4s\n",
      "[CV 4/5] END max_depth=11, max_features=0.5, max_leaf_nodes=400, min_impurity_decrease=0.0001, min_samples_leaf=0.00012, min_samples_split=7e-05, min_weight_fraction_leaf=1e-05, n_estimators=32;, score=(train=0.474, test=0.469) total time=   9.9s\n",
      "[CV 5/5] END max_depth=11, max_features=0.5, max_leaf_nodes=400, min_impurity_decrease=0.0001, min_samples_leaf=0.00012, min_samples_split=7e-05, min_weight_fraction_leaf=1e-05, n_estimators=32;, score=(train=0.474, test=0.466) total time=  10.0s\n",
      "[CV 1/5] END max_depth=11, max_features=sqrt, max_leaf_nodes=None, min_impurity_decrease=5e-06, min_samples_leaf=8e-05, min_samples_split=0.00025, min_weight_fraction_leaf=0.0, n_estimators=32;, score=(train=0.490, test=0.470) total time=   8.1s\n",
      "[CV 2/5] END max_depth=11, max_features=sqrt, max_leaf_nodes=None, min_impurity_decrease=5e-06, min_samples_leaf=8e-05, min_samples_split=0.00025, min_weight_fraction_leaf=0.0, n_estimators=32;, score=(train=0.489, test=0.469) total time=   7.9s\n",
      "[CV 3/5] END max_depth=11, max_features=sqrt, max_leaf_nodes=None, min_impurity_decrease=5e-06, min_samples_leaf=8e-05, min_samples_split=0.00025, min_weight_fraction_leaf=0.0, n_estimators=32;, score=(train=0.491, test=0.473) total time=   7.9s\n",
      "[CV 4/5] END max_depth=11, max_features=sqrt, max_leaf_nodes=None, min_impurity_decrease=5e-06, min_samples_leaf=8e-05, min_samples_split=0.00025, min_weight_fraction_leaf=0.0, n_estimators=32;, score=(train=0.491, test=0.470) total time=   8.3s\n",
      "[CV 5/5] END max_depth=11, max_features=sqrt, max_leaf_nodes=None, min_impurity_decrease=5e-06, min_samples_leaf=8e-05, min_samples_split=0.00025, min_weight_fraction_leaf=0.0, n_estimators=32;, score=(train=0.489, test=0.466) total time=   7.7s\n",
      "[CV 1/5] END max_depth=12, max_features=0.5, max_leaf_nodes=350, min_impurity_decrease=0.0002, min_samples_leaf=0.00012, min_samples_split=7e-05, min_weight_fraction_leaf=0.0, n_estimators=56;, score=(train=0.469, test=0.464) total time=  14.9s\n",
      "[CV 2/5] END max_depth=12, max_features=0.5, max_leaf_nodes=350, min_impurity_decrease=0.0002, min_samples_leaf=0.00012, min_samples_split=7e-05, min_weight_fraction_leaf=0.0, n_estimators=56;, score=(train=0.470, test=0.466) total time=  14.7s\n",
      "[CV 3/5] END max_depth=12, max_features=0.5, max_leaf_nodes=350, min_impurity_decrease=0.0002, min_samples_leaf=0.00012, min_samples_split=7e-05, min_weight_fraction_leaf=0.0, n_estimators=56;, score=(train=0.469, test=0.472) total time=  14.4s\n",
      "[CV 4/5] END max_depth=12, max_features=0.5, max_leaf_nodes=350, min_impurity_decrease=0.0002, min_samples_leaf=0.00012, min_samples_split=7e-05, min_weight_fraction_leaf=0.0, n_estimators=56;, score=(train=0.469, test=0.466) total time=  14.5s\n",
      "[CV 5/5] END max_depth=12, max_features=0.5, max_leaf_nodes=350, min_impurity_decrease=0.0002, min_samples_leaf=0.00012, min_samples_split=7e-05, min_weight_fraction_leaf=0.0, n_estimators=56;, score=(train=0.470, test=0.464) total time=  13.8s\n",
      "[CV 1/5] END max_depth=10, max_features=0.5, max_leaf_nodes=350, min_impurity_decrease=0.0002, min_samples_leaf=1e-05, min_samples_split=7e-05, min_weight_fraction_leaf=5e-05, n_estimators=32;, score=(train=0.468, test=0.463) total time=   9.6s\n",
      "[CV 2/5] END max_depth=10, max_features=0.5, max_leaf_nodes=350, min_impurity_decrease=0.0002, min_samples_leaf=1e-05, min_samples_split=7e-05, min_weight_fraction_leaf=5e-05, n_estimators=32;, score=(train=0.470, test=0.466) total time=   8.5s\n",
      "[CV 3/5] END max_depth=10, max_features=0.5, max_leaf_nodes=350, min_impurity_decrease=0.0002, min_samples_leaf=1e-05, min_samples_split=7e-05, min_weight_fraction_leaf=5e-05, n_estimators=32;, score=(train=0.469, test=0.471) total time=   9.3s\n",
      "[CV 4/5] END max_depth=10, max_features=0.5, max_leaf_nodes=350, min_impurity_decrease=0.0002, min_samples_leaf=1e-05, min_samples_split=7e-05, min_weight_fraction_leaf=5e-05, n_estimators=32;, score=(train=0.469, test=0.466) total time=   8.8s\n",
      "[CV 5/5] END max_depth=10, max_features=0.5, max_leaf_nodes=350, min_impurity_decrease=0.0002, min_samples_leaf=1e-05, min_samples_split=7e-05, min_weight_fraction_leaf=5e-05, n_estimators=32;, score=(train=0.470, test=0.463) total time=   9.2s\n",
      "[CV 1/5] END max_depth=12, max_features=sqrt, max_leaf_nodes=400, min_impurity_decrease=0.0002, min_samples_leaf=1e-05, min_samples_split=0.00013, min_weight_fraction_leaf=5e-05, n_estimators=56;, score=(train=0.466, test=0.462) total time=   9.7s\n",
      "[CV 2/5] END max_depth=12, max_features=sqrt, max_leaf_nodes=400, min_impurity_decrease=0.0002, min_samples_leaf=1e-05, min_samples_split=0.00013, min_weight_fraction_leaf=5e-05, n_estimators=56;, score=(train=0.465, test=0.466) total time=   8.8s\n",
      "[CV 3/5] END max_depth=12, max_features=sqrt, max_leaf_nodes=400, min_impurity_decrease=0.0002, min_samples_leaf=1e-05, min_samples_split=0.00013, min_weight_fraction_leaf=5e-05, n_estimators=56;, score=(train=0.465, test=0.466) total time=   8.8s\n",
      "[CV 4/5] END max_depth=12, max_features=sqrt, max_leaf_nodes=400, min_impurity_decrease=0.0002, min_samples_leaf=1e-05, min_samples_split=0.00013, min_weight_fraction_leaf=5e-05, n_estimators=56;, score=(train=0.466, test=0.464) total time=   8.7s\n",
      "[CV 5/5] END max_depth=12, max_features=sqrt, max_leaf_nodes=400, min_impurity_decrease=0.0002, min_samples_leaf=1e-05, min_samples_split=0.00013, min_weight_fraction_leaf=5e-05, n_estimators=56;, score=(train=0.467, test=0.459) total time=   8.8s\n",
      "[CV 1/5] END max_depth=11, max_features=0.5, max_leaf_nodes=400, min_impurity_decrease=0.0002, min_samples_leaf=1e-05, min_samples_split=0.00025, min_weight_fraction_leaf=5e-05, n_estimators=56;, score=(train=0.469, test=0.464) total time=  13.7s\n",
      "[CV 2/5] END max_depth=11, max_features=0.5, max_leaf_nodes=400, min_impurity_decrease=0.0002, min_samples_leaf=1e-05, min_samples_split=0.00025, min_weight_fraction_leaf=5e-05, n_estimators=56;, score=(train=0.470, test=0.466) total time=  13.5s\n",
      "[CV 3/5] END max_depth=11, max_features=0.5, max_leaf_nodes=400, min_impurity_decrease=0.0002, min_samples_leaf=1e-05, min_samples_split=0.00025, min_weight_fraction_leaf=5e-05, n_estimators=56;, score=(train=0.469, test=0.472) total time=  14.3s\n",
      "[CV 4/5] END max_depth=11, max_features=0.5, max_leaf_nodes=400, min_impurity_decrease=0.0002, min_samples_leaf=1e-05, min_samples_split=0.00025, min_weight_fraction_leaf=5e-05, n_estimators=56;, score=(train=0.469, test=0.466) total time=  13.2s\n",
      "[CV 5/5] END max_depth=11, max_features=0.5, max_leaf_nodes=400, min_impurity_decrease=0.0002, min_samples_leaf=1e-05, min_samples_split=0.00025, min_weight_fraction_leaf=5e-05, n_estimators=56;, score=(train=0.470, test=0.464) total time=  13.9s\n",
      "[CV 1/5] END max_depth=12, max_features=0.5, max_leaf_nodes=None, min_impurity_decrease=0.0002, min_samples_leaf=3e-05, min_samples_split=0.0005, min_weight_fraction_leaf=1e-05, n_estimators=24;, score=(train=0.467, test=0.463) total time=   7.2s\n",
      "[CV 2/5] END max_depth=12, max_features=0.5, max_leaf_nodes=None, min_impurity_decrease=0.0002, min_samples_leaf=3e-05, min_samples_split=0.0005, min_weight_fraction_leaf=1e-05, n_estimators=24;, score=(train=0.470, test=0.467) total time=   7.8s\n",
      "[CV 3/5] END max_depth=12, max_features=0.5, max_leaf_nodes=None, min_impurity_decrease=0.0002, min_samples_leaf=3e-05, min_samples_split=0.0005, min_weight_fraction_leaf=1e-05, n_estimators=24;, score=(train=0.467, test=0.468) total time=   7.5s\n",
      "[CV 4/5] END max_depth=12, max_features=0.5, max_leaf_nodes=None, min_impurity_decrease=0.0002, min_samples_leaf=3e-05, min_samples_split=0.0005, min_weight_fraction_leaf=1e-05, n_estimators=24;, score=(train=0.469, test=0.466) total time=   7.3s\n",
      "[CV 5/5] END max_depth=12, max_features=0.5, max_leaf_nodes=None, min_impurity_decrease=0.0002, min_samples_leaf=3e-05, min_samples_split=0.0005, min_weight_fraction_leaf=1e-05, n_estimators=24;, score=(train=0.468, test=0.461) total time=   7.2s\n",
      "[CV 1/5] END max_depth=11, max_features=sqrt, max_leaf_nodes=400, min_impurity_decrease=0.0002, min_samples_leaf=3e-05, min_samples_split=0.00013, min_weight_fraction_leaf=2e-05, n_estimators=24;, score=(train=0.466, test=0.463) total time=   5.0s\n",
      "[CV 2/5] END max_depth=11, max_features=sqrt, max_leaf_nodes=400, min_impurity_decrease=0.0002, min_samples_leaf=3e-05, min_samples_split=0.00013, min_weight_fraction_leaf=2e-05, n_estimators=24;, score=(train=0.464, test=0.464) total time=   5.0s\n",
      "[CV 3/5] END max_depth=11, max_features=sqrt, max_leaf_nodes=400, min_impurity_decrease=0.0002, min_samples_leaf=3e-05, min_samples_split=0.00013, min_weight_fraction_leaf=2e-05, n_estimators=24;, score=(train=0.463, test=0.463) total time=   5.0s\n",
      "[CV 4/5] END max_depth=11, max_features=sqrt, max_leaf_nodes=400, min_impurity_decrease=0.0002, min_samples_leaf=3e-05, min_samples_split=0.00013, min_weight_fraction_leaf=2e-05, n_estimators=24;, score=(train=0.466, test=0.464) total time=   5.1s\n",
      "[CV 5/5] END max_depth=11, max_features=sqrt, max_leaf_nodes=400, min_impurity_decrease=0.0002, min_samples_leaf=3e-05, min_samples_split=0.00013, min_weight_fraction_leaf=2e-05, n_estimators=24;, score=(train=0.464, test=0.457) total time=   5.4s\n",
      "[CV 1/5] END max_depth=10, max_features=sqrt, max_leaf_nodes=400, min_impurity_decrease=5e-06, min_samples_leaf=0.00012, min_samples_split=7e-05, min_weight_fraction_leaf=1e-05, n_estimators=56;, score=(train=0.484, test=0.468) total time=  11.6s\n",
      "[CV 2/5] END max_depth=10, max_features=sqrt, max_leaf_nodes=400, min_impurity_decrease=5e-06, min_samples_leaf=0.00012, min_samples_split=7e-05, min_weight_fraction_leaf=1e-05, n_estimators=56;, score=(train=0.485, test=0.470) total time=  11.4s\n",
      "[CV 3/5] END max_depth=10, max_features=sqrt, max_leaf_nodes=400, min_impurity_decrease=5e-06, min_samples_leaf=0.00012, min_samples_split=7e-05, min_weight_fraction_leaf=1e-05, n_estimators=56;, score=(train=0.484, test=0.474) total time=  11.8s\n",
      "[CV 4/5] END max_depth=10, max_features=sqrt, max_leaf_nodes=400, min_impurity_decrease=5e-06, min_samples_leaf=0.00012, min_samples_split=7e-05, min_weight_fraction_leaf=1e-05, n_estimators=56;, score=(train=0.485, test=0.471) total time=  11.8s\n",
      "[CV 5/5] END max_depth=10, max_features=sqrt, max_leaf_nodes=400, min_impurity_decrease=5e-06, min_samples_leaf=0.00012, min_samples_split=7e-05, min_weight_fraction_leaf=1e-05, n_estimators=56;, score=(train=0.484, test=0.468) total time=  11.6s\n",
      "[CV 1/5] END max_depth=10, max_features=sqrt, max_leaf_nodes=350, min_impurity_decrease=5e-06, min_samples_leaf=1e-05, min_samples_split=7e-05, min_weight_fraction_leaf=0.0, n_estimators=32;, score=(train=0.485, test=0.469) total time=   7.5s\n",
      "[CV 2/5] END max_depth=10, max_features=sqrt, max_leaf_nodes=350, min_impurity_decrease=5e-06, min_samples_leaf=1e-05, min_samples_split=7e-05, min_weight_fraction_leaf=0.0, n_estimators=32;, score=(train=0.487, test=0.469) total time=   7.6s\n",
      "[CV 3/5] END max_depth=10, max_features=sqrt, max_leaf_nodes=350, min_impurity_decrease=5e-06, min_samples_leaf=1e-05, min_samples_split=7e-05, min_weight_fraction_leaf=0.0, n_estimators=32;, score=(train=0.484, test=0.473) total time=   7.9s\n",
      "[CV 4/5] END max_depth=10, max_features=sqrt, max_leaf_nodes=350, min_impurity_decrease=5e-06, min_samples_leaf=1e-05, min_samples_split=7e-05, min_weight_fraction_leaf=0.0, n_estimators=32;, score=(train=0.486, test=0.471) total time=   7.6s\n",
      "[CV 5/5] END max_depth=10, max_features=sqrt, max_leaf_nodes=350, min_impurity_decrease=5e-06, min_samples_leaf=1e-05, min_samples_split=7e-05, min_weight_fraction_leaf=0.0, n_estimators=32;, score=(train=0.484, test=0.467) total time=   7.5s\n",
      "[CV 1/5] END max_depth=10, max_features=sqrt, max_leaf_nodes=450, min_impurity_decrease=5e-06, min_samples_leaf=8e-05, min_samples_split=0.00025, min_weight_fraction_leaf=5e-05, n_estimators=24;, score=(train=0.485, test=0.468) total time=   6.1s\n",
      "[CV 2/5] END max_depth=10, max_features=sqrt, max_leaf_nodes=450, min_impurity_decrease=5e-06, min_samples_leaf=8e-05, min_samples_split=0.00025, min_weight_fraction_leaf=5e-05, n_estimators=24;, score=(train=0.484, test=0.469) total time=   6.8s\n",
      "[CV 3/5] END max_depth=10, max_features=sqrt, max_leaf_nodes=450, min_impurity_decrease=5e-06, min_samples_leaf=8e-05, min_samples_split=0.00025, min_weight_fraction_leaf=5e-05, n_estimators=24;, score=(train=0.484, test=0.473) total time=   7.3s\n",
      "[CV 4/5] END max_depth=10, max_features=sqrt, max_leaf_nodes=450, min_impurity_decrease=5e-06, min_samples_leaf=8e-05, min_samples_split=0.00025, min_weight_fraction_leaf=5e-05, n_estimators=24;, score=(train=0.485, test=0.470) total time=   6.6s\n",
      "[CV 5/5] END max_depth=10, max_features=sqrt, max_leaf_nodes=450, min_impurity_decrease=5e-06, min_samples_leaf=8e-05, min_samples_split=0.00025, min_weight_fraction_leaf=5e-05, n_estimators=24;, score=(train=0.484, test=0.466) total time=   6.6s\n"
     ]
    }
   ],
   "execution_count": 42
  },
  {
   "cell_type": "code",
   "id": "3fa784687fbf1894",
   "metadata": {
    "ExecuteTime": {
     "end_time": "2024-08-02T10:32:00.221574Z",
     "start_time": "2024-08-02T10:32:00.197800Z"
    }
   },
   "source": [
    "print(f\"Best Score: {random_search.best_score_}\")\n",
    "print(f\"Best Parameters: {random_search.best_params_}\")"
   ],
   "outputs": [
    {
     "name": "stdout",
     "output_type": "stream",
     "text": [
      "Best Score: 0.4706544388340549\n",
      "Best Parameters: {'n_estimators': 56, 'min_weight_fraction_leaf': 0.0, 'min_samples_split': 0.00013, 'min_samples_leaf': 1e-05, 'min_impurity_decrease': 5e-06, 'max_leaf_nodes': 450, 'max_features': 0.5, 'max_depth': 10}\n"
     ]
    }
   ],
   "execution_count": 43
  },
  {
   "cell_type": "markdown",
   "id": "a118fb3c4469ea9f",
   "metadata": {},
   "source": "Let's take a look at the worst parameters."
  },
  {
   "cell_type": "code",
   "id": "a268af4c00d0882",
   "metadata": {
    "ExecuteTime": {
     "end_time": "2024-08-02T10:32:00.251255Z",
     "start_time": "2024-08-02T10:32:00.224047Z"
    }
   },
   "source": [
    "get_worst_params_df(random_search.cv_results_).head(5)"
   ],
   "outputs": [
    {
     "data": {
      "text/plain": [
       "                                                                                                                                                                                      mean_test_score\n",
       "param_n_estimators param_min_weight_fraction_leaf param_min_samples_split param_min_samples_leaf param_min_impurity_decrease param_max_leaf_nodes param_max_features param_max_depth                 \n",
       "24                 0.00002                        0.00013                 0.00003                0.0002                      400                  sqrt               11                      0.462215\n",
       "56                 0.00005                        0.00013                 0.00001                0.0002                      400                  sqrt               12                      0.463255\n",
       "32                 0.00005                        0.00007                 0.00001                0.0002                      350                  0.5                10                      0.465558\n",
       "56                 0.00000                        0.00007                 0.00012                0.0002                      350                  0.5                12                      0.466173\n",
       "                   0.00005                        0.00025                 0.00001                0.0002                      400                  0.5                11                      0.466176"
      ],
      "text/html": [
       "<div>\n",
       "<style scoped>\n",
       "    .dataframe tbody tr th:only-of-type {\n",
       "        vertical-align: middle;\n",
       "    }\n",
       "\n",
       "    .dataframe tbody tr th {\n",
       "        vertical-align: top;\n",
       "    }\n",
       "\n",
       "    .dataframe thead th {\n",
       "        text-align: right;\n",
       "    }\n",
       "</style>\n",
       "<table border=\"1\" class=\"dataframe\">\n",
       "  <thead>\n",
       "    <tr style=\"text-align: right;\">\n",
       "      <th></th>\n",
       "      <th></th>\n",
       "      <th></th>\n",
       "      <th></th>\n",
       "      <th></th>\n",
       "      <th></th>\n",
       "      <th></th>\n",
       "      <th></th>\n",
       "      <th>mean_test_score</th>\n",
       "    </tr>\n",
       "    <tr>\n",
       "      <th>param_n_estimators</th>\n",
       "      <th>param_min_weight_fraction_leaf</th>\n",
       "      <th>param_min_samples_split</th>\n",
       "      <th>param_min_samples_leaf</th>\n",
       "      <th>param_min_impurity_decrease</th>\n",
       "      <th>param_max_leaf_nodes</th>\n",
       "      <th>param_max_features</th>\n",
       "      <th>param_max_depth</th>\n",
       "      <th></th>\n",
       "    </tr>\n",
       "  </thead>\n",
       "  <tbody>\n",
       "    <tr>\n",
       "      <th>24</th>\n",
       "      <th>0.00002</th>\n",
       "      <th>0.00013</th>\n",
       "      <th>0.00003</th>\n",
       "      <th>0.0002</th>\n",
       "      <th>400</th>\n",
       "      <th>sqrt</th>\n",
       "      <th>11</th>\n",
       "      <td>0.462215</td>\n",
       "    </tr>\n",
       "    <tr>\n",
       "      <th>56</th>\n",
       "      <th>0.00005</th>\n",
       "      <th>0.00013</th>\n",
       "      <th>0.00001</th>\n",
       "      <th>0.0002</th>\n",
       "      <th>400</th>\n",
       "      <th>sqrt</th>\n",
       "      <th>12</th>\n",
       "      <td>0.463255</td>\n",
       "    </tr>\n",
       "    <tr>\n",
       "      <th>32</th>\n",
       "      <th>0.00005</th>\n",
       "      <th>0.00007</th>\n",
       "      <th>0.00001</th>\n",
       "      <th>0.0002</th>\n",
       "      <th>350</th>\n",
       "      <th>0.5</th>\n",
       "      <th>10</th>\n",
       "      <td>0.465558</td>\n",
       "    </tr>\n",
       "    <tr>\n",
       "      <th rowspan=\"2\" valign=\"top\">56</th>\n",
       "      <th>0.00000</th>\n",
       "      <th>0.00007</th>\n",
       "      <th>0.00012</th>\n",
       "      <th>0.0002</th>\n",
       "      <th>350</th>\n",
       "      <th>0.5</th>\n",
       "      <th>12</th>\n",
       "      <td>0.466173</td>\n",
       "    </tr>\n",
       "    <tr>\n",
       "      <th>0.00005</th>\n",
       "      <th>0.00025</th>\n",
       "      <th>0.00001</th>\n",
       "      <th>0.0002</th>\n",
       "      <th>400</th>\n",
       "      <th>0.5</th>\n",
       "      <th>11</th>\n",
       "      <td>0.466176</td>\n",
       "    </tr>\n",
       "  </tbody>\n",
       "</table>\n",
       "</div>"
      ]
     },
     "execution_count": 44,
     "metadata": {},
     "output_type": "execute_result"
    }
   ],
   "execution_count": 44
  },
  {
   "cell_type": "code",
   "id": "d0bd08f7cd2581fe",
   "metadata": {
    "ExecuteTime": {
     "end_time": "2024-08-02T10:32:23.712998Z",
     "start_time": "2024-08-02T10:32:00.252443Z"
    }
   },
   "source": [
    "best_forest_clf = random_search.best_estimator_.fit(x_train_data, y_train)"
   ],
   "outputs": [],
   "execution_count": 45
  },
  {
   "cell_type": "code",
   "id": "2b23a511c6c52a48",
   "metadata": {
    "ExecuteTime": {
     "end_time": "2024-08-02T10:32:49.347998Z",
     "start_time": "2024-08-02T10:32:23.714175Z"
    }
   },
   "source": [
    "print_report(best_forest_clf, x_train_data, y_train, x_valid_data, y_valid)"
   ],
   "outputs": [
    {
     "name": "stdout",
     "output_type": "stream",
     "text": [
      "\t\t\t\t\t\t Train Report \t\t\t\t\t\t\t\t\t Validation Report\n",
      "              precision    recall  f1-score   support         precision    recall  f1-score   support\n",
      "         0-1       0.60      0.45      0.51    378005              0.59      0.44      0.51     45215\n",
      "         1-0       0.62      0.43      0.51    392248              0.62      0.43      0.51     47511\n",
      "     1/2-1/2       0.05      0.59      0.09     20431              0.05      0.54      0.09      2537\n",
      "    accuracy                           0.44    790684                                  0.44     95263\n",
      "   macro avg       0.42      0.49      0.37    790684              0.42      0.47      0.37     95263\n",
      "weighted avg       0.60      0.44      0.50    790684              0.59      0.44      0.50     95263\n",
      "       \n"
     ]
    }
   ],
   "execution_count": 46
  },
  {
   "cell_type": "code",
   "id": "3aa4ca1d79ca8ed",
   "metadata": {
    "ExecuteTime": {
     "end_time": "2024-08-02T10:32:49.597505Z",
     "start_time": "2024-08-02T10:32:49.349153Z"
    }
   },
   "source": [
    "feature_importance = best_forest_clf.feature_importances_.reshape(1, -1)\n",
    "show_feature_importance(best_forest_clf, feature_importance)"
   ],
   "outputs": [
    {
     "data": {
      "text/plain": [
       "<Figure size 700x500 with 1 Axes>"
      ],
      "image/png": "[encoded data removed]"
     },
     "metadata": {},
     "output_type": "display_data"
    }
   ],
   "execution_count": 47
  },
  {
   "cell_type": "markdown",
   "id": "517f5c59bba35e0a",
   "metadata": {},
   "source": "## Gradient Boosting"
  },
  {
   "cell_type": "code",
   "id": "270a5b7c7abb6a15",
   "metadata": {
    "ExecuteTime": {
     "end_time": "2024-08-02T10:00:34.157031Z",
     "start_time": "2024-08-02T10:00:34.121868Z"
    }
   },
   "source": [
    "gradient_boosting_params = {\n",
    "    \"n_estimators\": [10],\n",
    "    \"max_depth\": [2, 4, 6],\n",
    "    \"max_features\": [\"sqrt\"],\n",
    "    \"learning_rate\": [0.1, 0.01],\n",
    "    \"tol\": [1e-2],\n",
    "    \"min_samples_split\": [1e-3, 1e-4, 1e-5, 1e-6],\n",
    "    \"min_samples_leaf\": [1e-3, 1e-4, 1e-5, 1e-6],\n",
    "    \"min_impurity_decrease\": [0.0, 1e-3, 1e-4, 1e-5, 1e-6],\n",
    "    \"min_weight_fraction_leaf\": [0.0, 1e-3, 1e-4, 1e-5, 1e-6],\n",
    "}\n",
    "\n",
    "boosting_clf = GradientBoostingClassifier(verbose=0, validation_fraction=0.1)\n",
    "\n",
    "random_search = RandomizedSearchCV(\n",
    "    estimator=boosting_clf,\n",
    "    param_distributions=gradient_boosting_params,\n",
    "    n_iter=8,\n",
    "    cv=3,\n",
    "    verbose=3,\n",
    "    random_state=42,\n",
    "    scoring=\"recall_macro\",\n",
    "    return_train_score=True,\n",
    "    # pre_dispatch=7,\n",
    "    n_jobs=-1,\n",
    ")"
   ],
   "outputs": [],
   "execution_count": 17
  },
  {
   "cell_type": "code",
   "id": "ece45c8d16887f8e",
   "metadata": {
    "ExecuteTime": {
     "end_time": "2024-08-02T10:09:07.506604Z",
     "start_time": "2024-08-02T10:07:35.416254Z"
    }
   },
   "source": [
    "sample_weights = compute_sample_weight(class_weight=\"balanced\", y=y_train)\n",
    "\n",
    "with parallel_backend(\"multiprocessing\"):\n",
    "    random_search.fit(x_train_data, y_train, sample_weight=sample_weights)"
   ],
   "outputs": [
    {
     "name": "stdout",
     "output_type": "stream",
     "text": [
      "Fitting 3 folds for each of 8 candidates, totalling 24 fits\n",
      "[CV 2/3] END learning_rate=0.01, max_depth=4, max_features=sqrt, min_impurity_decrease=0.001, min_samples_leaf=1e-06, min_samples_split=0.001, min_weight_fraction_leaf=0.0001, n_estimators=2, tol=0.1;, score=(train=0.454, test=0.455) total time=   8.9s\n",
      "[CV 1/3] END learning_rate=0.01, max_depth=4, max_features=sqrt, min_impurity_decrease=0.001, min_samples_leaf=1e-06, min_samples_split=0.001, min_weight_fraction_leaf=0.0001, n_estimators=2, tol=0.1;, score=(train=0.455, test=0.453) total time=   9.5s\n",
      "[CV 3/3] END learning_rate=0.1, max_depth=2, max_features=sqrt, min_impurity_decrease=1e-05, min_samples_leaf=1e-05, min_samples_split=0.0001, min_weight_fraction_leaf=0.001, n_estimators=8, tol=0.1;, score=(train=0.455, test=0.453) total time=  14.0s[CV 2/3] END learning_rate=0.1, max_depth=2, max_features=sqrt, min_impurity_decrease=1e-05, min_samples_leaf=1e-05, min_samples_split=0.0001, min_weight_fraction_leaf=0.001, n_estimators=8, tol=0.1;, score=(train=0.452, test=0.452) total time=  13.6s\n",
      "\n",
      "[CV 1/3] END learning_rate=0.1, max_depth=2, max_features=sqrt, min_impurity_decrease=1e-05, min_samples_leaf=1e-05, min_samples_split=0.0001, min_weight_fraction_leaf=0.001, n_estimators=8, tol=0.1;, score=(train=0.453, test=0.452) total time=  14.0s\n",
      "[CV 3/3] END learning_rate=0.01, max_depth=4, max_features=sqrt, min_impurity_decrease=0.0001, min_samples_leaf=0.0001, min_samples_split=1e-06, min_weight_fraction_leaf=0.001, n_estimators=8, tol=0.1;, score=(train=0.461, test=0.457) total time=  21.1s\n",
      "[CV 1/3] END learning_rate=0.01, max_depth=4, max_features=sqrt, min_impurity_decrease=0.0001, min_samples_leaf=0.0001, min_samples_split=1e-06, min_weight_fraction_leaf=0.001, n_estimators=8, tol=0.1;, score=(train=0.462, test=0.458) total time=  20.6s\n",
      "[CV 2/3] END learning_rate=0.01, max_depth=4, max_features=sqrt, min_impurity_decrease=0.0001, min_samples_leaf=0.0001, min_samples_split=1e-06, min_weight_fraction_leaf=0.001, n_estimators=8, tol=0.1;, score=(train=0.459, test=0.462) total time=  21.5s\n",
      "[CV 3/3] END learning_rate=0.01, max_depth=4, max_features=sqrt, min_impurity_decrease=0.001, min_samples_leaf=1e-06, min_samples_split=0.001, min_weight_fraction_leaf=0.0001, n_estimators=2, tol=0.1;, score=(train=0.440, test=0.437) total time=   7.4s\n",
      "[CV 1/3] END learning_rate=0.01, max_depth=4, max_features=sqrt, min_impurity_decrease=0.001, min_samples_leaf=1e-05, min_samples_split=1e-05, min_weight_fraction_leaf=0.0, n_estimators=4, tol=0.1;, score=(train=0.458, test=0.454) total time=  11.1s\n",
      "[CV 1/3] END learning_rate=0.01, max_depth=2, max_features=sqrt, min_impurity_decrease=0.0, min_samples_leaf=1e-05, min_samples_split=1e-06, min_weight_fraction_leaf=0.0001, n_estimators=4, tol=0.1;, score=(train=0.446, test=0.445) total time=   7.4s\n",
      "[CV 3/3] END learning_rate=0.01, max_depth=4, max_features=sqrt, min_impurity_decrease=0.001, min_samples_leaf=1e-05, min_samples_split=1e-05, min_weight_fraction_leaf=0.0, n_estimators=4, tol=0.1;, score=(train=0.461, test=0.456) total time=  10.2s\n",
      "[CV 2/3] END learning_rate=0.01, max_depth=4, max_features=sqrt, min_impurity_decrease=0.001, min_samples_leaf=1e-05, min_samples_split=1e-05, min_weight_fraction_leaf=0.0, n_estimators=4, tol=0.1;, score=(train=0.459, test=0.460) total time=  10.1s\n",
      "[CV 2/3] END learning_rate=0.01, max_depth=2, max_features=sqrt, min_impurity_decrease=0.0, min_samples_leaf=1e-05, min_samples_split=1e-06, min_weight_fraction_leaf=0.0001, n_estimators=4, tol=0.1;, score=(train=0.445, test=0.447) total time=   6.5s\n",
      "[CV 3/3] END learning_rate=0.01, max_depth=2, max_features=sqrt, min_impurity_decrease=0.0, min_samples_leaf=1e-05, min_samples_split=1e-06, min_weight_fraction_leaf=0.0001, n_estimators=4, tol=0.1;, score=(train=0.446, test=0.443) total time=   7.4s\n",
      "[CV 1/3] END learning_rate=0.01, max_depth=4, max_features=sqrt, min_impurity_decrease=1e-05, min_samples_leaf=1e-06, min_samples_split=1e-05, min_weight_fraction_leaf=0.001, n_estimators=4, tol=0.1;, score=(train=0.462, test=0.458) total time=  13.6s\n",
      "[CV 3/3] END learning_rate=0.01, max_depth=4, max_features=sqrt, min_impurity_decrease=1e-05, min_samples_leaf=1e-06, min_samples_split=1e-05, min_weight_fraction_leaf=0.001, n_estimators=4, tol=0.1;, score=(train=0.462, test=0.458) total time=  14.1s\n",
      "[CV 2/3] END learning_rate=0.01, max_depth=4, max_features=sqrt, min_impurity_decrease=1e-05, min_samples_leaf=1e-06, min_samples_split=1e-05, min_weight_fraction_leaf=0.001, n_estimators=4, tol=0.1;, score=(train=0.458, test=0.457) total time=  14.2s\n",
      "[CV 2/3] END learning_rate=0.1, max_depth=6, max_features=sqrt, min_impurity_decrease=0.0001, min_samples_leaf=1e-06, min_samples_split=1e-05, min_weight_fraction_leaf=0.0, n_estimators=8, tol=0.1;, score=(train=0.473, test=0.468) total time=  30.1s\n",
      "[CV 1/3] END learning_rate=0.1, max_depth=6, max_features=sqrt, min_impurity_decrease=0.0001, min_samples_leaf=1e-06, min_samples_split=1e-05, min_weight_fraction_leaf=0.0, n_estimators=8, tol=0.1;, score=(train=0.474, test=0.467) total time=  30.4s\n",
      "[CV 2/3] END learning_rate=0.01, max_depth=6, max_features=sqrt, min_impurity_decrease=0.001, min_samples_leaf=0.001, min_samples_split=0.0001, min_weight_fraction_leaf=1e-05, n_estimators=4, tol=0.1;, score=(train=0.468, test=0.467) total time=  17.8s\n",
      "[CV 1/3] END learning_rate=0.01, max_depth=6, max_features=sqrt, min_impurity_decrease=0.001, min_samples_leaf=0.001, min_samples_split=0.0001, min_weight_fraction_leaf=1e-05, n_estimators=4, tol=0.1;, score=(train=0.467, test=0.460) total time=  18.7s\n",
      "[CV 3/3] END learning_rate=0.1, max_depth=6, max_features=sqrt, min_impurity_decrease=0.0001, min_samples_leaf=1e-06, min_samples_split=1e-05, min_weight_fraction_leaf=0.0, n_estimators=8, tol=0.1;, score=(train=0.474, test=0.466) total time=  29.3s\n",
      "[CV 3/3] END learning_rate=0.01, max_depth=6, max_features=sqrt, min_impurity_decrease=0.001, min_samples_leaf=0.001, min_samples_split=0.0001, min_weight_fraction_leaf=1e-05, n_estimators=4, tol=0.1;, score=(train=0.471, test=0.464) total time=  10.9s\n"
     ]
    }
   ],
   "execution_count": 24
  },
  {
   "cell_type": "code",
   "id": "c72bec7fb8e8f31d",
   "metadata": {
    "ExecuteTime": {
     "end_time": "2024-08-02T10:09:09.520280Z",
     "start_time": "2024-08-02T10:09:09.490161Z"
    }
   },
   "source": [
    "print(f\"Best Score: {random_search.best_score_}\")\n",
    "print(f\"Best Parameters: {random_search.best_params_}\")"
   ],
   "outputs": [
    {
     "name": "stdout",
     "output_type": "stream",
     "text": [
      "Best Score: 0.4671428908253918\n",
      "Best Parameters: {'tol': 0.1, 'n_estimators': 8, 'min_weight_fraction_leaf': 0.0, 'min_samples_split': 1e-05, 'min_samples_leaf': 1e-06, 'min_impurity_decrease': 0.0001, 'max_features': 'sqrt', 'max_depth': 6, 'learning_rate': 0.1}\n"
     ]
    }
   ],
   "execution_count": 25
  },
  {
   "cell_type": "code",
   "id": "ebcafabfafb0a187",
   "metadata": {
    "ExecuteTime": {
     "end_time": "2024-08-02T10:09:10.775152Z",
     "start_time": "2024-08-02T10:09:10.703311Z"
    }
   },
   "source": [
    "get_worst_params_df(random_search.cv_results_).head(5)"
   ],
   "outputs": [
    {
     "data": {
      "text/plain": [
       "                                                                                                                                                                                               mean_test_score\n",
       "param_tol param_n_estimators param_min_weight_fraction_leaf param_min_samples_split param_min_samples_leaf param_min_impurity_decrease param_max_features param_max_depth param_learning_rate                 \n",
       "0.1       4                  0.0001                         0.000001                0.000010               0.00000                     sqrt               2               0.01                        0.444870\n",
       "          2                  0.0001                         0.001000                0.000001               0.00100                     sqrt               4               0.01                        0.448312\n",
       "          8                  0.0010                         0.000100                0.000010               0.00001                     sqrt               2               0.10                        0.452212\n",
       "          4                  0.0000                         0.000010                0.000010               0.00100                     sqrt               4               0.01                        0.456735\n",
       "                             0.0010                         0.000010                0.000001               0.00001                     sqrt               4               0.01                        0.457978"
      ],
      "text/html": [
       "<div>\n",
       "<style scoped>\n",
       "    .dataframe tbody tr th:only-of-type {\n",
       "        vertical-align: middle;\n",
       "    }\n",
       "\n",
       "    .dataframe tbody tr th {\n",
       "        vertical-align: top;\n",
       "    }\n",
       "\n",
       "    .dataframe thead th {\n",
       "        text-align: right;\n",
       "    }\n",
       "</style>\n",
       "<table border=\"1\" class=\"dataframe\">\n",
       "  <thead>\n",
       "    <tr style=\"text-align: right;\">\n",
       "      <th></th>\n",
       "      <th></th>\n",
       "      <th></th>\n",
       "      <th></th>\n",
       "      <th></th>\n",
       "      <th></th>\n",
       "      <th></th>\n",
       "      <th></th>\n",
       "      <th></th>\n",
       "      <th>mean_test_score</th>\n",
       "    </tr>\n",
       "    <tr>\n",
       "      <th>param_tol</th>\n",
       "      <th>param_n_estimators</th>\n",
       "      <th>param_min_weight_fraction_leaf</th>\n",
       "      <th>param_min_samples_split</th>\n",
       "      <th>param_min_samples_leaf</th>\n",
       "      <th>param_min_impurity_decrease</th>\n",
       "      <th>param_max_features</th>\n",
       "      <th>param_max_depth</th>\n",
       "      <th>param_learning_rate</th>\n",
       "      <th></th>\n",
       "    </tr>\n",
       "  </thead>\n",
       "  <tbody>\n",
       "    <tr>\n",
       "      <th rowspan=\"5\" valign=\"top\">0.1</th>\n",
       "      <th>4</th>\n",
       "      <th>0.0001</th>\n",
       "      <th>0.000001</th>\n",
       "      <th>0.000010</th>\n",
       "      <th>0.00000</th>\n",
       "      <th>sqrt</th>\n",
       "      <th>2</th>\n",
       "      <th>0.01</th>\n",
       "      <td>0.444870</td>\n",
       "    </tr>\n",
       "    <tr>\n",
       "      <th>2</th>\n",
       "      <th>0.0001</th>\n",
       "      <th>0.001000</th>\n",
       "      <th>0.000001</th>\n",
       "      <th>0.00100</th>\n",
       "      <th>sqrt</th>\n",
       "      <th>4</th>\n",
       "      <th>0.01</th>\n",
       "      <td>0.448312</td>\n",
       "    </tr>\n",
       "    <tr>\n",
       "      <th>8</th>\n",
       "      <th>0.0010</th>\n",
       "      <th>0.000100</th>\n",
       "      <th>0.000010</th>\n",
       "      <th>0.00001</th>\n",
       "      <th>sqrt</th>\n",
       "      <th>2</th>\n",
       "      <th>0.10</th>\n",
       "      <td>0.452212</td>\n",
       "    </tr>\n",
       "    <tr>\n",
       "      <th rowspan=\"2\" valign=\"top\">4</th>\n",
       "      <th>0.0000</th>\n",
       "      <th>0.000010</th>\n",
       "      <th>0.000010</th>\n",
       "      <th>0.00100</th>\n",
       "      <th>sqrt</th>\n",
       "      <th>4</th>\n",
       "      <th>0.01</th>\n",
       "      <td>0.456735</td>\n",
       "    </tr>\n",
       "    <tr>\n",
       "      <th>0.0010</th>\n",
       "      <th>0.000010</th>\n",
       "      <th>0.000001</th>\n",
       "      <th>0.00001</th>\n",
       "      <th>sqrt</th>\n",
       "      <th>4</th>\n",
       "      <th>0.01</th>\n",
       "      <td>0.457978</td>\n",
       "    </tr>\n",
       "  </tbody>\n",
       "</table>\n",
       "</div>"
      ]
     },
     "execution_count": 26,
     "metadata": {},
     "output_type": "execute_result"
    }
   ],
   "execution_count": 26
  },
  {
   "cell_type": "code",
   "id": "d07d11f1477205a3",
   "metadata": {
    "ExecuteTime": {
     "end_time": "2024-08-02T10:11:14.901082Z",
     "start_time": "2024-08-02T10:10:57.809099Z"
    }
   },
   "source": [
    "sample_weights = compute_sample_weight(class_weight=\"balanced\", y=y_train)\n",
    "\n",
    "best_boosting_clf = random_search.best_estimator_.fit(x_train_data, y_train, sample_weight=sample_weights)"
   ],
   "outputs": [],
   "execution_count": 31
  },
  {
   "cell_type": "code",
   "id": "670eb6d106e06d33",
   "metadata": {
    "ExecuteTime": {
     "end_time": "2024-08-02T10:11:56.617626Z",
     "start_time": "2024-08-02T10:11:31.769897Z"
    }
   },
   "source": [
    "print_report(best_boosting_clf, x_train_data, y_train, x_valid_data, y_valid)"
   ],
   "outputs": [
    {
     "name": "stdout",
     "output_type": "stream",
     "text": [
      "\t\t\t\t\t\t Train Report \t\t\t\t\t\t\t\t\t Validation Report\n",
      "              precision    recall  f1-score   support         precision    recall  f1-score   support\n",
      "         0-1       0.60      0.41      0.49    378005              0.60      0.41      0.48     45215\n",
      "         1-0       0.61      0.43      0.50    392248              0.61      0.43      0.50     47511\n",
      "     1/2-1/2       0.05      0.58      0.08     20431              0.05      0.56      0.08      2537\n",
      "    accuracy                           0.42    790684                                  0.42     95263\n",
      "   macro avg       0.42      0.47      0.36    790684              0.42      0.46      0.36     95263\n",
      "weighted avg       0.59      0.42      0.48    790684              0.59      0.42      0.48     95263\n",
      "       \n"
     ]
    }
   ],
   "execution_count": 32
  },
  {
   "cell_type": "code",
   "id": "698d45d05149d240",
   "metadata": {
    "ExecuteTime": {
     "end_time": "2024-08-02T10:11:56.857135Z",
     "start_time": "2024-08-02T10:11:56.619035Z"
    }
   },
   "source": [
    "feature_importance = best_boosting_clf.feature_importances_.reshape(1, -1)\n",
    "show_feature_importance(best_boosting_clf, feature_importance)"
   ],
   "outputs": [
    {
     "data": {
      "text/plain": [
       "<Figure size 700x500 with 1 Axes>"
      ],
      "image/png": "[encoded data removed]"
     },
     "metadata": {},
     "output_type": "display_data"
    }
   ],
   "execution_count": 33
  },
  {
   "cell_type": "code",
   "execution_count": null,
   "id": "82820926180cf2c6",
   "metadata": {},
   "outputs": [],
   "source": []
  }
 ],
 "metadata": {
  "kernelspec": {
   "display_name": "Python 3",
   "language": "python",
   "name": "python3"
  },
  "language_info": {
   "codemirror_mode": {
    "name": "ipython",
    "version": 2
   },
   "file_extension": ".py",
   "mimetype": "text/x-python",
   "name": "python",
   "nbconvert_exporter": "python",
   "pygments_lexer": "ipython2",
   "version": "2.7.6"
  }
 },
 "nbformat": 4,
 "nbformat_minor": 5
}
