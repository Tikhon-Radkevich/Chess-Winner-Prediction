{
 "cells": [
  {
   "cell_type": "code",
   "execution_count": 1,
   "id": "initial_id",
   "metadata": {
    "ExecuteTime": {
     "end_time": "2024-08-02T07:58:06.142341Z",
     "start_time": "2024-08-02T07:58:06.124538Z"
    },
    "collapsed": true
   },
   "outputs": [],
   "source": [
    "%load_ext autoreload\n",
    "%autoreload 2"
   ]
  },
  {
   "cell_type": "code",
   "execution_count": 16,
   "id": "c221dcf6f1b7ba69",
   "metadata": {
    "ExecuteTime": {
     "end_time": "2024-08-02T08:02:17.373897Z",
     "start_time": "2024-08-02T08:02:17.354979Z"
    }
   },
   "outputs": [],
   "source": [
    "import os\n",
    "from joblib import parallel_backend\n",
    "\n",
    "import pandas as pd\n",
    "from sklearn.ensemble import RandomForestClassifier, GradientBoostingClassifier\n",
    "from sklearn.preprocessing import StandardScaler\n",
    "from sklearn.model_selection import RandomizedSearchCV\n",
    "\n",
    "from chesswinnerprediction.baseline.utils import (\n",
    "    get_x_and_y,\n",
    "    get_class_weights,\n",
    "    print_report,\n",
    "    show_feature_importance,\n",
    "    transform_and_scale_df,\n",
    "    get_worst_params_df,\n",
    ")\n",
    "from chesswinnerprediction.baseline.constants import BASELINE_RANDOM_STATE\n",
    "from chesswinnerprediction.constants import PROCESSED_FOLDER_PATH"
   ]
  },
  {
   "cell_type": "code",
   "execution_count": 3,
   "id": "26f30f239a674de6",
   "metadata": {
    "ExecuteTime": {
     "end_time": "2024-08-02T07:58:07.621045Z",
     "start_time": "2024-08-02T07:58:07.602550Z"
    }
   },
   "outputs": [],
   "source": [
    "data_dir = \"lichess_db_standard_rated_2017-05\"\n",
    "data_path = os.path.join(PROCESSED_FOLDER_PATH, data_dir)"
   ]
  },
  {
   "cell_type": "code",
   "execution_count": 4,
   "id": "9ec1c30c2d45ab12",
   "metadata": {
    "ExecuteTime": {
     "end_time": "2024-08-02T07:58:12.557057Z",
     "start_time": "2024-08-02T07:58:07.622452Z"
    }
   },
   "outputs": [],
   "source": [
    "train_df = pd.read_csv(os.path.join(data_path, \"train.csv\"))\n",
    "valid_df = pd.read_csv(os.path.join(data_path, \"valid.csv\"))"
   ]
  },
  {
   "cell_type": "code",
   "execution_count": 5,
   "id": "59a3f8a97e823dcb",
   "metadata": {
    "ExecuteTime": {
     "end_time": "2024-08-02T07:58:12.792259Z",
     "start_time": "2024-08-02T07:58:12.558964Z"
    }
   },
   "outputs": [],
   "source": [
    "std_scaler = StandardScaler()\n",
    "train_data = transform_and_scale_df(train_df, std_scaler)\n",
    "valid_data = transform_and_scale_df(valid_df, std_scaler, fit_scale=False)"
   ]
  },
  {
   "cell_type": "code",
   "execution_count": 6,
   "id": "46dd835dc0133cdf",
   "metadata": {
    "ExecuteTime": {
     "end_time": "2024-08-02T07:58:12.991294Z",
     "start_time": "2024-08-02T07:58:12.793261Z"
    }
   },
   "outputs": [
    {
     "name": "stdout",
     "output_type": "stream",
     "text": [
      "Class weights:\n",
      "\t1-0: 0.6719252445731612\n",
      "\t0-1: 0.6972429817947734\n",
      "\t1/2-1/2: 12.900070154830079\n"
     ]
    }
   ],
   "source": [
    "class_weights = get_class_weights(train_df[\"Result\"], verbose=True)"
   ]
  },
  {
   "cell_type": "code",
   "execution_count": 7,
   "id": "ff88f0d022add37c",
   "metadata": {
    "ExecuteTime": {
     "end_time": "2024-08-02T07:58:13.052024Z",
     "start_time": "2024-08-02T07:58:12.992720Z"
    }
   },
   "outputs": [],
   "source": [
    "x_train_data, y_train = get_x_and_y(train_data, predict_draws=True)\n",
    "x_valid_data, y_valid = get_x_and_y(valid_data, predict_draws=True)"
   ]
  },
  {
   "cell_type": "markdown",
   "id": "8f91c4010fe4f7eb",
   "metadata": {},
   "source": "## Random Forest"
  },
  {
   "cell_type": "code",
   "execution_count": 8,
   "id": "5899f91ac5478b3e",
   "metadata": {
    "ExecuteTime": {
     "end_time": "2024-08-02T07:58:13.075722Z",
     "start_time": "2024-08-02T07:58:13.053430Z"
    }
   },
   "outputs": [],
   "source": [
    "random_forest_params = {\n",
    "    \"n_estimators\": [24, 32, 56],\n",
    "    \"max_depth\": [10, 11, 12],\n",
    "    \"max_features\": [\"sqrt\", 0.5],\n",
    "    \"min_samples_split\": [7e-5, 13e-5, 25e-5, 50e-5],\n",
    "    \"min_samples_leaf\": [1e-5, 3e-5, 8e-5, 12e-5],\n",
    "    \"min_impurity_decrease\": [5e-6, 1e-5, 1e-4, 2e-4],\n",
    "    \"min_weight_fraction_leaf\": [0.0, 1e-5, 2e-5, 5e-5],\n",
    "    \"max_leaf_nodes\": [None, 350, 400, 450],\n",
    "}\n",
    "\n",
    "forest_clf = RandomForestClassifier(\n",
    "    class_weight=class_weights, verbose=0, n_jobs=-1, random_state=BASELINE_RANDOM_STATE\n",
    ")\n",
    "\n",
    "random_search = RandomizedSearchCV(\n",
    "    estimator=forest_clf,\n",
    "    param_distributions=random_forest_params,\n",
    "    n_iter=15,\n",
    "    cv=5,\n",
    "    verbose=3,\n",
    "    random_state=BASELINE_RANDOM_STATE,\n",
    "    scoring=\"recall_macro\",\n",
    "    return_train_score=True,\n",
    ")"
   ]
  },
  {
   "cell_type": "code",
   "execution_count": 9,
   "id": "1de96540e639e5a4",
   "metadata": {
    "ExecuteTime": {
     "end_time": "2024-08-02T07:59:29.394263Z",
     "start_time": "2024-08-02T07:58:13.077049Z"
    }
   },
   "outputs": [
    {
     "name": "stdout",
     "output_type": "stream",
     "text": [
      "Fitting 5 folds for each of 1 candidates, totalling 5 fits\n",
      "[CV 1/5] END max_depth=12, max_features=0.5, max_leaf_nodes=None, min_impurity_decrease=0.0001, min_samples_leaf=3e-05, min_samples_split=7e-05, min_weight_fraction_leaf=1e-05, n_estimators=24;, score=(train=0.473, test=0.465) total time=   9.3s\n",
      "[CV 2/5] END max_depth=12, max_features=0.5, max_leaf_nodes=None, min_impurity_decrease=0.0001, min_samples_leaf=3e-05, min_samples_split=7e-05, min_weight_fraction_leaf=1e-05, n_estimators=24;, score=(train=0.475, test=0.468) total time=   8.0s\n",
      "[CV 3/5] END max_depth=12, max_features=0.5, max_leaf_nodes=None, min_impurity_decrease=0.0001, min_samples_leaf=3e-05, min_samples_split=7e-05, min_weight_fraction_leaf=1e-05, n_estimators=24;, score=(train=0.472, test=0.471) total time=   8.2s\n",
      "[CV 4/5] END max_depth=12, max_features=0.5, max_leaf_nodes=None, min_impurity_decrease=0.0001, min_samples_leaf=3e-05, min_samples_split=7e-05, min_weight_fraction_leaf=1e-05, n_estimators=24;, score=(train=0.472, test=0.468) total time=   8.3s\n",
      "[CV 5/5] END max_depth=12, max_features=0.5, max_leaf_nodes=None, min_impurity_decrease=0.0001, min_samples_leaf=3e-05, min_samples_split=7e-05, min_weight_fraction_leaf=1e-05, n_estimators=24;, score=(train=0.473, test=0.464) total time=   8.2s\n"
     ]
    }
   ],
   "source": [
    "_ = random_search.fit(x_train_data, y_train)"
   ]
  },
  {
   "cell_type": "code",
   "execution_count": 10,
   "id": "3fa784687fbf1894",
   "metadata": {
    "ExecuteTime": {
     "end_time": "2024-08-02T07:59:36.217169Z",
     "start_time": "2024-08-02T07:59:36.198560Z"
    }
   },
   "outputs": [
    {
     "name": "stdout",
     "output_type": "stream",
     "text": [
      "Best Score: 0.467340121447312\n",
      "Best Parameters: {'n_estimators': 24, 'min_weight_fraction_leaf': 1e-05, 'min_samples_split': 7e-05, 'min_samples_leaf': 3e-05, 'min_impurity_decrease': 0.0001, 'max_leaf_nodes': None, 'max_features': 0.5, 'max_depth': 12}\n"
     ]
    }
   ],
   "source": [
    "print(f\"Best Score: {random_search.best_score_}\")\n",
    "print(f\"Best Parameters: {random_search.best_params_}\")"
   ]
  },
  {
   "cell_type": "markdown",
   "id": "a118fb3c4469ea9f",
   "metadata": {},
   "source": "Let's take a look at the worst parameters."
  },
  {
   "cell_type": "code",
   "execution_count": 17,
   "id": "a268af4c00d0882",
   "metadata": {
    "ExecuteTime": {
     "end_time": "2024-08-02T08:02:23.454720Z",
     "start_time": "2024-08-02T08:02:23.418745Z"
    }
   },
   "outputs": [
    {
     "data": {
      "text/html": [
       "<div>\n",
       "<style scoped>\n",
       "    .dataframe tbody tr th:only-of-type {\n",
       "        vertical-align: middle;\n",
       "    }\n",
       "\n",
       "    .dataframe tbody tr th {\n",
       "        vertical-align: top;\n",
       "    }\n",
       "\n",
       "    .dataframe thead th {\n",
       "        text-align: right;\n",
       "    }\n",
       "</style>\n",
       "<table border=\"1\" class=\"dataframe\">\n",
       "  <thead>\n",
       "    <tr style=\"text-align: right;\">\n",
       "      <th></th>\n",
       "      <th></th>\n",
       "      <th></th>\n",
       "      <th></th>\n",
       "      <th></th>\n",
       "      <th></th>\n",
       "      <th></th>\n",
       "      <th></th>\n",
       "      <th>mean_test_score</th>\n",
       "    </tr>\n",
       "    <tr>\n",
       "      <th>param_n_estimators</th>\n",
       "      <th>param_min_weight_fraction_leaf</th>\n",
       "      <th>param_min_samples_split</th>\n",
       "      <th>param_min_samples_leaf</th>\n",
       "      <th>param_min_impurity_decrease</th>\n",
       "      <th>param_max_leaf_nodes</th>\n",
       "      <th>param_max_features</th>\n",
       "      <th>param_max_depth</th>\n",
       "      <th></th>\n",
       "    </tr>\n",
       "  </thead>\n",
       "  <tbody>\n",
       "  </tbody>\n",
       "</table>\n",
       "</div>"
      ],
      "text/plain": [
       "Empty DataFrame\n",
       "Columns: [mean_test_score]\n",
       "Index: []"
      ]
     },
     "execution_count": 17,
     "metadata": {},
     "output_type": "execute_result"
    }
   ],
   "source": [
    "get_worst_params_df(random_search.cv_results_).head(5)"
   ]
  },
  {
   "cell_type": "code",
   "execution_count": 18,
   "id": "d0bd08f7cd2581fe",
   "metadata": {
    "ExecuteTime": {
     "end_time": "2024-08-02T08:02:41.049900Z",
     "start_time": "2024-08-02T08:02:31.787317Z"
    }
   },
   "outputs": [],
   "source": [
    "best_forest_clf = random_search.best_estimator_.fit(x_train_data, y_train)"
   ]
  },
  {
   "cell_type": "code",
   "execution_count": 19,
   "id": "2b23a511c6c52a48",
   "metadata": {
    "ExecuteTime": {
     "end_time": "2024-08-02T08:03:09.505571Z",
     "start_time": "2024-08-02T08:02:43.707354Z"
    }
   },
   "outputs": [
    {
     "name": "stdout",
     "output_type": "stream",
     "text": [
      "\t\t\t\t\t\t Train Report \t\t\t\t\t\t\t\t\t Validation Report\n",
      "              precision    recall  f1-score   support         precision    recall  f1-score   support\n",
      "         0-1       0.62      0.38      0.47    378005              0.61      0.38      0.47     45215\n",
      "         1-0       0.60      0.45      0.52    392248              0.60      0.46      0.52     47511\n",
      "     1/2-1/2       0.05      0.57      0.08     20431              0.05      0.56      0.09      2537\n",
      "    accuracy                           0.42    790684                                  0.43     95263\n",
      "   macro avg       0.42      0.47      0.36    790684              0.42      0.47      0.36     95263\n",
      "weighted avg       0.59      0.42      0.49    790684              0.59      0.43      0.49     95263\n",
      "       \n"
     ]
    }
   ],
   "source": [
    "print_report(best_forest_clf, x_train_data, y_train, x_valid_data, y_valid)"
   ]
  },
  {
   "cell_type": "code",
   "execution_count": 20,
   "id": "3aa4ca1d79ca8ed",
   "metadata": {
    "ExecuteTime": {
     "end_time": "2024-08-02T08:03:09.774922Z",
     "start_time": "2024-08-02T08:03:09.506862Z"
    }
   },
   "outputs": [
    {
     "data": {
      "image/png": "[encoded data removed]",
      "text/plain": [
       "<Figure size 700x500 with 1 Axes>"
      ]
     },
     "metadata": {},
     "output_type": "display_data"
    }
   ],
   "source": [
    "feature_importance = best_forest_clf.feature_importances_.reshape(1, -1)\n",
    "show_feature_importance(best_forest_clf, feature_importance)"
   ]
  },
  {
   "cell_type": "markdown",
   "id": "517f5c59bba35e0a",
   "metadata": {},
   "source": "## Gradient Boosting"
  },
  {
   "cell_type": "code",
   "execution_count": 68,
   "id": "270a5b7c7abb6a15",
   "metadata": {
    "ExecuteTime": {
     "end_time": "2024-08-02T08:29:02.573869Z",
     "start_time": "2024-08-02T08:29:02.558755Z"
    }
   },
   "outputs": [],
   "source": [
    "gradient_boosting_params = {\n",
    "    \"n_estimators\": [10, 15, 20],\n",
    "    \"max_depth\": [2, 3, 4],\n",
    "    \"max_features\": [\"sqrt\", 0.5],\n",
    "    \"learning_rate\": [0.1, 0.05],\n",
    "    \"tol\": [0.1],\n",
    "    # \"min_samples_split\": [3e-5, 7e-5, 13e-5, 25e-5],\n",
    "    # \"min_samples_leaf\": [1e-5, 3e-5, 8e-5, 12e-5],\n",
    "    # \"min_impurity_decrease\": [1e-5, 1e-4, 2e-4],\n",
    "    \"min_weight_fraction_leaf\": [1e-4, 2e-4, 5e-4],\n",
    "}\n",
    "\n",
    "boosting_clf = GradientBoostingClassifier(verbose=0, validation_fraction=0.1)\n",
    "\n",
    "random_search = RandomizedSearchCV(\n",
    "    estimator=boosting_clf,\n",
    "    param_distributions=gradient_boosting_params,\n",
    "    n_iter=3,\n",
    "    cv=5,\n",
    "    verbose=3,\n",
    "    random_state=42,\n",
    "    scoring=\"recall_macro\",\n",
    "    return_train_score=True,\n",
    "    # pre_dispatch=7,\n",
    "    n_jobs=-1,\n",
    ")"
   ]
  },
  {
   "cell_type": "code",
   "execution_count": 69,
   "id": "ece45c8d16887f8e",
   "metadata": {
    "ExecuteTime": {
     "end_time": "2024-08-02T08:30:45.938613Z",
     "start_time": "2024-08-02T08:29:03.052618Z"
    }
   },
   "outputs": [
    {
     "name": "stdout",
     "output_type": "stream",
     "text": [
      "Fitting 5 folds for each of 3 candidates, totalling 15 fits\n",
      "[CV] END learning_rate=0.1, max_depth=2, max_features=0.5, min_weight_fraction_leaf=0.0001, n_estimators=15, tol=0.1; total time=  38.0s\n",
      "[CV] END learning_rate=0.1, max_depth=2, max_features=0.5, min_weight_fraction_leaf=0.0001, n_estimators=15, tol=0.1; total time=  38.2s\n",
      "[CV] END learning_rate=0.1, max_depth=2, max_features=0.5, min_weight_fraction_leaf=0.0001, n_estimators=15, tol=0.1; total time=  40.8s\n",
      "[CV] END learning_rate=0.05, max_depth=3, max_features=sqrt, min_weight_fraction_leaf=0.0002, n_estimators=20, tol=0.1; total time=  43.4s\n",
      "[CV] END learning_rate=0.05, max_depth=3, max_features=sqrt, min_weight_fraction_leaf=0.0002, n_estimators=20, tol=0.1; total time=  43.4s\n",
      "[CV] END learning_rate=0.05, max_depth=3, max_features=sqrt, min_weight_fraction_leaf=0.0002, n_estimators=20, tol=0.1; total time=  44.8s\n",
      "[CV] END learning_rate=0.05, max_depth=3, max_features=sqrt, min_weight_fraction_leaf=0.0002, n_estimators=20, tol=0.1; total time=  45.0s\n",
      "[CV] END learning_rate=0.05, max_depth=3, max_features=sqrt, min_weight_fraction_leaf=0.0002, n_estimators=20, tol=0.1; total time=  44.5s\n",
      "[CV] END learning_rate=0.1, max_depth=2, max_features=sqrt, min_weight_fraction_leaf=0.0002, n_estimators=15, tol=0.1; total time=  22.0s\n",
      "[CV] END learning_rate=0.1, max_depth=2, max_features=0.5, min_weight_fraction_leaf=0.0001, n_estimators=15, tol=0.1; total time=  29.7s\n",
      "[CV] END learning_rate=0.1, max_depth=2, max_features=sqrt, min_weight_fraction_leaf=0.0002, n_estimators=15, tol=0.1; total time=  21.5s\n",
      "[CV] END learning_rate=0.1, max_depth=2, max_features=sqrt, min_weight_fraction_leaf=0.0002, n_estimators=15, tol=0.1; total time=  23.2s\n",
      "[CV] END learning_rate=0.1, max_depth=2, max_features=sqrt, min_weight_fraction_leaf=0.0002, n_estimators=15, tol=0.1; total time=  23.1s\n",
      "[CV] END learning_rate=0.1, max_depth=2, max_features=sqrt, min_weight_fraction_leaf=0.0002, n_estimators=15, tol=0.1; total time=  23.2s\n",
      "[CV] END learning_rate=0.1, max_depth=2, max_features=0.5, min_weight_fraction_leaf=0.0001, n_estimators=15, tol=0.1; total time=  29.7s\n"
     ]
    }
   ],
   "source": [
    "with parallel_backend(\"multiprocessing\"):\n",
    "    random_search.fit(x_train_data, y_train)"
   ]
  },
  {
   "cell_type": "code",
   "execution_count": 71,
   "id": "c72bec7fb8e8f31d",
   "metadata": {
    "ExecuteTime": {
     "end_time": "2024-08-02T08:30:50.096551Z",
     "start_time": "2024-08-02T08:30:50.080456Z"
    }
   },
   "outputs": [
    {
     "name": "stdout",
     "output_type": "stream",
     "text": [
      "Best Score: 0.40166798435450213\n",
      "Best Parameters: {'tol': 0.1, 'n_estimators': 15, 'min_weight_fraction_leaf': 0.0001, 'max_features': 0.5, 'max_depth': 2, 'learning_rate': 0.1}\n"
     ]
    }
   ],
   "source": [
    "print(f\"Best Score: {random_search.best_score_}\")\n",
    "print(f\"Best Parameters: {random_search.best_params_}\")"
   ]
  },
  {
   "cell_type": "code",
   "execution_count": 72,
   "id": "ebcafabfafb0a187",
   "metadata": {
    "ExecuteTime": {
     "end_time": "2024-08-02T08:30:51.634545Z",
     "start_time": "2024-08-02T08:30:51.607355Z"
    }
   },
   "outputs": [
    {
     "data": {
      "text/html": [
       "<div>\n",
       "<style scoped>\n",
       "    .dataframe tbody tr th:only-of-type {\n",
       "        vertical-align: middle;\n",
       "    }\n",
       "\n",
       "    .dataframe tbody tr th {\n",
       "        vertical-align: top;\n",
       "    }\n",
       "\n",
       "    .dataframe thead th {\n",
       "        text-align: right;\n",
       "    }\n",
       "</style>\n",
       "<table border=\"1\" class=\"dataframe\">\n",
       "  <thead>\n",
       "    <tr style=\"text-align: right;\">\n",
       "      <th></th>\n",
       "      <th></th>\n",
       "      <th></th>\n",
       "      <th></th>\n",
       "      <th></th>\n",
       "      <th></th>\n",
       "      <th>mean_test_score</th>\n",
       "    </tr>\n",
       "    <tr>\n",
       "      <th>param_tol</th>\n",
       "      <th>param_n_estimators</th>\n",
       "      <th>param_min_weight_fraction_leaf</th>\n",
       "      <th>param_max_features</th>\n",
       "      <th>param_max_depth</th>\n",
       "      <th>param_learning_rate</th>\n",
       "      <th></th>\n",
       "    </tr>\n",
       "  </thead>\n",
       "  <tbody>\n",
       "    <tr>\n",
       "      <th rowspan=\"3\" valign=\"top\">0.1</th>\n",
       "      <th>15</th>\n",
       "      <th>0.0002</th>\n",
       "      <th>sqrt</th>\n",
       "      <th>2</th>\n",
       "      <th>0.10</th>\n",
       "      <td>0.400181</td>\n",
       "    </tr>\n",
       "    <tr>\n",
       "      <th>20</th>\n",
       "      <th>0.0002</th>\n",
       "      <th>sqrt</th>\n",
       "      <th>3</th>\n",
       "      <th>0.05</th>\n",
       "      <td>0.400329</td>\n",
       "    </tr>\n",
       "    <tr>\n",
       "      <th>15</th>\n",
       "      <th>0.0001</th>\n",
       "      <th>0.5</th>\n",
       "      <th>2</th>\n",
       "      <th>0.10</th>\n",
       "      <td>0.401668</td>\n",
       "    </tr>\n",
       "  </tbody>\n",
       "</table>\n",
       "</div>"
      ],
      "text/plain": [
       "                                                                                                                    mean_test_score\n",
       "param_tol param_n_estimators param_min_weight_fraction_leaf param_max_features param_max_depth param_learning_rate                 \n",
       "0.1       15                 0.0002                         sqrt               2               0.10                        0.400181\n",
       "          20                 0.0002                         sqrt               3               0.05                        0.400329\n",
       "          15                 0.0001                         0.5                2               0.10                        0.401668"
      ]
     },
     "execution_count": 72,
     "metadata": {},
     "output_type": "execute_result"
    }
   ],
   "source": [
    "get_worst_params_df(random_search.cv_results_).head(5)"
   ]
  },
  {
   "cell_type": "code",
   "execution_count": 73,
   "id": "d07d11f1477205a3",
   "metadata": {
    "ExecuteTime": {
     "end_time": "2024-08-02T08:31:09.876701Z",
     "start_time": "2024-08-02T08:30:52.321242Z"
    }
   },
   "outputs": [],
   "source": [
    "best_boosting_clf = random_search.best_estimator_.fit(x_train_data, y_train)"
   ]
  },
  {
   "cell_type": "code",
   "execution_count": 74,
   "id": "670eb6d106e06d33",
   "metadata": {
    "ExecuteTime": {
     "end_time": "2024-08-02T08:31:34.827928Z",
     "start_time": "2024-08-02T08:31:09.877917Z"
    }
   },
   "outputs": [
    {
     "name": "stdout",
     "output_type": "stream",
     "text": [
      "\t\t\t\t\t\t Train Report \t\t\t\t\t\t\t\t\t Validation Report\n",
      "              precision    recall  f1-score   support         precision    recall  f1-score   support\n",
      "         0-1       0.59      0.54      0.56    378005              0.59      0.53      0.56     45215\n",
      "         1-0       0.58      0.67      0.62    392248              0.58      0.67      0.62     47511\n",
      "     1/2-1/2        nan      0.00      0.00     20431               nan      0.00      0.00      2537\n",
      "    accuracy                           0.59    790684                                  0.59     95263\n",
      "   macro avg       0.59      0.40      0.40    790684              0.59      0.40      0.39     95263\n",
      "weighted avg       0.59      0.59      0.58    790684              0.59      0.59      0.58     95263\n",
      "       \n"
     ]
    }
   ],
   "source": [
    "print_report(best_boosting_clf, x_train_data, y_train, x_valid_data, y_valid)"
   ]
  },
  {
   "cell_type": "code",
   "execution_count": 75,
   "id": "698d45d05149d240",
   "metadata": {
    "ExecuteTime": {
     "end_time": "2024-08-02T08:31:35.059350Z",
     "start_time": "2024-08-02T08:31:34.828933Z"
    }
   },
   "outputs": [
    {
     "data": {
      "image/png": "[encoded data removed]",
      "text/plain": [
       "<Figure size 700x500 with 1 Axes>"
      ]
     },
     "metadata": {},
     "output_type": "display_data"
    }
   ],
   "source": [
    "feature_importance = best_boosting_clf.feature_importances_.reshape(1, -1)\n",
    "show_feature_importance(best_boosting_clf, feature_importance)"
   ]
  },
  {
   "cell_type": "code",
   "execution_count": null,
   "id": "82820926180cf2c6",
   "metadata": {},
   "outputs": [],
   "source": []
  }
 ],
 "metadata": {
  "kernelspec": {
   "display_name": "Python 3",
   "language": "python",
   "name": "python3"
  },
  "language_info": {
   "codemirror_mode": {
    "name": "ipython",
    "version": 2
   },
   "file_extension": ".py",
   "mimetype": "text/x-python",
   "name": "python",
   "nbconvert_exporter": "python",
   "pygments_lexer": "ipython2",
   "version": "2.7.6"
  }
 },
 "nbformat": 4,
 "nbformat_minor": 5
}
