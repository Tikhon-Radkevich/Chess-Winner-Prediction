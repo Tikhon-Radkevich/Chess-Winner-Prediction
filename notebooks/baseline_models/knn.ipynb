{
 "cells": [
  {
   "cell_type": "code",
   "id": "initial_id",
   "metadata": {
    "collapsed": true,
    "ExecuteTime": {
     "end_time": "2024-08-06T21:31:34.520474Z",
     "start_time": "2024-08-06T21:31:34.505539Z"
    }
   },
   "source": [
    "%load_ext autoreload\n",
    "%autoreload 2"
   ],
   "outputs": [],
   "execution_count": 1
  },
  {
   "cell_type": "code",
   "id": "242cb30450f4634f",
   "metadata": {
    "ExecuteTime": {
     "end_time": "2024-08-06T21:31:36.012741Z",
     "start_time": "2024-08-06T21:31:34.565387Z"
    }
   },
   "source": [
    "import os\n",
    "from joblib import parallel_backend\n",
    "\n",
    "import pandas as pd\n",
    "import numpy as np\n",
    "\n",
    "from sklearn.base import BaseEstimator, ClassifierMixin\n",
    "from sklearn.model_selection import RandomizedSearchCV\n",
    "from sklearn.neighbors import KNeighborsClassifier\n",
    "from sklearn.preprocessing import StandardScaler\n",
    "from sklearn.metrics import balanced_accuracy_score\n",
    "from sklearn.utils import resample\n",
    "\n",
    "from chesswinnerprediction.baseline.constants import BASELINE_RANDOM_STATE\n",
    "from chesswinnerprediction.constants import (\n",
    "    DRAW_STR,\n",
    "    BLACK_WIN_STR,\n",
    "    WHITE_WIN_STR,\n",
    "    PROCESSED_FOLDER_PATH,\n",
    ")\n",
    "from chesswinnerprediction.baseline.utils import (\n",
    "    estimate_baseline_model,\n",
    "    get_x_and_y,\n",
    "    transform_and_scale_df,\n",
    ")"
   ],
   "outputs": [],
   "execution_count": 2
  },
  {
   "cell_type": "markdown",
   "id": "d988a621515f971d",
   "metadata": {},
   "source": "## Load Data"
  },
  {
   "cell_type": "code",
   "id": "a7121f70c57ab9f3",
   "metadata": {
    "ExecuteTime": {
     "end_time": "2024-08-06T21:31:36.028496Z",
     "start_time": "2024-08-06T21:31:36.014239Z"
    }
   },
   "source": [
    "data_dir = \"lichess_db_standard_rated_2017-05\"\n",
    "data_path = os.path.join(PROCESSED_FOLDER_PATH, data_dir)"
   ],
   "outputs": [],
   "execution_count": 3
  },
  {
   "cell_type": "code",
   "id": "d8a69ab5ad460e86",
   "metadata": {
    "ExecuteTime": {
     "end_time": "2024-08-06T21:31:40.178577Z",
     "start_time": "2024-08-06T21:31:36.029644Z"
    }
   },
   "source": [
    "train_df = pd.read_csv(os.path.join(data_path, \"train.csv\"))\n",
    "valid_df = pd.read_csv(os.path.join(data_path, \"valid.csv\"))"
   ],
   "outputs": [],
   "execution_count": 4
  },
  {
   "cell_type": "code",
   "id": "2fc6f50a6e4c50c7",
   "metadata": {
    "ExecuteTime": {
     "end_time": "2024-08-06T21:31:40.413513Z",
     "start_time": "2024-08-06T21:31:40.180235Z"
    }
   },
   "source": [
    "std_scaler = StandardScaler()\n",
    "train_data = transform_and_scale_df(train_df, std_scaler)\n",
    "valid_data = transform_and_scale_df(valid_df, std_scaler, fit_scaler=False)"
   ],
   "outputs": [],
   "execution_count": 5
  },
  {
   "cell_type": "code",
   "id": "86e715693ff5208d",
   "metadata": {
    "ExecuteTime": {
     "end_time": "2024-08-06T21:31:40.460148Z",
     "start_time": "2024-08-06T21:31:40.414438Z"
    }
   },
   "source": [
    "X_train, y_train = get_x_and_y(train_data, predict_draws=True)\n",
    "X_valid, y_valid = get_x_and_y(valid_data, predict_draws=True)"
   ],
   "outputs": [],
   "execution_count": 6
  },
  {
   "cell_type": "markdown",
   "id": "c268cb791db255cf",
   "metadata": {},
   "source": "## KNN Implementation"
  },
  {
   "cell_type": "code",
   "id": "6aa0e687b0d8b371",
   "metadata": {
    "ExecuteTime": {
     "end_time": "2024-08-06T21:38:16.852607Z",
     "start_time": "2024-08-06T21:38:16.828292Z"
    }
   },
   "source": [
    "class CustomKNNClassifier(BaseEstimator, ClassifierMixin):\n",
    "    classes_ = [DRAW_STR, BLACK_WIN_STR, WHITE_WIN_STR]\n",
    "\n",
    "    def __init__(\n",
    "        self,\n",
    "        wins_constant=0.03,\n",
    "        draws_constant=0.05,\n",
    "        n_neighbors=100,\n",
    "        weights=\"distance\",\n",
    "        score_size=0.1,\n",
    "        random_state=None,\n",
    "        leaf_size=30,\n",
    "    ):\n",
    "        self.wins_constant = wins_constant\n",
    "        self.leaf_size = leaf_size\n",
    "        self.draws_constant = draws_constant\n",
    "        self.n_neighbors = n_neighbors\n",
    "        self.weights = weights\n",
    "        self.score_size = score_size\n",
    "        self.random_state = random_state\n",
    "        self.knn = KNeighborsClassifier(\n",
    "            n_neighbors=n_neighbors, weights=weights, n_jobs=-1, leaf_size=leaf_size\n",
    "        )\n",
    "\n",
    "    def balance_dataset(self, train_data_df):\n",
    "        draws = train_data_df[train_data_df[\"Result\"] == DRAW_STR]\n",
    "        black_win = train_data_df[train_data_df[\"Result\"] == BLACK_WIN_STR]\n",
    "        white_win = train_data_df[train_data_df[\"Result\"] == WHITE_WIN_STR]\n",
    "\n",
    "        n_draws = int(draws.shape[0] * (1 + self.draws_constant))\n",
    "        n_black_wins = n_white_wins = int(n_draws * (1 + self.wins_constant))\n",
    "\n",
    "        draws_oversample = resample(\n",
    "            draws, replace=True, n_samples=n_draws, random_state=self.random_state\n",
    "        )\n",
    "        black_wins_undersample = resample(\n",
    "            black_win,\n",
    "            replace=False,\n",
    "            n_samples=n_black_wins,\n",
    "            random_state=self.random_state,\n",
    "        )\n",
    "        white_wins_undersample = resample(\n",
    "            white_win,\n",
    "            replace=False,\n",
    "            n_samples=n_white_wins,\n",
    "            random_state=self.random_state,\n",
    "        )\n",
    "\n",
    "        balanced_df = pd.concat(\n",
    "            [draws_oversample, black_wins_undersample, white_wins_undersample]\n",
    "        )\n",
    "        return balanced_df\n",
    "\n",
    "    def fit(self, x, y):\n",
    "        train_data_df = pd.concat([x, y], axis=1)\n",
    "        balanced_df = self.balance_dataset(train_data_df)\n",
    "        X_balanced, y_balanced = (\n",
    "            balanced_df.drop(\"Result\", axis=1),\n",
    "            balanced_df[\"Result\"],\n",
    "        )\n",
    "        self.knn.fit(X_balanced, y_balanced)\n",
    "        return self\n",
    "\n",
    "    def predict(self, x):\n",
    "        return self.knn.predict(x)\n",
    "\n",
    "    def predict_proba(self, x):\n",
    "        return self.knn.predict_proba(x)\n",
    "\n",
    "    def score(self, x, y, use_subset=True, **kwargs):\n",
    "        if not use_subset:\n",
    "            return balanced_accuracy_score(y, self.predict(x))\n",
    "\n",
    "        subset_size = int(len(x) * self.score_size)\n",
    "        indices = np.random.choice(len(x), size=subset_size, replace=False)\n",
    "        X_subset = x.iloc[indices]\n",
    "        y_subset = y.iloc[indices]\n",
    "\n",
    "        y_pred = self.predict(X_subset)\n",
    "        return balanced_accuracy_score(y_subset, y_pred)"
   ],
   "outputs": [],
   "execution_count": 26
  },
  {
   "cell_type": "code",
   "id": "9701bc37b4fe8dcc",
   "metadata": {
    "ExecuteTime": {
     "end_time": "2024-08-06T21:38:17.097847Z",
     "start_time": "2024-08-06T21:38:17.074169Z"
    }
   },
   "source": [
    "param_distributions = {\n",
    "    \"wins_constant\": [0.01, 0.1, 0.2, 0.5],\n",
    "    \"draws_constant\": [0.01, 0.1, 0.2, 0.5, 1, 2],\n",
    "    \"n_neighbors\": [55, 65, 75, 85, 95],\n",
    "    \"weights\": [\"uniform\", \"distance\"],\n",
    "    \"random_state\": [BASELINE_RANDOM_STATE],\n",
    "}\n",
    "\n",
    "random_search = RandomizedSearchCV(\n",
    "    estimator=CustomKNNClassifier(),\n",
    "    param_distributions=param_distributions,\n",
    "    n_iter=20,\n",
    "    scoring=None,\n",
    "    cv=5,\n",
    "    random_state=BASELINE_RANDOM_STATE,\n",
    "    verbose=3,\n",
    "    n_jobs=-1,\n",
    "    error_score=\"raise\",\n",
    "    return_train_score=False,\n",
    ")"
   ],
   "outputs": [],
   "execution_count": 27
  },
  {
   "cell_type": "code",
   "id": "4e0e433c93db8c17",
   "metadata": {},
   "source": [
    "with parallel_backend(\"multiprocessing\"):\n",
    "    random_search.fit(X_train, y_train)"
   ],
   "outputs": [],
   "execution_count": null
  },
  {
   "cell_type": "code",
   "id": "f598dc3c10658b49",
   "metadata": {
    "ExecuteTime": {
     "end_time": "2024-08-06T21:38:25.870657Z",
     "start_time": "2024-08-06T21:38:25.838420Z"
    }
   },
   "source": [
    "random_search.best_score_"
   ],
   "outputs": [
    {
     "data": {
      "text/plain": [
       "np.float64(0.447698955214544)"
      ]
     },
     "execution_count": 29,
     "metadata": {},
     "output_type": "execute_result"
    }
   ],
   "execution_count": 29
  },
  {
   "cell_type": "code",
   "id": "8d521a673d74656f",
   "metadata": {
    "ExecuteTime": {
     "end_time": "2024-08-06T21:34:14.122491Z",
     "start_time": "2024-08-06T21:34:14.105131Z"
    }
   },
   "source": [
    "random_search.best_params_"
   ],
   "outputs": [
    {
     "data": {
      "text/plain": [
       "{'wins_constant': 0.2,\n",
       " 'weights': 'distance',\n",
       " 'random_state': 42,\n",
       " 'n_neighbors': 55,\n",
       " 'draws_constant': 0.2}"
      ]
     },
     "execution_count": 11,
     "metadata": {},
     "output_type": "execute_result"
    }
   ],
   "execution_count": 11
  },
  {
   "cell_type": "markdown",
   "id": "1c6b093bc1a1967e",
   "metadata": {},
   "source": "## Best KNN model"
  },
  {
   "cell_type": "code",
   "id": "93288a66aed02b4f",
   "metadata": {
    "ExecuteTime": {
     "end_time": "2024-08-06T21:38:57.045489Z",
     "start_time": "2024-08-06T21:38:57.027153Z"
    }
   },
   "source": [
    "args = {\n",
    "    \"wins_constant\": 0.1,\n",
    "    \"weights\": \"uniform\",\n",
    "    \"random_state\": 42,\n",
    "    \"n_neighbors\": 75,\n",
    "    \"draws_constant\": 0.5,\n",
    "    \"leaf_size\": 30,\n",
    "}\n",
    "\n",
    "knn = CustomKNNClassifier(**args)"
   ],
   "outputs": [],
   "execution_count": 30
  },
  {
   "cell_type": "code",
   "id": "2ee4d9d1a2f2a264",
   "metadata": {
    "ExecuteTime": {
     "end_time": "2024-08-06T21:38:58.178684Z",
     "start_time": "2024-08-06T21:38:57.539400Z"
    }
   },
   "source": [
    "knn = knn.fit(X_train, y_train)"
   ],
   "outputs": [],
   "execution_count": 31
  },
  {
   "cell_type": "code",
   "id": "3d04f922dabeb20f",
   "metadata": {
    "ExecuteTime": {
     "end_time": "2024-08-06T21:39:07.581539Z",
     "start_time": "2024-08-06T21:38:58.688346Z"
    }
   },
   "source": [
    "knn.score(X_valid, y_valid, use_subset=False)"
   ],
   "outputs": [
    {
     "data": {
      "text/plain": [
       "np.float64(0.4583528349325734)"
      ]
     },
     "execution_count": 32,
     "metadata": {},
     "output_type": "execute_result"
    }
   ],
   "execution_count": 32
  },
  {
   "cell_type": "code",
   "id": "ecf9534da270218a",
   "metadata": {
    "ExecuteTime": {
     "end_time": "2024-08-06T21:40:53.921001Z",
     "start_time": "2024-08-06T21:39:07.582995Z"
    }
   },
   "source": [
    "feature_importance = None\n",
    "estimate_baseline_model(knn, feature_importance, X_train, y_train, X_valid, y_valid)"
   ],
   "outputs": [
    {
     "name": "stdout",
     "output_type": "stream",
     "text": [
      "Log Loss on test data: 1.0217\n",
      "Balanced Accuracy on test data: 45.84%\n",
      "\n",
      "\n",
      "                                                Classification Report\n",
      "                         Train Report                                      Validation Report\n",
      "              precision    recall  f1-score   support         precision    recall  f1-score   support\n",
      "         0-1       0.58      0.46      0.51    378005              0.58      0.45      0.51     45215\n",
      "         1-0       0.61      0.43      0.50    392248              0.61      0.43      0.51     47511\n",
      "     1/2-1/2       0.05      0.51      0.09     20431              0.05      0.49      0.09      2537\n",
      "    accuracy                           0.45    790684                                  0.45     95263\n",
      "   macro avg       0.41      0.47      0.37    790684              0.41      0.46      0.37     95263\n",
      "weighted avg       0.58      0.45      0.50    790684              0.58      0.45      0.50     95263\n",
      "       \n"
     ]
    },
    {
     "data": {
      "text/plain": [
       "<Figure size 640x480 with 2 Axes>"
      ],
      "image/png": "[encoded data removed]"
     },
     "metadata": {},
     "output_type": "display_data"
    }
   ],
   "execution_count": 33
  },
  {
   "cell_type": "code",
   "id": "f4fbf736fc5179a",
   "metadata": {},
   "source": [],
   "outputs": [],
   "execution_count": null
  }
 ],
 "metadata": {
  "kernelspec": {
   "display_name": "Python 3",
   "language": "python",
   "name": "python3"
  },
  "language_info": {
   "codemirror_mode": {
    "name": "ipython",
    "version": 2
   },
   "file_extension": ".py",
   "mimetype": "text/x-python",
   "name": "python",
   "nbconvert_exporter": "python",
   "pygments_lexer": "ipython2",
   "version": "2.7.6"
  }
 },
 "nbformat": 4,
 "nbformat_minor": 5
}
