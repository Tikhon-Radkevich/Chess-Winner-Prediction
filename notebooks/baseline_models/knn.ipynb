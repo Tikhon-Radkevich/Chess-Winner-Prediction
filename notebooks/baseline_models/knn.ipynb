{
 "cells": [
  {
   "cell_type": "code",
   "id": "initial_id",
   "metadata": {
    "collapsed": true,
    "ExecuteTime": {
     "end_time": "2024-08-08T19:20:10.503489Z",
     "start_time": "2024-08-08T19:20:10.489966Z"
    }
   },
   "source": [
    "%load_ext autoreload\n",
    "%autoreload 2"
   ],
   "outputs": [],
   "execution_count": 1
  },
  {
   "cell_type": "code",
   "id": "242cb30450f4634f",
   "metadata": {
    "ExecuteTime": {
     "end_time": "2024-08-08T19:20:12.045403Z",
     "start_time": "2024-08-08T19:20:10.542145Z"
    }
   },
   "source": [
    "import os\n",
    "from joblib import parallel_backend\n",
    "\n",
    "import mlflow.sklearn\n",
    "import pandas as pd\n",
    "import numpy as np\n",
    "\n",
    "from sklearn.base import BaseEstimator, ClassifierMixin\n",
    "from sklearn.model_selection import RandomizedSearchCV\n",
    "from sklearn.neighbors import KNeighborsClassifier\n",
    "from sklearn.preprocessing import StandardScaler\n",
    "from sklearn.metrics import balanced_accuracy_score\n",
    "from sklearn.utils import resample\n",
    "\n",
    "from config import MLRUNS_FOLDER_PATH, BASELINE_EXPERIMENT\n",
    "from chesswinnerprediction.baseline.constants import BASELINE_RANDOM_STATE\n",
    "from chesswinnerprediction.constants import (\n",
    "    DRAW_STR,\n",
    "    BLACK_WIN_STR,\n",
    "    WHITE_WIN_STR,\n",
    "    PROCESSED_FOLDER_PATH,\n",
    ")\n",
    "from chesswinnerprediction.baseline.utils import (\n",
    "    estimate_baseline_model,\n",
    "    get_x_and_y,\n",
    "    transform_and_scale_df,\n",
    ")"
   ],
   "outputs": [],
   "execution_count": 2
  },
  {
   "metadata": {},
   "cell_type": "markdown",
   "source": "## Set the MLFlow tracking URI and experiment",
   "id": "d1bde8550052d85a"
  },
  {
   "metadata": {
    "ExecuteTime": {
     "end_time": "2024-08-08T19:20:12.061976Z",
     "start_time": "2024-08-08T19:20:12.046700Z"
    }
   },
   "cell_type": "code",
   "source": "mlflow.set_tracking_uri(MLRUNS_FOLDER_PATH)",
   "id": "332017168c7a42cb",
   "outputs": [],
   "execution_count": 3
  },
  {
   "metadata": {
    "ExecuteTime": {
     "end_time": "2024-08-08T19:20:12.090988Z",
     "start_time": "2024-08-08T19:20:12.062977Z"
    }
   },
   "cell_type": "code",
   "source": [
    "if mlflow.get_experiment_by_name(BASELINE_EXPERIMENT) is not None:\n",
    "    experiment_id = mlflow.get_experiment_by_name(BASELINE_EXPERIMENT).experiment_id\n",
    "else:\n",
    "    experiment_id = mlflow.create_experiment(BASELINE_EXPERIMENT)"
   ],
   "id": "f985f2c5dc2e60d3",
   "outputs": [],
   "execution_count": 4
  },
  {
   "metadata": {
    "ExecuteTime": {
     "end_time": "2024-08-08T19:20:12.331911Z",
     "start_time": "2024-08-08T19:20:12.093046Z"
    }
   },
   "cell_type": "code",
   "source": [
    "mlflow.set_experiment(experiment_id=experiment_id)\n",
    "mlflow.sklearn.autolog(disable=False, max_tuning_runs=0)"
   ],
   "id": "3518ac4348190173",
   "outputs": [],
   "execution_count": 5
  },
  {
   "cell_type": "markdown",
   "id": "d988a621515f971d",
   "metadata": {},
   "source": "## Load Data"
  },
  {
   "cell_type": "code",
   "id": "a7121f70c57ab9f3",
   "metadata": {
    "ExecuteTime": {
     "end_time": "2024-08-08T19:20:12.351564Z",
     "start_time": "2024-08-08T19:20:12.332949Z"
    }
   },
   "source": [
    "data_dir = \"lichess_db_standard_rated_2017-05\"\n",
    "data_path = os.path.join(PROCESSED_FOLDER_PATH, data_dir)"
   ],
   "outputs": [],
   "execution_count": 6
  },
  {
   "cell_type": "code",
   "id": "d8a69ab5ad460e86",
   "metadata": {
    "ExecuteTime": {
     "end_time": "2024-08-08T19:20:12.927742Z",
     "start_time": "2024-08-08T19:20:12.352733Z"
    }
   },
   "source": [
    "train_df = pd.read_csv(os.path.join(data_path, \"train.csv\"))\n",
    "valid_df = pd.read_csv(os.path.join(data_path, \"valid.csv\"))"
   ],
   "outputs": [
    {
     "name": "stderr",
     "output_type": "stream",
     "text": [
      "\n",
      "KeyboardInterrupt\n",
      "\n"
     ]
    }
   ],
   "execution_count": 7
  },
  {
   "cell_type": "code",
   "id": "2fc6f50a6e4c50c7",
   "metadata": {},
   "source": [
    "std_scaler = StandardScaler()\n",
    "train_data = transform_and_scale_df(train_df, std_scaler)\n",
    "valid_data = transform_and_scale_df(valid_df, std_scaler, fit_scaler=False)"
   ],
   "outputs": [],
   "execution_count": null
  },
  {
   "cell_type": "code",
   "id": "86e715693ff5208d",
   "metadata": {},
   "source": [
    "X_train, y_train = get_x_and_y(train_data, predict_draws=True)\n",
    "X_valid, y_valid = get_x_and_y(valid_data, predict_draws=True)"
   ],
   "outputs": [],
   "execution_count": null
  },
  {
   "cell_type": "markdown",
   "id": "c268cb791db255cf",
   "metadata": {},
   "source": "## KNN Implementation"
  },
  {
   "cell_type": "code",
   "id": "6aa0e687b0d8b371",
   "metadata": {},
   "source": [
    "class CustomKNNClassifier(BaseEstimator, ClassifierMixin):\n",
    "    classes_ = [DRAW_STR, BLACK_WIN_STR, WHITE_WIN_STR]\n",
    "\n",
    "    def __init__(\n",
    "        self,\n",
    "        wins_constant=0.03,\n",
    "        draws_constant=0.05,\n",
    "        n_neighbors=100,\n",
    "        weights=\"distance\",\n",
    "        score_size=0.1,\n",
    "        random_state=None,\n",
    "        leaf_size=30,\n",
    "    ):\n",
    "        self.wins_constant = wins_constant\n",
    "        self.leaf_size = leaf_size\n",
    "        self.draws_constant = draws_constant\n",
    "        self.n_neighbors = n_neighbors\n",
    "        self.weights = weights\n",
    "        self.score_size = score_size\n",
    "        self.random_state = random_state\n",
    "        self.predict_draws = True\n",
    "        self.knn = KNeighborsClassifier(\n",
    "            n_neighbors=n_neighbors, weights=weights, n_jobs=-1, leaf_size=leaf_size\n",
    "        )\n",
    "    \n",
    "    def __repr__(self, **kwargs):\n",
    "        return \"CustomKNNClassifier\"\n",
    "    \n",
    "    def __str__(self, **kwargs):\n",
    "        return \"CustomKNNClassifier\"\n",
    "\n",
    "    def balance_dataset(self, train_data_df):\n",
    "        draws = train_data_df[train_data_df[\"Result\"] == DRAW_STR]\n",
    "        black_win = train_data_df[train_data_df[\"Result\"] == BLACK_WIN_STR]\n",
    "        white_win = train_data_df[train_data_df[\"Result\"] == WHITE_WIN_STR]\n",
    "\n",
    "        n_draws = int(draws.shape[0] * (1 + self.draws_constant))\n",
    "        n_black_wins = n_white_wins = int(n_draws * (1 + self.wins_constant))\n",
    "\n",
    "        draws_oversample = resample(\n",
    "            draws, replace=True, n_samples=n_draws, random_state=self.random_state\n",
    "        )\n",
    "        black_wins_undersample = resample(\n",
    "            black_win,\n",
    "            replace=False,\n",
    "            n_samples=n_black_wins,\n",
    "            random_state=self.random_state,\n",
    "        )\n",
    "        white_wins_undersample = resample(\n",
    "            white_win,\n",
    "            replace=False,\n",
    "            n_samples=n_white_wins,\n",
    "            random_state=self.random_state,\n",
    "        )\n",
    "\n",
    "        balanced_df = pd.concat(\n",
    "            [draws_oversample, black_wins_undersample, white_wins_undersample]\n",
    "        )\n",
    "        return balanced_df\n",
    "\n",
    "    def fit(self, x, y):\n",
    "        train_data_df = pd.concat([x, y], axis=1)\n",
    "        balanced_df = self.balance_dataset(train_data_df)\n",
    "        X_balanced, y_balanced = (\n",
    "            balanced_df.drop(\"Result\", axis=1),\n",
    "            balanced_df[\"Result\"],\n",
    "        )\n",
    "        self.knn.fit(X_balanced, y_balanced)\n",
    "        return self\n",
    "\n",
    "    def predict(self, x):\n",
    "        return self.knn.predict(x)\n",
    "\n",
    "    def predict_proba(self, x):\n",
    "        return self.knn.predict_proba(x)\n",
    "\n",
    "    def score(self, x, y, use_subset=True, **kwargs):\n",
    "        if not use_subset:\n",
    "            return balanced_accuracy_score(y, self.predict(x))\n",
    "\n",
    "        subset_size = int(len(x) * self.score_size)\n",
    "        indices = np.random.choice(len(x), size=subset_size, replace=False)\n",
    "        X_subset = x.iloc[indices]\n",
    "        y_subset = y.iloc[indices]\n",
    "\n",
    "        y_pred = self.predict(X_subset)\n",
    "        return balanced_accuracy_score(y_subset, y_pred)"
   ],
   "outputs": [],
   "execution_count": null
  },
  {
   "cell_type": "code",
   "id": "9701bc37b4fe8dcc",
   "metadata": {},
   "source": [
    "param_distributions = {\n",
    "    \"wins_constant\": [0.01, 0.1, 0.2],\n",
    "    \"draws_constant\": [0.25, 0.5, 1],\n",
    "    \"n_neighbors\": [65, 75, 85],\n",
    "    \"weights\": [\"uniform\"],\n",
    "    \"random_state\": [BASELINE_RANDOM_STATE],\n",
    "}\n",
    "\n",
    "random_search = RandomizedSearchCV(\n",
    "    estimator=CustomKNNClassifier(),\n",
    "    param_distributions=param_distributions,\n",
    "    n_iter=5,\n",
    "    scoring=None,\n",
    "    cv=5,\n",
    "    random_state=BASELINE_RANDOM_STATE,\n",
    "    verbose=3,\n",
    "    n_jobs=-1,\n",
    "    error_score=np.nan,\n",
    "    return_train_score=False,\n",
    "    refit=True,\n",
    ")"
   ],
   "outputs": [],
   "execution_count": null
  },
  {
   "cell_type": "code",
   "id": "4e0e433c93db8c17",
   "metadata": {},
   "source": [
    "with mlflow.start_run(run_name=\"random_search\") as run:\n",
    "    random_search_run_id = run.info.run_id\n",
    "    mlflow.log_param(\"predict_draws\", True)\n",
    "    \n",
    "    with parallel_backend(\"multiprocessing\"):\n",
    "        random_search.fit(X_train, y_train)"
   ],
   "outputs": [],
   "execution_count": null
  },
  {
   "cell_type": "code",
   "id": "f598dc3c10658b49",
   "metadata": {},
   "source": [
    "random_search.best_score_"
   ],
   "outputs": [],
   "execution_count": null
  },
  {
   "cell_type": "code",
   "id": "8d521a673d74656f",
   "metadata": {},
   "source": [
    "random_search.best_params_"
   ],
   "outputs": [],
   "execution_count": null
  },
  {
   "cell_type": "markdown",
   "id": "1c6b093bc1a1967e",
   "metadata": {},
   "source": "## Best KNN model"
  },
  {
   "metadata": {},
   "cell_type": "code",
   "source": [
    "# args = {\n",
    "#     \"wins_constant\": 0.1,\n",
    "#     \"weights\": \"uniform\",\n",
    "#     \"random_state\": 42,\n",
    "#     \"n_neighbors\": 75,\n",
    "#     \"draws_constant\": 0.5,\n",
    "#     \"leaf_size\": 30,\n",
    "# }\n",
    "\n"
   ],
   "id": "3fb267d81d928283",
   "outputs": [],
   "execution_count": null
  },
  {
   "metadata": {},
   "cell_type": "code",
   "source": [
    "with mlflow.start_run(run_id=random_search_run_id) as run:\n",
    "    best_knn = random_search.best_estimator_\n",
    "    best_knn = best_knn.fit(X_train, y_train)\n",
    "    \n",
    "    feature_importance = None\n",
    "    score = estimate_baseline_model(best_knn, feature_importance, X_train, y_train, X_valid, y_valid)"
   ],
   "id": "93288a66aed02b4f",
   "outputs": [],
   "execution_count": null
  },
  {
   "cell_type": "code",
   "id": "f4fbf736fc5179a",
   "metadata": {},
   "source": [
    "# best_knn = random_search.best_estimator_\n",
    "# best_knn = best_knn.fit(X_train, y_train)\n",
    "# \n",
    "# feature_importance = None\n",
    "# score = estimate_baseline_model(best_knn, feature_importance, X_train, y_train, X_valid, y_valid)"
   ],
   "outputs": [],
   "execution_count": null
  },
  {
   "metadata": {},
   "cell_type": "code",
   "source": "",
   "id": "c5537d956287b46e",
   "outputs": [],
   "execution_count": null
  }
 ],
 "metadata": {
  "kernelspec": {
   "display_name": "Python 3",
   "language": "python",
   "name": "python3"
  },
  "language_info": {
   "codemirror_mode": {
    "name": "ipython",
    "version": 2
   },
   "file_extension": ".py",
   "mimetype": "text/x-python",
   "name": "python",
   "nbconvert_exporter": "python",
   "pygments_lexer": "ipython2",
   "version": "2.7.6"
  }
 },
 "nbformat": 4,
 "nbformat_minor": 5
}
