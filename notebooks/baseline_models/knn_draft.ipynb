{
 "cells": [
  {
   "cell_type": "code",
   "execution_count": null,
   "id": "initial_id",
   "metadata": {
    "collapsed": true
   },
   "outputs": [],
   "source": [
    "%load_ext autoreload\n",
    "%autoreload 2"
   ]
  },
  {
   "metadata": {
    "ExecuteTime": {
     "end_time": "2024-08-05T16:37:03.645571Z",
     "start_time": "2024-08-05T16:37:03.635271Z"
    }
   },
   "cell_type": "code",
   "source": [
    "import os\n",
    "from joblib import parallel_backend\n",
    "\n",
    "import pandas as pd\n",
    "import numpy as np\n",
    "\n",
    "from sklearn.base import BaseEstimator, ClassifierMixin\n",
    "from sklearn.model_selection import RandomizedSearchCV\n",
    "from sklearn.neighbors import KNeighborsClassifier\n",
    "from sklearn.preprocessing import StandardScaler\n",
    "from sklearn.metrics import balanced_accuracy_score\n",
    "from sklearn.utils import resample\n",
    "\n",
    "from chesswinnerprediction.baseline.utils import (\n",
    "    estimate_baseline_model,\n",
    "    get_x_and_y,\n",
    "    transform_and_scale_df,\n",
    "    print_report\n",
    ")\n",
    "from chesswinnerprediction.baseline.constants import BASELINE_RANDOM_STATE\n",
    "from chesswinnerprediction.constants import DRAW_STR, BLACK_WIN_STR, WHITE_WIN_STR, PROCESSED_FOLDER_PATH"
   ],
   "id": "242cb30450f4634f",
   "outputs": [],
   "execution_count": 253
  },
  {
   "metadata": {
    "ExecuteTime": {
     "end_time": "2024-08-05T16:16:30.840553Z",
     "start_time": "2024-08-05T16:16:30.834294Z"
    }
   },
   "cell_type": "code",
   "source": [
    "data_dir = \"lichess_db_standard_rated_2017-05\"\n",
    "data_path = os.path.join(PROCESSED_FOLDER_PATH, data_dir)"
   ],
   "id": "a7121f70c57ab9f3",
   "outputs": [],
   "execution_count": 208
  },
  {
   "metadata": {
    "ExecuteTime": {
     "end_time": "2024-08-05T16:16:36.187592Z",
     "start_time": "2024-08-05T16:16:31.131370Z"
    }
   },
   "cell_type": "code",
   "source": [
    "train_df = pd.read_csv(os.path.join(data_path, \"train.csv\"))\n",
    "valid_df = pd.read_csv(os.path.join(data_path, \"valid.csv\"))"
   ],
   "id": "d8a69ab5ad460e86",
   "outputs": [],
   "execution_count": 209
  },
  {
   "metadata": {
    "ExecuteTime": {
     "end_time": "2024-08-05T16:16:36.357467Z",
     "start_time": "2024-08-05T16:16:36.188906Z"
    }
   },
   "cell_type": "code",
   "source": [
    "std_scaler = StandardScaler()\n",
    "train_data = transform_and_scale_df(train_df, std_scaler)\n",
    "valid_data = transform_and_scale_df(valid_df, std_scaler, fit_scaler=False)"
   ],
   "id": "2fc6f50a6e4c50c7",
   "outputs": [],
   "execution_count": 210
  },
  {
   "metadata": {
    "ExecuteTime": {
     "end_time": "2024-08-05T16:30:14.807633Z",
     "start_time": "2024-08-05T16:30:14.803250Z"
    }
   },
   "cell_type": "code",
   "source": "valid_data = valid_data[:valid_data.shape[0] // 10]",
   "id": "a20c723be055096c",
   "outputs": [],
   "execution_count": 249
  },
  {
   "metadata": {
    "ExecuteTime": {
     "end_time": "2024-08-05T16:30:16.399734Z",
     "start_time": "2024-08-05T16:30:16.346083Z"
    }
   },
   "cell_type": "code",
   "source": [
    "X_train, y_train = get_x_and_y(train_data, predict_draws=True)\n",
    "X_valid, y_valid = get_x_and_y(valid_data, predict_draws=True)"
   ],
   "id": "86e715693ff5208d",
   "outputs": [],
   "execution_count": 250
  },
  {
   "metadata": {
    "ExecuteTime": {
     "end_time": "2024-08-05T16:38:34.982747Z",
     "start_time": "2024-08-05T16:38:34.975644Z"
    }
   },
   "cell_type": "code",
   "source": [
    "class CustomKNNClassifier(BaseEstimator, ClassifierMixin):\n",
    "    classes_ = [DRAW_STR, BLACK_WIN_STR, WHITE_WIN_STR]\n",
    "    \n",
    "    def __init__(self, wins_constant=0.03, draws_constant=0.05, n_neighbors=100, weights=\"distance\", score_size=0.1, random_state=None):\n",
    "        self.wins_constant = wins_constant\n",
    "        self.draws_constant = draws_constant\n",
    "        self.n_neighbors = n_neighbors\n",
    "        self.weights = weights\n",
    "        self.score_size = score_size\n",
    "        self.random_state = random_state\n",
    "        self.knn = KNeighborsClassifier(n_neighbors=n_neighbors, weights=weights, n_jobs=-1)\n",
    "\n",
    "    def balance_dataset(self, train_data_df):\n",
    "        draws = train_data_df[train_data_df[\"Result\"] == DRAW_STR]\n",
    "        black_win = train_data_df[train_data_df[\"Result\"] == BLACK_WIN_STR]\n",
    "        white_win = train_data_df[train_data_df[\"Result\"] == WHITE_WIN_STR]\n",
    "\n",
    "        n_draws = int(draws.shape[0] * (1 + self.draws_constant))\n",
    "        n_black_wins = n_white_wins = int(n_draws * (1 + self.wins_constant))\n",
    "        \n",
    "        # todo draws_oversample: replace=True ??\n",
    "        draws_oversample = resample(draws, replace=True, n_samples=n_draws, random_state=self.random_state)\n",
    "        black_wins_undersample = resample(black_win, replace=False, n_samples=n_black_wins, random_state=self.random_state)\n",
    "        white_wins_undersample = resample(white_win, replace=False, n_samples=n_white_wins, random_state=self.random_state)\n",
    "\n",
    "        balanced_df = pd.concat([draws_oversample, black_wins_undersample, white_wins_undersample])\n",
    "        return balanced_df\n",
    "\n",
    "    def fit(self, x, y):\n",
    "        train_data_df = pd.concat([x, y], axis=1)\n",
    "        train_data_df = self.balance_dataset(train_data_df)\n",
    "        X_balanced, y_balanced = train_data_df.drop(\"Result\", axis=1), train_data_df[\"Result\"]\n",
    "        self.knn.fit(X_balanced, y_balanced)\n",
    "        return self\n",
    "\n",
    "    def predict(self, x):\n",
    "        return self.knn.predict(x)\n",
    "\n",
    "    def score(self, x, y, **kwargs):\n",
    "        subset_size = int(len(x) * self.score_size)\n",
    "        indices = np.random.choice(len(x), size=subset_size, replace=False)\n",
    "        X_subset = x.iloc[indices]\n",
    "        y_subset = y.iloc[indices]\n",
    "        \n",
    "        y_pred = self.predict(X_subset)\n",
    "        return balanced_accuracy_score(y_subset, y_pred)\n"
   ],
   "id": "6aa0e687b0d8b371",
   "outputs": [],
   "execution_count": 254
  },
  {
   "metadata": {
    "ExecuteTime": {
     "end_time": "2024-08-05T16:38:56.780727Z",
     "start_time": "2024-08-05T16:38:56.771402Z"
    }
   },
   "cell_type": "code",
   "source": [
    "param_distributions = {\n",
    "    \"wins_constant\": [0.01, 0.02, 0.03, 0.04, 0.05],\n",
    "    \"draws_constant\": [0.01, 0.02, 0.03, 0.04, 0.05],\n",
    "    \"n_neighbors\": [50, 100, 150, 200, 250],\n",
    "    \"weights\": [\"uniform\", \"distance\"],\n",
    "    \"random_state\": [BASELINE_RANDOM_STATE] \n",
    "}\n",
    "\n",
    "random_search = RandomizedSearchCV(\n",
    "    estimator=CustomKNNClassifier(),\n",
    "    param_distributions=param_distributions,\n",
    "    n_iter=1,\n",
    "    scoring=None,\n",
    "    cv=5,\n",
    "    random_state=BASELINE_RANDOM_STATE,\n",
    "    verbose=3,\n",
    "    n_jobs=-1,\n",
    "    error_score=\"raise\",\n",
    "    return_train_score=True,\n",
    ")"
   ],
   "id": "9701bc37b4fe8dcc",
   "outputs": [],
   "execution_count": 257
  },
  {
   "metadata": {
    "ExecuteTime": {
     "end_time": "2024-08-05T16:39:14.302138Z",
     "start_time": "2024-08-05T16:38:56.984954Z"
    }
   },
   "cell_type": "code",
   "source": [
    "with parallel_backend(\"multiprocessing\"):\n",
    "    random_search.fit(X_train, y_train)"
   ],
   "id": "4e0e433c93db8c17",
   "outputs": [
    {
     "name": "stdout",
     "output_type": "stream",
     "text": [
      "Fitting 5 folds for each of 1 candidates, totalling 5 fits\n",
      "[CV 1/5] END draws_constant=0.03, n_neighbors=50, random_state=42, weights=uniform, wins_constant=0.03;, score=(train=0.576, test=0.445) total time=   2.8s\n",
      "[CV 4/5] END draws_constant=0.03, n_neighbors=50, random_state=42, weights=uniform, wins_constant=0.03;, score=(train=0.579, test=0.474) total time=   3.1s\n",
      "[CV 2/5] END draws_constant=0.03, n_neighbors=50, random_state=42, weights=uniform, wins_constant=0.03;, score=(train=0.577, test=0.463) total time=   3.2s\n",
      "[CV 3/5] END draws_constant=0.03, n_neighbors=50, random_state=42, weights=uniform, wins_constant=0.03;, score=(train=0.575, test=0.458) total time=   3.7s\n",
      "[CV 5/5] END draws_constant=0.03, n_neighbors=50, random_state=42, weights=uniform, wins_constant=0.03;, score=(train=0.580, test=0.440) total time=   4.1s\n"
     ]
    }
   ],
   "execution_count": 258
  },
  {
   "metadata": {
    "ExecuteTime": {
     "end_time": "2024-08-05T16:42:26.775313Z",
     "start_time": "2024-08-05T16:41:23.361114Z"
    }
   },
   "cell_type": "code",
   "source": [
    "best_knn = random_search.best_estimator_\n",
    "\n",
    "print_report(best_knn, X_train, y_train, X_valid, y_valid)"
   ],
   "id": "9664a69c35621224",
   "outputs": [
    {
     "name": "stdout",
     "output_type": "stream",
     "text": [
      "\n",
      "                                                Classification Report\n",
      "                         Train Report                                      Validation Report\n",
      "              precision    recall  f1-score   support         precision    recall  f1-score   support\n",
      "         0-1       0.62      0.46      0.53    378005              0.58      0.43      0.49      4522\n",
      "         1-0       0.64      0.44      0.52    392248              0.62      0.43      0.50      4764\n",
      "     1/2-1/2       0.07      0.83      0.13     20431              0.04      0.55      0.08       240\n",
      "    accuracy                           0.46    790684                                  0.43      9526\n",
      "   macro avg       0.44      0.58      0.39    790684              0.41      0.47      0.36      9526\n",
      "weighted avg       0.61      0.46      0.51    790684              0.59      0.43      0.49      9526\n",
      "       \n"
     ]
    }
   ],
   "execution_count": 259
  },
  {
   "metadata": {},
   "cell_type": "code",
   "outputs": [],
   "execution_count": null,
   "source": "",
   "id": "f7a8cde877371f48"
  }
 ],
 "metadata": {
  "kernelspec": {
   "display_name": "Python 3",
   "language": "python",
   "name": "python3"
  },
  "language_info": {
   "codemirror_mode": {
    "name": "ipython",
    "version": 2
   },
   "file_extension": ".py",
   "mimetype": "text/x-python",
   "name": "python",
   "nbconvert_exporter": "python",
   "pygments_lexer": "ipython2",
   "version": "2.7.6"
  }
 },
 "nbformat": 4,
 "nbformat_minor": 5
}
