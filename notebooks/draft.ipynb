{
 "cells": [
  {
   "cell_type": "code",
   "id": "initial_id",
   "metadata": {
    "collapsed": true,
    "ExecuteTime": {
     "end_time": "2024-07-29T17:47:47.835008Z",
     "start_time": "2024-07-29T17:47:47.803953Z"
    }
   },
   "source": [
    "%load_ext autoreload\n",
    "%autoreload 2"
   ],
   "outputs": [],
   "execution_count": 1
  },
  {
   "metadata": {
    "ExecuteTime": {
     "end_time": "2024-07-29T18:40:23.519611Z",
     "start_time": "2024-07-29T18:40:23.498351Z"
    }
   },
   "cell_type": "code",
   "source": [
    "import os\n",
    "\n",
    "import pandas as pd\n",
    "import numpy as np\n",
    "\n",
    "from sklearn.linear_model import LogisticRegression\n",
    "from sklearn.ensemble import RandomForestClassifier\n",
    "from sklearn.preprocessing import StandardScaler\n",
    "from sklearn.model_selection import RandomizedSearchCV\n",
    "from sklearn.metrics import f1_score\n",
    "\n",
    "from chesswinnerprediction.baseline.utils import get_x_and_y, get_class_weights, print_combined_report, show_feature_importance\n",
    "from chesswinnerprediction.constants import PROCESSED_FOLDER_PATH"
   ],
   "id": "c221dcf6f1b7ba69",
   "outputs": [],
   "execution_count": 100
  },
  {
   "metadata": {
    "ExecuteTime": {
     "end_time": "2024-07-29T17:47:49.230390Z",
     "start_time": "2024-07-29T17:47:49.210804Z"
    }
   },
   "cell_type": "code",
   "source": [
    "data_dir = \"lichess_db_standard_rated_2017-05\"\n",
    "data_path = os.path.join(PROCESSED_FOLDER_PATH, data_dir)"
   ],
   "id": "26f30f239a674de6",
   "outputs": [],
   "execution_count": 3
  },
  {
   "metadata": {
    "ExecuteTime": {
     "end_time": "2024-07-29T17:47:53.552750Z",
     "start_time": "2024-07-29T17:47:49.231556Z"
    }
   },
   "cell_type": "code",
   "source": [
    "train_df = pd.read_csv(os.path.join(data_path, \"train.csv\"))\n",
    "valid_df = pd.read_csv(os.path.join(data_path, \"valid.csv\"))"
   ],
   "id": "9ec1c30c2d45ab12",
   "outputs": [],
   "execution_count": 4
  },
  {
   "metadata": {
    "ExecuteTime": {
     "end_time": "2024-07-29T17:47:53.570106Z",
     "start_time": "2024-07-29T17:47:53.554667Z"
    }
   },
   "cell_type": "code",
   "source": [
    "BASELINE_COLUMNS = [\n",
    "    \"Result\",\n",
    "    \"EloDiff\",\n",
    "    \"WhiteElo\",\n",
    "    \"BlackElo\",\n",
    "    \"Event\",\n",
    "    \"BaseTime\",\n",
    "    \"IncrementTime\",\n",
    "    \"ZeroIncrementTime\"\n",
    "]\n",
    "\n",
    "columns_to_scale = [\"WhiteElo\", \"BlackElo\", \"EloDiff\", \"BaseTime\", \"IncrementTime\"]"
   ],
   "id": "3c561e2f8d607687",
   "outputs": [],
   "execution_count": 5
  },
  {
   "metadata": {
    "ExecuteTime": {
     "end_time": "2024-07-29T17:47:53.589448Z",
     "start_time": "2024-07-29T17:47:53.571300Z"
    }
   },
   "cell_type": "code",
   "source": [
    "def transform_and_scale_df(df, scaler: StandardScaler, fit_scale=True):\n",
    "    X = df[BASELINE_COLUMNS].copy()\n",
    "    X = pd.get_dummies(X, columns=[\"Event\"], dtype=np.int8, prefix=\"\", prefix_sep=\"\")\n",
    "    if fit_scale:\n",
    "        X[columns_to_scale] = scaler.fit_transform(X[columns_to_scale])\n",
    "    else:\n",
    "        X[columns_to_scale] = scaler.transform(X[columns_to_scale])\n",
    "    return X"
   ],
   "id": "9f0c32bd59404224",
   "outputs": [],
   "execution_count": 6
  },
  {
   "metadata": {
    "ExecuteTime": {
     "end_time": "2024-07-29T17:47:53.775609Z",
     "start_time": "2024-07-29T17:47:53.590915Z"
    }
   },
   "cell_type": "code",
   "source": [
    "std_scaler = StandardScaler()\n",
    "train_data = transform_and_scale_df(train_df, std_scaler)\n",
    "valid_data = transform_and_scale_df(valid_df, std_scaler, fit_scale=False)"
   ],
   "id": "59a3f8a97e823dcb",
   "outputs": [],
   "execution_count": 7
  },
  {
   "metadata": {
    "ExecuteTime": {
     "end_time": "2024-07-29T17:47:53.954784Z",
     "start_time": "2024-07-29T17:47:53.776603Z"
    }
   },
   "cell_type": "code",
   "source": "class_weights = get_class_weights(train_df[\"Result\"], verbose=True)",
   "id": "46dd835dc0133cdf",
   "outputs": [
    {
     "name": "stdout",
     "output_type": "stream",
     "text": [
      "Class weights:\n",
      "\t1-0: 0.6718789964523187\n",
      "\t0-1: 0.6971858059373535\n",
      "\t1/2-1/2: 12.936795431862432\n"
     ]
    }
   ],
   "execution_count": 8
  },
  {
   "metadata": {
    "ExecuteTime": {
     "end_time": "2024-07-29T17:47:54.444351Z",
     "start_time": "2024-07-29T17:47:54.403050Z"
    }
   },
   "cell_type": "code",
   "source": [
    "x_train_data, y_train = get_x_and_y(train_data, predict_draws=True)\n",
    "x_valid_data, y_valid = get_x_and_y(valid_data, predict_draws=True)"
   ],
   "id": "ff88f0d022add37c",
   "outputs": [],
   "execution_count": 9
  },
  {
   "metadata": {
    "ExecuteTime": {
     "end_time": "2024-07-29T17:47:55.142578Z",
     "start_time": "2024-07-29T17:47:55.106359Z"
    }
   },
   "cell_type": "code",
   "source": [
    "# r_model = LogisticRegression(\n",
    "#     tol=2e-4,\n",
    "#     class_weight=class_weights,\n",
    "#     max_iter=500,\n",
    "#     penalty=\"l2\",\n",
    "#     solver=\"saga\"\n",
    "# )"
   ],
   "id": "910c2530524de71e",
   "outputs": [],
   "execution_count": 10
  },
  {
   "metadata": {
    "ExecuteTime": {
     "end_time": "2024-07-29T17:47:55.320182Z",
     "start_time": "2024-07-29T17:47:55.300170Z"
    }
   },
   "cell_type": "code",
   "source": "# r_model.fit(x_train_data, y_train)",
   "id": "b4c144c90927de82",
   "outputs": [],
   "execution_count": 11
  },
  {
   "metadata": {
    "ExecuteTime": {
     "end_time": "2024-07-29T18:27:24.976921Z",
     "start_time": "2024-07-29T18:27:24.962157Z"
    }
   },
   "cell_type": "code",
   "source": [
    "def my_score(model, x_data, y_data):\n",
    "    y_pred = model.predict(x_data)    \n",
    "    weighted_f1 = f1_score(y_data, y_pred, average=\"weighted\")\n",
    "    return weighted_f1"
   ],
   "id": "5fc1534edfaa1c70",
   "outputs": [],
   "execution_count": 86
  },
  {
   "metadata": {
    "ExecuteTime": {
     "end_time": "2024-07-29T19:36:50.271818Z",
     "start_time": "2024-07-29T19:36:50.236577Z"
    }
   },
   "cell_type": "code",
   "source": [
    "param_grid = {\n",
    "    \"n_estimators\": [15, 20, 30, 40],\n",
    "    \"max_depth\": [8, 9, 10, 11, 12],\n",
    "    \"max_features\": [len(x_train_data.columns), \"sqrt\", 0.5],\n",
    "    \"min_samples_split\": [3, 5, 10, 15, 20],\n",
    "    \"min_samples_leaf\": [2, 3, 5, 8],\n",
    "    \"min_impurity_decrease\": [0.0, 0.0001, 0.0002, 0.0005],\n",
    "}\n",
    "\n",
    "forest_clf = RandomForestClassifier(class_weight=class_weights, verbose=0, n_jobs=-1)\n",
    "\n",
    "\n",
    "random_search = RandomizedSearchCV(\n",
    "    estimator=forest_clf, \n",
    "    param_distributions=param_grid, \n",
    "    n_iter=8,\n",
    "    cv=2, \n",
    "    verbose=4, \n",
    "    random_state=42, \n",
    "    scoring=\"recall_macro\", \n",
    "    return_train_score=True,\n",
    "   # n_jobs=-1\n",
    ")"
   ],
   "id": "5899f91ac5478b3e",
   "outputs": [],
   "execution_count": 162
  },
  {
   "metadata": {
    "ExecuteTime": {
     "end_time": "2024-07-29T19:38:10.540169Z",
     "start_time": "2024-07-29T19:36:50.649725Z"
    }
   },
   "cell_type": "code",
   "source": [
    "# Fit the random search model\n",
    "random_search.fit(x_train_data, y_train)\n",
    "\n",
    "# Print the best parameters and best estimator\n",
    "print(f\"Best Parameters: {random_search.best_params_}\")\n",
    "best_forest_clf = random_search.best_estimator_\n",
    "print(f\"Best Estimator: {best_forest_clf}\")"
   ],
   "id": "1de96540e639e5a4",
   "outputs": [
    {
     "name": "stdout",
     "output_type": "stream",
     "text": [
      "Fitting 2 folds for each of 8 candidates, totalling 16 fits\n",
      "[CV 1/2] END max_depth=8, max_features=0.5, min_impurity_decrease=0.0002, min_samples_leaf=8, min_samples_split=3, n_estimators=15;, score=(train=0.470, test=0.462) total time=   4.7s\n",
      "[CV 2/2] END max_depth=8, max_features=0.5, min_impurity_decrease=0.0002, min_samples_leaf=8, min_samples_split=3, n_estimators=15;, score=(train=0.468, test=0.467) total time=   4.6s\n",
      "[CV 1/2] END max_depth=11, max_features=0.5, min_impurity_decrease=0.0005, min_samples_leaf=2, min_samples_split=15, n_estimators=15;, score=(train=0.465, test=0.458) total time=   4.6s\n",
      "[CV 2/2] END max_depth=11, max_features=0.5, min_impurity_decrease=0.0005, min_samples_leaf=2, min_samples_split=15, n_estimators=15;, score=(train=0.463, test=0.464) total time=   4.4s\n",
      "[CV 1/2] END max_depth=11, max_features=auto, min_impurity_decrease=0.0002, min_samples_leaf=5, min_samples_split=15, n_estimators=15;, score=(train=nan, test=nan) total time=   0.0s\n",
      "[CV 2/2] END max_depth=11, max_features=auto, min_impurity_decrease=0.0002, min_samples_leaf=5, min_samples_split=15, n_estimators=15;, score=(train=nan, test=nan) total time=   0.0s\n",
      "[CV 1/2] END max_depth=8, max_features=sqrt, min_impurity_decrease=0.0001, min_samples_leaf=8, min_samples_split=5, n_estimators=30;, score=(train=0.470, test=0.462) total time=   5.1s\n",
      "[CV 2/2] END max_depth=8, max_features=sqrt, min_impurity_decrease=0.0001, min_samples_leaf=8, min_samples_split=5, n_estimators=30;, score=(train=0.468, test=0.467) total time=   5.7s\n",
      "[CV 1/2] END max_depth=12, max_features=sqrt, min_impurity_decrease=0.0005, min_samples_leaf=3, min_samples_split=5, n_estimators=30;, score=(train=0.460, test=0.455) total time=   5.4s\n",
      "[CV 2/2] END max_depth=12, max_features=sqrt, min_impurity_decrease=0.0005, min_samples_leaf=3, min_samples_split=5, n_estimators=30;, score=(train=0.459, test=0.462) total time=   4.8s\n",
      "[CV 1/2] END max_depth=11, max_features=sqrt, min_impurity_decrease=0.0005, min_samples_leaf=2, min_samples_split=5, n_estimators=15;, score=(train=0.462, test=0.455) total time=   3.8s\n",
      "[CV 2/2] END max_depth=11, max_features=sqrt, min_impurity_decrease=0.0005, min_samples_leaf=2, min_samples_split=5, n_estimators=15;, score=(train=0.462, test=0.463) total time=   4.5s\n",
      "[CV 1/2] END max_depth=11, max_features=auto, min_impurity_decrease=0.0005, min_samples_leaf=5, min_samples_split=10, n_estimators=40;, score=(train=nan, test=nan) total time=   0.0s\n",
      "[CV 2/2] END max_depth=11, max_features=auto, min_impurity_decrease=0.0005, min_samples_leaf=5, min_samples_split=10, n_estimators=40;, score=(train=nan, test=nan) total time=   0.0s\n",
      "[CV 1/2] END max_depth=11, max_features=auto, min_impurity_decrease=0.0, min_samples_leaf=3, min_samples_split=20, n_estimators=40;, score=(train=nan, test=nan) total time=   0.0s\n",
      "[CV 2/2] END max_depth=11, max_features=auto, min_impurity_decrease=0.0, min_samples_leaf=3, min_samples_split=20, n_estimators=40;, score=(train=nan, test=nan) total time=   0.0s\n"
     ]
    },
    {
     "name": "stderr",
     "output_type": "stream",
     "text": [
      "/home/tikhon/PycharmProjects/ChessWinnerPrediction/.venv/lib/python3.11/site-packages/sklearn/model_selection/_validation.py:540: FitFailedWarning: \n",
      "6 fits failed out of a total of 16.\n",
      "The score on these train-test partitions for these parameters will be set to nan.\n",
      "If these failures are not expected, you can try to debug them by setting error_score='raise'.\n",
      "\n",
      "Below are more details about the failures:\n",
      "--------------------------------------------------------------------------------\n",
      "6 fits failed with the following error:\n",
      "Traceback (most recent call last):\n",
      "  File \"/home/tikhon/PycharmProjects/ChessWinnerPrediction/.venv/lib/python3.11/site-packages/sklearn/model_selection/_validation.py\", line 888, in _fit_and_score\n",
      "    estimator.fit(X_train, y_train, **fit_params)\n",
      "  File \"/home/tikhon/PycharmProjects/ChessWinnerPrediction/.venv/lib/python3.11/site-packages/sklearn/base.py\", line 1466, in wrapper\n",
      "    estimator._validate_params()\n",
      "  File \"/home/tikhon/PycharmProjects/ChessWinnerPrediction/.venv/lib/python3.11/site-packages/sklearn/base.py\", line 666, in _validate_params\n",
      "    validate_parameter_constraints(\n",
      "  File \"/home/tikhon/PycharmProjects/ChessWinnerPrediction/.venv/lib/python3.11/site-packages/sklearn/utils/_param_validation.py\", line 95, in validate_parameter_constraints\n",
      "    raise InvalidParameterError(\n",
      "sklearn.utils._param_validation.InvalidParameterError: The 'max_features' parameter of RandomForestClassifier must be an int in the range [1, inf), a float in the range (0.0, 1.0], a str among {'log2', 'sqrt'} or None. Got 'auto' instead.\n",
      "\n",
      "  warnings.warn(some_fits_failed_message, FitFailedWarning)\n",
      "/home/tikhon/PycharmProjects/ChessWinnerPrediction/.venv/lib/python3.11/site-packages/sklearn/model_selection/_search.py:1102: UserWarning: One or more of the test scores are non-finite: [0.46481233 0.46075843        nan 0.46456587 0.45820824 0.45899669\n",
      "        nan        nan]\n",
      "  warnings.warn(\n",
      "/home/tikhon/PycharmProjects/ChessWinnerPrediction/.venv/lib/python3.11/site-packages/sklearn/model_selection/_search.py:1102: UserWarning: One or more of the train scores are non-finite: [0.46893397 0.46386254        nan 0.46934349 0.45945499 0.46167208\n",
      "        nan        nan]\n",
      "  warnings.warn(\n"
     ]
    },
    {
     "name": "stdout",
     "output_type": "stream",
     "text": [
      "Best Parameters: {'n_estimators': 15, 'min_samples_split': 3, 'min_samples_leaf': 8, 'min_impurity_decrease': 0.0002, 'max_features': 0.5, 'max_depth': 8}\n",
      "Best Estimator: RandomForestClassifier(class_weight={'0-1': np.float64(0.6971858059373535),\n",
      "                                     '1-0': np.float64(0.6718789964523187),\n",
      "                                     '1/2-1/2': np.float64(12.936795431862432)},\n",
      "                       max_depth=8, max_features=0.5,\n",
      "                       min_impurity_decrease=0.0002, min_samples_leaf=8,\n",
      "                       min_samples_split=3, n_estimators=15, n_jobs=-1)\n"
     ]
    }
   ],
   "execution_count": 163
  },
  {
   "metadata": {
    "ExecuteTime": {
     "end_time": "2024-07-29T19:39:19.813220Z",
     "start_time": "2024-07-29T19:39:19.798421Z"
    }
   },
   "cell_type": "code",
   "source": "print(f\"Best Score: {random_search.best_score_}\")",
   "id": "3fa784687fbf1894",
   "outputs": [
    {
     "name": "stdout",
     "output_type": "stream",
     "text": [
      "Best Score: 0.46481233479194184\n"
     ]
    }
   ],
   "execution_count": 164
  },
  {
   "metadata": {
    "ExecuteTime": {
     "end_time": "2024-07-29T19:39:26.816228Z",
     "start_time": "2024-07-29T19:39:21.983307Z"
    }
   },
   "cell_type": "code",
   "source": "best_forest_clf.fit(x_train_data, y_train)",
   "id": "d0bd08f7cd2581fe",
   "outputs": [
    {
     "data": {
      "text/plain": [
       "RandomForestClassifier(class_weight={'0-1': np.float64(0.6971858059373535),\n",
       "                                     '1-0': np.float64(0.6718789964523187),\n",
       "                                     '1/2-1/2': np.float64(12.936795431862432)},\n",
       "                       max_depth=8, max_features=0.5,\n",
       "                       min_impurity_decrease=0.0002, min_samples_leaf=8,\n",
       "                       min_samples_split=3, n_estimators=15, n_jobs=-1)"
      ],
      "text/html": [
       "<style>#sk-container-id-17 {\n",
       "  /* Definition of color scheme common for light and dark mode */\n",
       "  --sklearn-color-text: black;\n",
       "  --sklearn-color-line: gray;\n",
       "  /* Definition of color scheme for unfitted estimators */\n",
       "  --sklearn-color-unfitted-level-0: #fff5e6;\n",
       "  --sklearn-color-unfitted-level-1: #f6e4d2;\n",
       "  --sklearn-color-unfitted-level-2: #ffe0b3;\n",
       "  --sklearn-color-unfitted-level-3: chocolate;\n",
       "  /* Definition of color scheme for fitted estimators */\n",
       "  --sklearn-color-fitted-level-0: #f0f8ff;\n",
       "  --sklearn-color-fitted-level-1: #d4ebff;\n",
       "  --sklearn-color-fitted-level-2: #b3dbfd;\n",
       "  --sklearn-color-fitted-level-3: cornflowerblue;\n",
       "\n",
       "  /* Specific color for light theme */\n",
       "  --sklearn-color-text-on-default-background: var(--sg-text-color, var(--theme-code-foreground, var(--jp-content-font-color1, black)));\n",
       "  --sklearn-color-background: var(--sg-background-color, var(--theme-background, var(--jp-layout-color0, white)));\n",
       "  --sklearn-color-border-box: var(--sg-text-color, var(--theme-code-foreground, var(--jp-content-font-color1, black)));\n",
       "  --sklearn-color-icon: #696969;\n",
       "\n",
       "  @media (prefers-color-scheme: dark) {\n",
       "    /* Redefinition of color scheme for dark theme */\n",
       "    --sklearn-color-text-on-default-background: var(--sg-text-color, var(--theme-code-foreground, var(--jp-content-font-color1, white)));\n",
       "    --sklearn-color-background: var(--sg-background-color, var(--theme-background, var(--jp-layout-color0, #111)));\n",
       "    --sklearn-color-border-box: var(--sg-text-color, var(--theme-code-foreground, var(--jp-content-font-color1, white)));\n",
       "    --sklearn-color-icon: #878787;\n",
       "  }\n",
       "}\n",
       "\n",
       "#sk-container-id-17 {\n",
       "  color: var(--sklearn-color-text);\n",
       "}\n",
       "\n",
       "#sk-container-id-17 pre {\n",
       "  padding: 0;\n",
       "}\n",
       "\n",
       "#sk-container-id-17 input.sk-hidden--visually {\n",
       "  border: 0;\n",
       "  clip: rect(1px 1px 1px 1px);\n",
       "  clip: rect(1px, 1px, 1px, 1px);\n",
       "  height: 1px;\n",
       "  margin: -1px;\n",
       "  overflow: hidden;\n",
       "  padding: 0;\n",
       "  position: absolute;\n",
       "  width: 1px;\n",
       "}\n",
       "\n",
       "#sk-container-id-17 div.sk-dashed-wrapped {\n",
       "  border: 1px dashed var(--sklearn-color-line);\n",
       "  margin: 0 0.4em 0.5em 0.4em;\n",
       "  box-sizing: border-box;\n",
       "  padding-bottom: 0.4em;\n",
       "  background-color: var(--sklearn-color-background);\n",
       "}\n",
       "\n",
       "#sk-container-id-17 div.sk-container {\n",
       "  /* jupyter's `normalize.less` sets `[hidden] { display: none; }`\n",
       "     but bootstrap.min.css set `[hidden] { display: none !important; }`\n",
       "     so we also need the `!important` here to be able to override the\n",
       "     default hidden behavior on the sphinx rendered scikit-learn.org.\n",
       "     See: https://github.com/scikit-learn/scikit-learn/issues/21755 */\n",
       "  display: inline-block !important;\n",
       "  position: relative;\n",
       "}\n",
       "\n",
       "#sk-container-id-17 div.sk-text-repr-fallback {\n",
       "  display: none;\n",
       "}\n",
       "\n",
       "div.sk-parallel-item,\n",
       "div.sk-serial,\n",
       "div.sk-item {\n",
       "  /* draw centered vertical line to link estimators */\n",
       "  background-image: linear-gradient(var(--sklearn-color-text-on-default-background), var(--sklearn-color-text-on-default-background));\n",
       "  background-size: 2px 100%;\n",
       "  background-repeat: no-repeat;\n",
       "  background-position: center center;\n",
       "}\n",
       "\n",
       "/* Parallel-specific style estimator block */\n",
       "\n",
       "#sk-container-id-17 div.sk-parallel-item::after {\n",
       "  content: \"\";\n",
       "  width: 100%;\n",
       "  border-bottom: 2px solid var(--sklearn-color-text-on-default-background);\n",
       "  flex-grow: 1;\n",
       "}\n",
       "\n",
       "#sk-container-id-17 div.sk-parallel {\n",
       "  display: flex;\n",
       "  align-items: stretch;\n",
       "  justify-content: center;\n",
       "  background-color: var(--sklearn-color-background);\n",
       "  position: relative;\n",
       "}\n",
       "\n",
       "#sk-container-id-17 div.sk-parallel-item {\n",
       "  display: flex;\n",
       "  flex-direction: column;\n",
       "}\n",
       "\n",
       "#sk-container-id-17 div.sk-parallel-item:first-child::after {\n",
       "  align-self: flex-end;\n",
       "  width: 50%;\n",
       "}\n",
       "\n",
       "#sk-container-id-17 div.sk-parallel-item:last-child::after {\n",
       "  align-self: flex-start;\n",
       "  width: 50%;\n",
       "}\n",
       "\n",
       "#sk-container-id-17 div.sk-parallel-item:only-child::after {\n",
       "  width: 0;\n",
       "}\n",
       "\n",
       "/* Serial-specific style estimator block */\n",
       "\n",
       "#sk-container-id-17 div.sk-serial {\n",
       "  display: flex;\n",
       "  flex-direction: column;\n",
       "  align-items: center;\n",
       "  background-color: var(--sklearn-color-background);\n",
       "  padding-right: 1em;\n",
       "  padding-left: 1em;\n",
       "}\n",
       "\n",
       "\n",
       "/* Toggleable style: style used for estimator/Pipeline/ColumnTransformer box that is\n",
       "clickable and can be expanded/collapsed.\n",
       "- Pipeline and ColumnTransformer use this feature and define the default style\n",
       "- Estimators will overwrite some part of the style using the `sk-estimator` class\n",
       "*/\n",
       "\n",
       "/* Pipeline and ColumnTransformer style (default) */\n",
       "\n",
       "#sk-container-id-17 div.sk-toggleable {\n",
       "  /* Default theme specific background. It is overwritten whether we have a\n",
       "  specific estimator or a Pipeline/ColumnTransformer */\n",
       "  background-color: var(--sklearn-color-background);\n",
       "}\n",
       "\n",
       "/* Toggleable label */\n",
       "#sk-container-id-17 label.sk-toggleable__label {\n",
       "  cursor: pointer;\n",
       "  display: block;\n",
       "  width: 100%;\n",
       "  margin-bottom: 0;\n",
       "  padding: 0.5em;\n",
       "  box-sizing: border-box;\n",
       "  text-align: center;\n",
       "}\n",
       "\n",
       "#sk-container-id-17 label.sk-toggleable__label-arrow:before {\n",
       "  /* Arrow on the left of the label */\n",
       "  content: \"▸\";\n",
       "  float: left;\n",
       "  margin-right: 0.25em;\n",
       "  color: var(--sklearn-color-icon);\n",
       "}\n",
       "\n",
       "#sk-container-id-17 label.sk-toggleable__label-arrow:hover:before {\n",
       "  color: var(--sklearn-color-text);\n",
       "}\n",
       "\n",
       "/* Toggleable content - dropdown */\n",
       "\n",
       "#sk-container-id-17 div.sk-toggleable__content {\n",
       "  max-height: 0;\n",
       "  max-width: 0;\n",
       "  overflow: hidden;\n",
       "  text-align: left;\n",
       "  /* unfitted */\n",
       "  background-color: var(--sklearn-color-unfitted-level-0);\n",
       "}\n",
       "\n",
       "#sk-container-id-17 div.sk-toggleable__content.fitted {\n",
       "  /* fitted */\n",
       "  background-color: var(--sklearn-color-fitted-level-0);\n",
       "}\n",
       "\n",
       "#sk-container-id-17 div.sk-toggleable__content pre {\n",
       "  margin: 0.2em;\n",
       "  border-radius: 0.25em;\n",
       "  color: var(--sklearn-color-text);\n",
       "  /* unfitted */\n",
       "  background-color: var(--sklearn-color-unfitted-level-0);\n",
       "}\n",
       "\n",
       "#sk-container-id-17 div.sk-toggleable__content.fitted pre {\n",
       "  /* unfitted */\n",
       "  background-color: var(--sklearn-color-fitted-level-0);\n",
       "}\n",
       "\n",
       "#sk-container-id-17 input.sk-toggleable__control:checked~div.sk-toggleable__content {\n",
       "  /* Expand drop-down */\n",
       "  max-height: 200px;\n",
       "  max-width: 100%;\n",
       "  overflow: auto;\n",
       "}\n",
       "\n",
       "#sk-container-id-17 input.sk-toggleable__control:checked~label.sk-toggleable__label-arrow:before {\n",
       "  content: \"▾\";\n",
       "}\n",
       "\n",
       "/* Pipeline/ColumnTransformer-specific style */\n",
       "\n",
       "#sk-container-id-17 div.sk-label input.sk-toggleable__control:checked~label.sk-toggleable__label {\n",
       "  color: var(--sklearn-color-text);\n",
       "  background-color: var(--sklearn-color-unfitted-level-2);\n",
       "}\n",
       "\n",
       "#sk-container-id-17 div.sk-label.fitted input.sk-toggleable__control:checked~label.sk-toggleable__label {\n",
       "  background-color: var(--sklearn-color-fitted-level-2);\n",
       "}\n",
       "\n",
       "/* Estimator-specific style */\n",
       "\n",
       "/* Colorize estimator box */\n",
       "#sk-container-id-17 div.sk-estimator input.sk-toggleable__control:checked~label.sk-toggleable__label {\n",
       "  /* unfitted */\n",
       "  background-color: var(--sklearn-color-unfitted-level-2);\n",
       "}\n",
       "\n",
       "#sk-container-id-17 div.sk-estimator.fitted input.sk-toggleable__control:checked~label.sk-toggleable__label {\n",
       "  /* fitted */\n",
       "  background-color: var(--sklearn-color-fitted-level-2);\n",
       "}\n",
       "\n",
       "#sk-container-id-17 div.sk-label label.sk-toggleable__label,\n",
       "#sk-container-id-17 div.sk-label label {\n",
       "  /* The background is the default theme color */\n",
       "  color: var(--sklearn-color-text-on-default-background);\n",
       "}\n",
       "\n",
       "/* On hover, darken the color of the background */\n",
       "#sk-container-id-17 div.sk-label:hover label.sk-toggleable__label {\n",
       "  color: var(--sklearn-color-text);\n",
       "  background-color: var(--sklearn-color-unfitted-level-2);\n",
       "}\n",
       "\n",
       "/* Label box, darken color on hover, fitted */\n",
       "#sk-container-id-17 div.sk-label.fitted:hover label.sk-toggleable__label.fitted {\n",
       "  color: var(--sklearn-color-text);\n",
       "  background-color: var(--sklearn-color-fitted-level-2);\n",
       "}\n",
       "\n",
       "/* Estimator label */\n",
       "\n",
       "#sk-container-id-17 div.sk-label label {\n",
       "  font-family: monospace;\n",
       "  font-weight: bold;\n",
       "  display: inline-block;\n",
       "  line-height: 1.2em;\n",
       "}\n",
       "\n",
       "#sk-container-id-17 div.sk-label-container {\n",
       "  text-align: center;\n",
       "}\n",
       "\n",
       "/* Estimator-specific */\n",
       "#sk-container-id-17 div.sk-estimator {\n",
       "  font-family: monospace;\n",
       "  border: 1px dotted var(--sklearn-color-border-box);\n",
       "  border-radius: 0.25em;\n",
       "  box-sizing: border-box;\n",
       "  margin-bottom: 0.5em;\n",
       "  /* unfitted */\n",
       "  background-color: var(--sklearn-color-unfitted-level-0);\n",
       "}\n",
       "\n",
       "#sk-container-id-17 div.sk-estimator.fitted {\n",
       "  /* fitted */\n",
       "  background-color: var(--sklearn-color-fitted-level-0);\n",
       "}\n",
       "\n",
       "/* on hover */\n",
       "#sk-container-id-17 div.sk-estimator:hover {\n",
       "  /* unfitted */\n",
       "  background-color: var(--sklearn-color-unfitted-level-2);\n",
       "}\n",
       "\n",
       "#sk-container-id-17 div.sk-estimator.fitted:hover {\n",
       "  /* fitted */\n",
       "  background-color: var(--sklearn-color-fitted-level-2);\n",
       "}\n",
       "\n",
       "/* Specification for estimator info (e.g. \"i\" and \"?\") */\n",
       "\n",
       "/* Common style for \"i\" and \"?\" */\n",
       "\n",
       ".sk-estimator-doc-link,\n",
       "a:link.sk-estimator-doc-link,\n",
       "a:visited.sk-estimator-doc-link {\n",
       "  float: right;\n",
       "  font-size: smaller;\n",
       "  line-height: 1em;\n",
       "  font-family: monospace;\n",
       "  background-color: var(--sklearn-color-background);\n",
       "  border-radius: 1em;\n",
       "  height: 1em;\n",
       "  width: 1em;\n",
       "  text-decoration: none !important;\n",
       "  margin-left: 1ex;\n",
       "  /* unfitted */\n",
       "  border: var(--sklearn-color-unfitted-level-1) 1pt solid;\n",
       "  color: var(--sklearn-color-unfitted-level-1);\n",
       "}\n",
       "\n",
       ".sk-estimator-doc-link.fitted,\n",
       "a:link.sk-estimator-doc-link.fitted,\n",
       "a:visited.sk-estimator-doc-link.fitted {\n",
       "  /* fitted */\n",
       "  border: var(--sklearn-color-fitted-level-1) 1pt solid;\n",
       "  color: var(--sklearn-color-fitted-level-1);\n",
       "}\n",
       "\n",
       "/* On hover */\n",
       "div.sk-estimator:hover .sk-estimator-doc-link:hover,\n",
       ".sk-estimator-doc-link:hover,\n",
       "div.sk-label-container:hover .sk-estimator-doc-link:hover,\n",
       ".sk-estimator-doc-link:hover {\n",
       "  /* unfitted */\n",
       "  background-color: var(--sklearn-color-unfitted-level-3);\n",
       "  color: var(--sklearn-color-background);\n",
       "  text-decoration: none;\n",
       "}\n",
       "\n",
       "div.sk-estimator.fitted:hover .sk-estimator-doc-link.fitted:hover,\n",
       ".sk-estimator-doc-link.fitted:hover,\n",
       "div.sk-label-container:hover .sk-estimator-doc-link.fitted:hover,\n",
       ".sk-estimator-doc-link.fitted:hover {\n",
       "  /* fitted */\n",
       "  background-color: var(--sklearn-color-fitted-level-3);\n",
       "  color: var(--sklearn-color-background);\n",
       "  text-decoration: none;\n",
       "}\n",
       "\n",
       "/* Span, style for the box shown on hovering the info icon */\n",
       ".sk-estimator-doc-link span {\n",
       "  display: none;\n",
       "  z-index: 9999;\n",
       "  position: relative;\n",
       "  font-weight: normal;\n",
       "  right: .2ex;\n",
       "  padding: .5ex;\n",
       "  margin: .5ex;\n",
       "  width: min-content;\n",
       "  min-width: 20ex;\n",
       "  max-width: 50ex;\n",
       "  color: var(--sklearn-color-text);\n",
       "  box-shadow: 2pt 2pt 4pt #999;\n",
       "  /* unfitted */\n",
       "  background: var(--sklearn-color-unfitted-level-0);\n",
       "  border: .5pt solid var(--sklearn-color-unfitted-level-3);\n",
       "}\n",
       "\n",
       ".sk-estimator-doc-link.fitted span {\n",
       "  /* fitted */\n",
       "  background: var(--sklearn-color-fitted-level-0);\n",
       "  border: var(--sklearn-color-fitted-level-3);\n",
       "}\n",
       "\n",
       ".sk-estimator-doc-link:hover span {\n",
       "  display: block;\n",
       "}\n",
       "\n",
       "/* \"?\"-specific style due to the `<a>` HTML tag */\n",
       "\n",
       "#sk-container-id-17 a.estimator_doc_link {\n",
       "  float: right;\n",
       "  font-size: 1rem;\n",
       "  line-height: 1em;\n",
       "  font-family: monospace;\n",
       "  background-color: var(--sklearn-color-background);\n",
       "  border-radius: 1rem;\n",
       "  height: 1rem;\n",
       "  width: 1rem;\n",
       "  text-decoration: none;\n",
       "  /* unfitted */\n",
       "  color: var(--sklearn-color-unfitted-level-1);\n",
       "  border: var(--sklearn-color-unfitted-level-1) 1pt solid;\n",
       "}\n",
       "\n",
       "#sk-container-id-17 a.estimator_doc_link.fitted {\n",
       "  /* fitted */\n",
       "  border: var(--sklearn-color-fitted-level-1) 1pt solid;\n",
       "  color: var(--sklearn-color-fitted-level-1);\n",
       "}\n",
       "\n",
       "/* On hover */\n",
       "#sk-container-id-17 a.estimator_doc_link:hover {\n",
       "  /* unfitted */\n",
       "  background-color: var(--sklearn-color-unfitted-level-3);\n",
       "  color: var(--sklearn-color-background);\n",
       "  text-decoration: none;\n",
       "}\n",
       "\n",
       "#sk-container-id-17 a.estimator_doc_link.fitted:hover {\n",
       "  /* fitted */\n",
       "  background-color: var(--sklearn-color-fitted-level-3);\n",
       "}\n",
       "</style><div id=\"sk-container-id-17\" class=\"sk-top-container\"><div class=\"sk-text-repr-fallback\"><pre>RandomForestClassifier(class_weight={&#x27;0-1&#x27;: np.float64(0.6971858059373535),\n",
       "                                     &#x27;1-0&#x27;: np.float64(0.6718789964523187),\n",
       "                                     &#x27;1/2-1/2&#x27;: np.float64(12.936795431862432)},\n",
       "                       max_depth=8, max_features=0.5,\n",
       "                       min_impurity_decrease=0.0002, min_samples_leaf=8,\n",
       "                       min_samples_split=3, n_estimators=15, n_jobs=-1)</pre><b>In a Jupyter environment, please rerun this cell to show the HTML representation or trust the notebook. <br />On GitHub, the HTML representation is unable to render, please try loading this page with nbviewer.org.</b></div><div class=\"sk-container\" hidden><div class=\"sk-item\"><div class=\"sk-estimator fitted sk-toggleable\"><input class=\"sk-toggleable__control sk-hidden--visually\" id=\"sk-estimator-id-17\" type=\"checkbox\" checked><label for=\"sk-estimator-id-17\" class=\"sk-toggleable__label fitted sk-toggleable__label-arrow fitted\">&nbsp;&nbsp;RandomForestClassifier<a class=\"sk-estimator-doc-link fitted\" rel=\"noreferrer\" target=\"_blank\" href=\"https://scikit-learn.org/1.5/modules/generated/sklearn.ensemble.RandomForestClassifier.html\">?<span>Documentation for RandomForestClassifier</span></a><span class=\"sk-estimator-doc-link fitted\">i<span>Fitted</span></span></label><div class=\"sk-toggleable__content fitted\"><pre>RandomForestClassifier(class_weight={&#x27;0-1&#x27;: np.float64(0.6971858059373535),\n",
       "                                     &#x27;1-0&#x27;: np.float64(0.6718789964523187),\n",
       "                                     &#x27;1/2-1/2&#x27;: np.float64(12.936795431862432)},\n",
       "                       max_depth=8, max_features=0.5,\n",
       "                       min_impurity_decrease=0.0002, min_samples_leaf=8,\n",
       "                       min_samples_split=3, n_estimators=15, n_jobs=-1)</pre></div> </div></div></div></div>"
      ]
     },
     "execution_count": 165,
     "metadata": {},
     "output_type": "execute_result"
    }
   ],
   "execution_count": 165
  },
  {
   "metadata": {
    "ExecuteTime": {
     "end_time": "2024-07-29T19:39:52.836471Z",
     "start_time": "2024-07-29T19:39:27.579209Z"
    }
   },
   "cell_type": "code",
   "source": "print_combined_report(best_forest_clf, x_train_data, x_valid_data, y_train, y_valid)",
   "id": "7ac775cd5951d0b3",
   "outputs": [
    {
     "name": "stdout",
     "output_type": "stream",
     "text": [
      "\t\t\t\t\t\t Train Report \t\t\t\t\t\t\t\t\t Validation Report\n",
      "              precision    recall  f1-score   support         precision    recall  f1-score   support\n",
      "         0-1       0.61      0.41      0.49    378036              0.61      0.40      0.49     45521\n",
      "         1-0       0.61      0.43      0.50    392275              0.61      0.43      0.51     47220\n",
      "     1/2-1/2       0.04      0.57      0.08     20373              0.05      0.57      0.08      2522\n",
      "    accuracy                           0.42    790684                                  0.42     95263\n",
      "   macro avg       0.42      0.47      0.36    790684              0.42      0.47      0.36     95263\n",
      "weighted avg       0.59      0.42      0.48    790684              0.59      0.42      0.49     95263\n",
      "       \n"
     ]
    }
   ],
   "execution_count": 166
  },
  {
   "metadata": {
    "ExecuteTime": {
     "end_time": "2024-07-29T19:40:01.784095Z",
     "start_time": "2024-07-29T19:40:01.621161Z"
    }
   },
   "cell_type": "code",
   "source": "show_feature_importance(best_forest_clf, best_forest_clf.feature_importances_)",
   "id": "3aa4ca1d79ca8ed",
   "outputs": [
    {
     "data": {
      "text/plain": [
       "<Figure size 640x480 with 1 Axes>"
      ],
      "image/png": "[encoded data removed]"
     },
     "metadata": {},
     "output_type": "display_data"
    }
   ],
   "execution_count": 167
  },
  {
   "metadata": {},
   "cell_type": "code",
   "outputs": [],
   "execution_count": null,
   "source": "",
   "id": "b5df6aa19b7c30b8"
  }
 ],
 "metadata": {
  "kernelspec": {
   "display_name": "Python 3",
   "language": "python",
   "name": "python3"
  },
  "language_info": {
   "codemirror_mode": {
    "name": "ipython",
    "version": 2
   },
   "file_extension": ".py",
   "mimetype": "text/x-python",
   "name": "python",
   "nbconvert_exporter": "python",
   "pygments_lexer": "ipython2",
   "version": "2.7.6"
  }
 },
 "nbformat": 4,
 "nbformat_minor": 5
}
