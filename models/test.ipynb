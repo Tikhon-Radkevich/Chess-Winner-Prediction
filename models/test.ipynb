{
 "cells": [
  {
   "cell_type": "code",
   "id": "initial_id",
   "metadata": {
    "collapsed": true,
    "ExecuteTime": {
     "end_time": "2024-07-23T10:13:21.305536Z",
     "start_time": "2024-07-23T10:13:21.302190Z"
    }
   },
   "source": [
    "import warnings\n",
    "\n",
    "\n",
    "import numpy as np\n",
    "from sklearn.linear_model import LogisticRegression\n",
    "from sklearn.datasets import make_classification\n",
    "from sklearn.model_selection import train_test_split\n",
    "from sklearn.metrics import classification_report, accuracy_score, precision_score, recall_score, confusion_matrix, ConfusionMatrixDisplay\n",
    "from sklearn.utils.class_weight import compute_class_weight\n",
    "from sklearn.exceptions import ConvergenceWarning\n",
    "\n",
    "import matplotlib.pyplot as plt"
   ],
   "execution_count": 497,
   "outputs": []
  },
  {
   "metadata": {
    "ExecuteTime": {
     "end_time": "2024-07-23T10:16:00.179167Z",
     "start_time": "2024-07-23T10:16:00.099068Z"
    }
   },
   "cell_type": "code",
   "source": [
    "X, y = make_classification(\n",
    "    n_samples=100000, \n",
    "    n_features=10, \n",
    "    n_classes=3, \n",
    "    n_informative=10, \n",
    "    n_redundant=0,\n",
    "    weights=[0.49, 0.49, 0.02], \n",
    "    random_state=42\n",
    ")\n",
    "\n",
    "class_weights = compute_class_weight(\"balanced\", classes=np.unique(y), y=y)\n",
    "class_weights = dict(enumerate(class_weights))\n",
    "\n",
    "X_train, X_test, y_train, y_test = train_test_split(X, y, test_size=0.1, random_state=42)"
   ],
   "id": "a690aedad849e916",
   "execution_count": 512,
   "outputs": []
  },
  {
   "metadata": {
    "ExecuteTime": {
     "end_time": "2024-07-23T10:16:00.626830Z",
     "start_time": "2024-07-23T10:16:00.622574Z"
    }
   },
   "cell_type": "code",
   "source": "class_weights",
   "id": "43bd42fea1d7a4b4",
   "execution_count": 513,
   "outputs": []
  },
  {
   "metadata": {
    "ExecuteTime": {
     "end_time": "2024-07-23T10:16:03.788632Z",
     "start_time": "2024-07-23T10:16:00.901907Z"
    }
   },
   "cell_type": "code",
   "source": [
    "clf = LogisticRegression(class_weight=class_weights, random_state=42, max_iter=1, warm_start=True, solver='liblinear')\n",
    "\n",
    "\n",
    "train_accuracies = []\n",
    "test_accuracies = []\n",
    "train_precisions = []\n",
    "test_precisions = []\n",
    "train_recalls = []\n",
    "test_recalls = []\n",
    "\n",
    "iterations = 6\n",
    "for i in range(iterations):\n",
    "    with warnings.catch_warnings():\n",
    "        warnings.filterwarnings(\"ignore\", category=ConvergenceWarning, module=\"sklearn\")\n",
    "        clf.fit(X_train, y_train)\n",
    "    \n",
    "    # Predict on training and test data\n",
    "    y_train_pred = clf.predict(X_train)\n",
    "    y_test_pred = clf.predict(X_test)\n",
    "    \n",
    "    # Calculate accuracy\n",
    "    train_acc = accuracy_score(y_train, y_train_pred)\n",
    "    test_acc = accuracy_score(y_test, y_test_pred)\n",
    "    \n",
    "    # Store the accuracies\n",
    "    train_accuracies.append(train_acc)\n",
    "    test_accuracies.append(test_acc)\n",
    "    \n",
    "    # Calculate precision and recall\n",
    "    train_prec = precision_score(y_train, y_train_pred, average='macro')\n",
    "    test_prec = precision_score(y_test, y_test_pred, average='macro')\n",
    "    train_rec = recall_score(y_train, y_train_pred, average='macro')\n",
    "    test_rec = recall_score(y_test, y_test_pred, average='macro')\n",
    "    \n",
    "    # Store precision and recall\n",
    "    train_precisions.append(train_prec)\n",
    "    test_precisions.append(test_prec)\n",
    "    train_recalls.append(train_rec)\n",
    "    test_recalls.append(test_rec)\n",
    "    \n",
    "    # Increment the number of iterations for the next fit\n",
    "    clf.max_iter += 1\n",
    "\n",
    "# Plot the accuracies\n",
    "plt.figure(figsize=(12, 6))\n",
    "\n",
    "plt.subplot(1, 3, 1)\n",
    "plt.plot(range(1, iterations + 1), train_accuracies, label='Train Accuracy')\n",
    "plt.plot(range(1, iterations + 1), test_accuracies, label='Test Accuracy')\n",
    "plt.xlabel('Iterations')\n",
    "plt.ylabel('Accuracy')\n",
    "plt.title('Accuracy after each iteration')\n",
    "plt.legend()\n",
    "\n",
    "# Plot the precision\n",
    "plt.subplot(1, 3, 2)\n",
    "plt.plot(range(1, iterations + 1), train_precisions, label='Train Precision')\n",
    "plt.plot(range(1, iterations + 1), test_precisions, label='Test Precision')\n",
    "plt.xlabel('Iterations')\n",
    "plt.ylabel('Precision')\n",
    "plt.title('Precision after each iteration')\n",
    "plt.legend()\n",
    "\n",
    "# Plot the recall\n",
    "plt.subplot(1, 3, 3)\n",
    "plt.plot(range(1, iterations + 1), train_recalls, label='Train Recall')\n",
    "plt.plot(range(1, iterations + 1), test_recalls, label='Test Recall')\n",
    "plt.xlabel('Iterations')\n",
    "plt.ylabel('Recall')\n",
    "plt.title('Recall after each iteration')\n",
    "plt.legend()\n",
    "\n",
    "plt.tight_layout()\n",
    "plt.show()\n"
   ],
   "id": "c9beffdb71813131",
   "execution_count": 514,
   "outputs": []
  },
  {
   "metadata": {
    "ExecuteTime": {
     "end_time": "2024-07-23T10:16:04.293607Z",
     "start_time": "2024-07-23T10:16:04.142737Z"
    }
   },
   "cell_type": "code",
   "source": [
    "# Confusion matrix for the final iteration\n",
    "conf_matrix = confusion_matrix(y_test, y_test_pred)\n",
    "disp = ConfusionMatrixDisplay(confusion_matrix=conf_matrix)\n",
    "disp.plot(cmap=plt.cm.Blues)\n",
    "plt.title('Confusion Matrix')\n",
    "plt.show()"
   ],
   "id": "8f73622961c11908",
   "execution_count": 515,
   "outputs": []
  },
  {
   "metadata": {
    "ExecuteTime": {
     "end_time": "2024-07-23T10:14:37.563009Z",
     "start_time": "2024-07-23T10:14:37.558436Z"
    }
   },
   "cell_type": "code",
   "source": "clf.predict([X[0]])",
   "id": "24a75e6b9605c6b2",
   "execution_count": 507,
   "outputs": []
  },
  {
   "metadata": {},
   "cell_type": "code",
   "execution_count": null,
   "source": "",
   "id": "64a537c187503b30",
   "outputs": []
  }
 ],
 "metadata": {
  "kernelspec": {
   "display_name": "Python 3",
   "language": "python",
   "name": "python3"
  },
  "language_info": {
   "codemirror_mode": {
    "name": "ipython",
    "version": 2
   },
   "file_extension": ".py",
   "mimetype": "text/x-python",
   "name": "python",
   "nbconvert_exporter": "python",
   "pygments_lexer": "ipython2",
   "version": "2.7.6"
  }
 },
 "nbformat": 4,
 "nbformat_minor": 5
}
